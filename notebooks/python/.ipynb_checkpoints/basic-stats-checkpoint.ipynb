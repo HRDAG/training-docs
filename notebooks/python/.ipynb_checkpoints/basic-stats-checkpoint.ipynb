{
 "cells": [
  {
   "cell_type": "code",
   "execution_count": 26,
   "metadata": {},
   "outputs": [],
   "source": [
    "# dependencies\n",
    "import numpy as np\n",
    "import pandas as pd\n",
    "import statistics\n",
    "from scipy.stats import trimboth, trim_mean"
   ]
  },
  {
   "cell_type": "markdown",
   "metadata": {},
   "source": [
    "## Techniques\n",
    "There are several techniques you've probably heard in a class or an article that represent some statistical method applied to some data. The most common of these are:\n",
    "\n",
    "- count\n",
    "- mean \n",
    "- standard deviation\n",
    "- median\n",
    "- mode\n",
    "- range\n",
    "- percentiles"
   ]
  },
  {
   "cell_type": "code",
   "execution_count": 30,
   "metadata": {},
   "outputs": [
    {
     "data": {
      "text/html": [
       "<div>\n",
       "<style scoped>\n",
       "    .dataframe tbody tr th:only-of-type {\n",
       "        vertical-align: middle;\n",
       "    }\n",
       "\n",
       "    .dataframe tbody tr th {\n",
       "        vertical-align: top;\n",
       "    }\n",
       "\n",
       "    .dataframe thead th {\n",
       "        text-align: right;\n",
       "    }\n",
       "</style>\n",
       "<table border=\"1\" class=\"dataframe\">\n",
       "  <thead>\n",
       "    <tr style=\"text-align: right;\">\n",
       "      <th></th>\n",
       "      <th>price</th>\n",
       "    </tr>\n",
       "  </thead>\n",
       "  <tbody>\n",
       "    <tr>\n",
       "      <th>house_a</th>\n",
       "      <td>198300.0</td>\n",
       "    </tr>\n",
       "    <tr>\n",
       "      <th>house_b</th>\n",
       "      <td>2385000.0</td>\n",
       "    </tr>\n",
       "    <tr>\n",
       "      <th>house_c</th>\n",
       "      <td>658200.0</td>\n",
       "    </tr>\n",
       "    <tr>\n",
       "      <th>house_d</th>\n",
       "      <td>NaN</td>\n",
       "    </tr>\n",
       "    <tr>\n",
       "      <th>house_e</th>\n",
       "      <td>658200.0</td>\n",
       "    </tr>\n",
       "  </tbody>\n",
       "</table>\n",
       "</div>"
      ],
      "text/plain": [
       "             price\n",
       "house_a   198300.0\n",
       "house_b  2385000.0\n",
       "house_c   658200.0\n",
       "house_d        NaN\n",
       "house_e   658200.0"
      ]
     },
     "execution_count": 30,
     "metadata": {},
     "output_type": "execute_result"
    }
   ],
   "source": [
    "prices = [198300, 2385000, 658200, np.nan, 658200]\n",
    "indices = ['house_a', 'house_b', 'house_c', 'house_d', 'house_e']\n",
    "\n",
    "prices_df = pd.DataFrame(data, index=indices, columns=['price'])\n",
    "prices_df"
   ]
  },
  {
   "cell_type": "markdown",
   "metadata": {},
   "source": [
    "### `nan` handling"
   ]
  },
  {
   "cell_type": "markdown",
   "metadata": {},
   "source": [
    "#### different version, different default approach\n",
    "Note that different library versions of the same statistical method may handle missing data in different ways. Where one chooses to halt on missing values, others skip over `nan` and continue performing the operation."
   ]
  },
  {
   "cell_type": "code",
   "execution_count": 28,
   "metadata": {},
   "outputs": [
    {
     "name": "stdout",
     "output_type": "stream",
     "text": [
      "658200\n"
     ]
    }
   ],
   "source": [
    "print(mode(prices))"
   ]
  },
  {
   "cell_type": "code",
   "execution_count": 33,
   "metadata": {},
   "outputs": [
    {
     "name": "stdout",
     "output_type": "stream",
     "text": [
      "nan\n",
      "nan\n",
      "nan\n"
     ]
    }
   ],
   "source": [
    "print(np.median(prices))\n",
    "print(np.mean(prices))\n",
    "print(np.std(prices))"
   ]
  },
  {
   "cell_type": "code",
   "execution_count": 32,
   "metadata": {},
   "outputs": [
    {
     "name": "stdout",
     "output_type": "stream",
     "text": [
      "658200\n",
      "658200\n",
      "nan\n",
      "nan\n"
     ]
    }
   ],
   "source": [
    "print(statistics.mode(prices))\n",
    "print(statistics.median(prices))\n",
    "print(statistics.mean(prices))\n",
    "print(statistics.stdev(prices))"
   ]
  },
  {
   "cell_type": "code",
   "execution_count": 20,
   "metadata": {},
   "outputs": [
    {
     "data": {
      "text/html": [
       "<div>\n",
       "<style scoped>\n",
       "    .dataframe tbody tr th:only-of-type {\n",
       "        vertical-align: middle;\n",
       "    }\n",
       "\n",
       "    .dataframe tbody tr th {\n",
       "        vertical-align: top;\n",
       "    }\n",
       "\n",
       "    .dataframe thead th {\n",
       "        text-align: right;\n",
       "    }\n",
       "</style>\n",
       "<table border=\"1\" class=\"dataframe\">\n",
       "  <thead>\n",
       "    <tr style=\"text-align: right;\">\n",
       "      <th></th>\n",
       "      <th>price</th>\n",
       "    </tr>\n",
       "  </thead>\n",
       "  <tbody>\n",
       "    <tr>\n",
       "      <th>count</th>\n",
       "      <td>3.000</td>\n",
       "    </tr>\n",
       "    <tr>\n",
       "      <th>mean</th>\n",
       "      <td>1080500.000</td>\n",
       "    </tr>\n",
       "    <tr>\n",
       "      <th>std</th>\n",
       "      <td>1152895.134</td>\n",
       "    </tr>\n",
       "    <tr>\n",
       "      <th>min</th>\n",
       "      <td>198300.000</td>\n",
       "    </tr>\n",
       "    <tr>\n",
       "      <th>25%</th>\n",
       "      <td>428250.000</td>\n",
       "    </tr>\n",
       "    <tr>\n",
       "      <th>50%</th>\n",
       "      <td>658200.000</td>\n",
       "    </tr>\n",
       "    <tr>\n",
       "      <th>75%</th>\n",
       "      <td>1521600.000</td>\n",
       "    </tr>\n",
       "    <tr>\n",
       "      <th>max</th>\n",
       "      <td>2385000.000</td>\n",
       "    </tr>\n",
       "  </tbody>\n",
       "</table>\n",
       "</div>"
      ],
      "text/plain": [
       "             price\n",
       "count        3.000\n",
       "mean   1080500.000\n",
       "std    1152895.134\n",
       "min     198300.000\n",
       "25%     428250.000\n",
       "50%     658200.000\n",
       "75%    1521600.000\n",
       "max    2385000.000"
      ]
     },
     "execution_count": 20,
     "metadata": {},
     "output_type": "execute_result"
    }
   ],
   "source": [
    "prices_df.describe()"
   ]
  },
  {
   "cell_type": "code",
   "execution_count": 4,
   "metadata": {},
   "outputs": [
    {
     "name": "stdout",
     "output_type": "stream",
     "text": [
      "<class 'pandas.core.frame.DataFrame'>\n",
      "Index: 3 entries, house_a to house_c\n",
      "Data columns (total 1 columns):\n",
      " #   Column  Non-Null Count  Dtype\n",
      "---  ------  --------------  -----\n",
      " 0   price   3 non-null      int64\n",
      "dtypes: int64(1)\n",
      "memory usage: 48.0+ bytes\n"
     ]
    }
   ],
   "source": [
    "prices_df.info()"
   ]
  },
  {
   "cell_type": "markdown",
   "metadata": {},
   "source": [
    "### Similar or relevant techniques\n",
    "\n",
    "In some cases, our data may have a small number of outliers. Depending on how realistic the outliers are in context, it can be useful to perform a modified approach to something like a basic mean when evaluating the descriptive statistics of a dataset.\n",
    "\n",
    "When our outliers make sense for the data we have, a trimmed mean allows you to cut a specified proportion of the tails of the data off and then evaluate the mean. \n",
    "- `trim_mean(arr, 0.01)`: Takes `arr` and sorts the contents, then slices off the left and rightmost tails \n",
    "- clip()"
   ]
  },
  {
   "cell_type": "code",
   "execution_count": 5,
   "metadata": {},
   "outputs": [
    {
     "name": "stdout",
     "output_type": "stream",
     "text": [
      "dataset: [1, 25, 156, 78, 465, 12312, 98, 5651, 75615]\n",
      "mean:\t 10489.0\n"
     ]
    }
   ],
   "source": [
    "data = [1, 25, 156, 78, 465, 12312, 98, 5651, 75615]\n",
    "\n",
    "print('dataset:', data)\n",
    "print('mean:\\t', np.mean(data))"
   ]
  },
  {
   "cell_type": "code",
   "execution_count": 6,
   "metadata": {},
   "outputs": [
    {
     "name": "stdout",
     "output_type": "stream",
     "text": [
      "new dataset [    1    98    25    78   156   465  5651 12312 75615]\n",
      "new mean:t 10489.0\n"
     ]
    }
   ],
   "source": [
    "trimmed_data = trimboth(data, 0.05)\n",
    "\n",
    "print('new dataset', trimmed_data)\n",
    "print('new mean:t', np.mean(trimmed_data))"
   ]
  },
  {
   "cell_type": "code",
   "execution_count": 7,
   "metadata": {},
   "outputs": [
    {
     "data": {
      "text/plain": [
       "2683.5714285714284"
      ]
     },
     "execution_count": 7,
     "metadata": {},
     "output_type": "execute_result"
    }
   ],
   "source": [
    "trim_mean(data, .2)"
   ]
  },
  {
   "cell_type": "code",
   "execution_count": null,
   "metadata": {},
   "outputs": [],
   "source": []
  }
 ],
 "metadata": {
  "kernelspec": {
   "display_name": "Python 3",
   "language": "python",
   "name": "python3"
  },
  "language_info": {
   "codemirror_mode": {
    "name": "ipython",
    "version": 3
   },
   "file_extension": ".py",
   "mimetype": "text/x-python",
   "name": "python",
   "nbconvert_exporter": "python",
   "pygments_lexer": "ipython3",
   "version": "3.7.3"
  }
 },
 "nbformat": 4,
 "nbformat_minor": 4
}
