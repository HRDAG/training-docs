{
 "cells": [
  {
   "cell_type": "code",
   "execution_count": 1,
   "metadata": {},
   "outputs": [],
   "source": [
    "import numpy as np\n",
    "import pandas as pd"
   ]
  },
  {
   "cell_type": "markdown",
   "metadata": {},
   "source": []
  },
  {
   "cell_type": "code",
   "execution_count": 1,
   "metadata": {},
   "outputs": [
    {
     "name": "stdout",
     "output_type": "stream",
     "text": [
      "LEVEL1_ICACHE_SIZE                 32768\r\n",
      "LEVEL1_ICACHE_ASSOC                8\r\n",
      "LEVEL1_ICACHE_LINESIZE             64\r\n",
      "LEVEL1_DCACHE_SIZE                 32768\r\n",
      "LEVEL1_DCACHE_ASSOC                8\r\n",
      "LEVEL1_DCACHE_LINESIZE             64\r\n",
      "LEVEL2_CACHE_SIZE                  262144\r\n",
      "LEVEL2_CACHE_ASSOC                 8\r\n",
      "LEVEL2_CACHE_LINESIZE              64\r\n",
      "LEVEL3_CACHE_SIZE                  36700160\r\n",
      "LEVEL3_CACHE_ASSOC                 20\r\n",
      "LEVEL3_CACHE_LINESIZE              64\r\n",
      "LEVEL4_CACHE_SIZE                  0\r\n",
      "LEVEL4_CACHE_ASSOC                 0\r\n",
      "LEVEL4_CACHE_LINESIZE              0\r\n"
     ]
    }
   ],
   "source": [
    "!getconf -a | grep CACHE"
   ]
  },
  {
   "cell_type": "code",
   "execution_count": null,
   "metadata": {},
   "outputs": [],
   "source": [
    "df.values.nbytes"
   ]
  },
  {
   "cell_type": "markdown",
   "metadata": {},
   "source": [
    "### Performance\n",
    "\n",
    "The `%time` line command measures the execution time of a given line and returns the CPU and wall time of execution."
   ]
  },
  {
   "cell_type": "code",
   "execution_count": 2,
   "metadata": {},
   "outputs": [
    {
     "name": "stdout",
     "output_type": "stream",
     "text": [
      "CPU times: user 47.1 ms, sys: 6.46 ms, total: 53.6 ms\n",
      "Wall time: 53.1 ms\n"
     ]
    }
   ],
   "source": [
    "%time out = [i*i for i in range(1000000)]"
   ]
  },
  {
   "cell_type": "markdown",
   "metadata": {},
   "source": [
    "`%timeit` executes the command given as input for 7 rounds where each round executes code 10 times totaling 70 times by default. It takes the best of each iteration in each round and gives time measurement with standard deviation. Below are some useful arguments of the command.\n",
    "\n",
    "- `n <loops>`: It accepts integer value specifying number of iteration per round.\n",
    "- `r <runs>`: It accepts integer value specifying number of rounds to test timer.\n",
    "- `t`: This option forces `%timeit` to use time.time to measure time which returns wall time.\n",
    "- `c`: This option forces `%timeit` to use time.clock to measure time which returns CPU time.\n",
    "- `q`: This option instructs `%timeit` to not print results to the output.\n",
    "- `o`: This option returns TimeitResult object.\n",
    "\n",
    "[Source](https://coderzcolumn.com/tutorials/python/list-of-useful-magic-commands-in-jupyter-notebook-lab)"
   ]
  },
  {
   "cell_type": "code",
   "execution_count": 3,
   "metadata": {},
   "outputs": [
    {
     "name": "stdout",
     "output_type": "stream",
     "text": [
      "57.1 ms ± 481 µs per loop (mean ± std. dev. of 7 runs, 10 loops each)\n"
     ]
    }
   ],
   "source": [
    "%timeit out = [i*i for i in range(1000000)]"
   ]
  },
  {
   "cell_type": "markdown",
   "metadata": {},
   "source": [
    "## Next up...\n",
    "- `%doctest_mode`\n",
    "- `%prun` (has blob to copy and format), `%%prun`\n",
    "- `%lprun`\n",
    "- `%memit`, `%mprun`\n",
    "- `%%time`, `%%timeit`\n",
    "\n",
    "\n",
    "- [snakeviz](https://coderzcolumn.com/tutorials/python/snakeviz-visualize-profiling-results-in-python)\n",
    "- [memory_profiler](https://coderzcolumn.com/tutorials/python/how-to-profile-memory-usage-in-python-using-memory-profiler)\n",
    "- [line_profiler](https://coderzcolumn.com/tutorials/python/line-profiler-line-by-line-profiling-of-python-code)"
   ]
  },
  {
   "cell_type": "code",
   "execution_count": null,
   "metadata": {},
   "outputs": [],
   "source": []
  }
 ],
 "metadata": {
  "kernelspec": {
   "display_name": "Python 3",
   "language": "python",
   "name": "python3"
  },
  "language_info": {
   "codemirror_mode": {
    "name": "ipython",
    "version": 3
   },
   "file_extension": ".py",
   "mimetype": "text/x-python",
   "name": "python",
   "nbconvert_exporter": "python",
   "pygments_lexer": "ipython3",
   "version": "3.7.3"
  }
 },
 "nbformat": 4,
 "nbformat_minor": 5
}
