{
 "cells": [
  {
   "cell_type": "markdown",
   "metadata": {},
   "source": [
    "# Learning Goals\n",
    "In our [Principled Data Processing](https://www.youtube.com/watch?v=ZSunU9GQdcI) approach, we want to make our data analysis:\n",
    "- **auditable**\n",
    "     - the result of every task, where possible, can be tested by a different analyst in a different language\n",
    "- **reproducible**\n",
    "     - the same results can be rebuilt by any scientist with the same tools and code\n",
    "- **transparent**\n",
    "     - the result of every task is reviewable\n",
    "- **scalable**\n",
    "     - the task and results are well-suited for \"more than 2\" (datasets used, analysists contributing to codebase, reports written, etc.)\n",
    "\n",
    "There are some specific tools and functions we look for to achieve these characteristics in our code. This notebook is intended to introduce a number of these, provide some context, and stage some examples where possible.\n",
    "\n",
    "_Note: This notebook is formatted as an overview of many python topics, and is not a good example of principled data analysis using Jupyter notebooks. For tips on how to utilize Jupyter notebooks to write python scripts iteratively and quickly, ask Bailey!_"
   ]
  },
  {
   "cell_type": "code",
   "execution_count": 2,
   "metadata": {},
   "outputs": [],
   "source": [
    "# dependencies\n",
    "import argparse\n",
    "import logging\n",
    "import numpy as np\n",
    "import pandas as pd"
   ]
  },
  {
   "cell_type": "code",
   "execution_count": 1,
   "metadata": {},
   "outputs": [],
   "source": [
    "# support methods\n",
    "def print_thing_info( val ):\n",
    "    print('arg:\\t', val)\n",
    "    print('type:\\t', type(val))\n",
    "    print()\n",
    "\n",
    "def print_formula_info( a, b ):\n",
    "    c = a+b\n",
    "    print('formula:\\t', f'{a} + {b} = {c}')\n",
    "    print('result type:', type(c))\n",
    "    print()"
   ]
  },
  {
   "cell_type": "markdown",
   "metadata": {},
   "source": [
    "## Absolute basics\n",
    "We'll cover a few language-specific pointers here to get up to speed on some python syntax, and then we'll dive in to a few other topics related to principled data processing.\n",
    "\n",
    "If you need more information on python syntax and standard libraries, you're encouraged to ask questions, share code examples, and do a bit of googling. Also, check out:\n",
    "- [Python Data Science Handbook](https://jakevdp.github.io/PythonDataScienceHandbook/)\n",
    "- [the library of python books](https://wiki.python.org/moin/PythonBooks)\n",
    "- [python's built-in types](https://docs.python.org/3/library/stdtypes.html#)\n",
    "- [python's built-in functions](https://docs.python.org/3/library/functions.html)\n",
    "\n",
    "If you want more information on performance of different implementations in python, try:\n",
    "- [scalability.md](https://github.com/HRDAG/training-docs/blob/main/language-tips/python/scalability.md)\n",
    "- [time complexity](https://wiki.python.org/moin/TimeComplexity)\n",
    "- searching for topics related to a specific data structure plus 'documentation', 'time complexity', or 'trade offs'"
   ]
  },
  {
   "cell_type": "markdown",
   "metadata": {},
   "source": [
    "#### assignment examples"
   ]
  },
  {
   "cell_type": "code",
   "execution_count": 4,
   "metadata": {},
   "outputs": [],
   "source": [
    "test_int = 3\n",
    "test_float = 3.14\n",
    "test_nan = np.nan\n",
    "test_str = 'Hello'\n",
    "test_none = None"
   ]
  },
  {
   "cell_type": "code",
   "execution_count": 5,
   "metadata": {},
   "outputs": [
    {
     "name": "stdout",
     "output_type": "stream",
     "text": [
      "Assigned variables:\n",
      "===================\n",
      "arg:\t 3\n",
      "type:\t <class 'int'>\n",
      "\n",
      "arg:\t 3.14\n",
      "type:\t <class 'float'>\n",
      "\n",
      "arg:\t nan\n",
      "type:\t <class 'float'>\n",
      "\n",
      "arg:\t Hello\n",
      "type:\t <class 'str'>\n",
      "\n",
      "arg:\t None\n",
      "type:\t <class 'NoneType'>\n",
      "\n"
     ]
    }
   ],
   "source": [
    "print(\"Assigned variables:\")\n",
    "print(\"===================\")\n",
    "print_thing_info(test_int)\n",
    "print_thing_info(test_float)\n",
    "print_thing_info(test_nan)\n",
    "print_thing_info(test_str)\n",
    "print_thing_info(test_none)"
   ]
  },
  {
   "cell_type": "code",
   "execution_count": 6,
   "metadata": {},
   "outputs": [
    {
     "name": "stdout",
     "output_type": "stream",
     "text": [
      "Mixing types\n",
      "formula:\t 3 + 3.14 = 6.140000000000001\n",
      "result type: <class 'float'>\n",
      "\n",
      "formula:\t 3 + nan = nan\n",
      "result type: <class 'float'>\n",
      "\n"
     ]
    }
   ],
   "source": [
    "print(\"Mixing types\")\n",
    "print_formula_info(test_int, test_float)\n",
    "print_formula_info(test_int, test_nan)"
   ]
  },
  {
   "cell_type": "markdown",
   "metadata": {},
   "source": [
    "#### for loops\n",
    "Two common purposes:\n",
    "1. building a collection\n",
    "2. filtering a collection for a condition"
   ]
  },
  {
   "cell_type": "code",
   "execution_count": 9,
   "metadata": {},
   "outputs": [
    {
     "name": "stdout",
     "output_type": "stream",
     "text": [
      "a\n",
      "b\n"
     ]
    }
   ],
   "source": [
    "vals = ['a', 'b', 'c']\n",
    "for val in vals:\n",
    "    if val == 'a':\n",
    "        print(val)\n",
    "\n",
    "    \n",
    "for i in range(len(vals)):\n",
    "    val = vals[i]\n",
    "    if val == 'b':\n",
    "        print(val)"
   ]
  },
  {
   "cell_type": "code",
   "execution_count": 12,
   "metadata": {},
   "outputs": [
    {
     "data": {
      "text/html": [
       "<div>\n",
       "<style scoped>\n",
       "    .dataframe tbody tr th:only-of-type {\n",
       "        vertical-align: middle;\n",
       "    }\n",
       "\n",
       "    .dataframe tbody tr th {\n",
       "        vertical-align: top;\n",
       "    }\n",
       "\n",
       "    .dataframe thead th {\n",
       "        text-align: right;\n",
       "    }\n",
       "</style>\n",
       "<table border=\"1\" class=\"dataframe\">\n",
       "  <thead>\n",
       "    <tr style=\"text-align: right;\">\n",
       "      <th></th>\n",
       "      <th>age</th>\n",
       "      <th>record_id</th>\n",
       "    </tr>\n",
       "  </thead>\n",
       "  <tbody>\n",
       "    <tr>\n",
       "      <th>0</th>\n",
       "      <td>47</td>\n",
       "      <td>alkjfd23l</td>\n",
       "    </tr>\n",
       "  </tbody>\n",
       "</table>\n",
       "</div>"
      ],
      "text/plain": [
       "  age  record_id\n",
       "0  47  alkjfd23l"
      ]
     },
     "execution_count": 12,
     "metadata": {},
     "output_type": "execute_result"
    }
   ],
   "source": [
    "out = {0: {'record_id':'alkjfd23l', 'age': 47}}\n",
    "\n",
    "df = pd.DataFrame(out).T\n",
    "df.head()"
   ]
  },
  {
   "cell_type": "code",
   "execution_count": 16,
   "metadata": {},
   "outputs": [
    {
     "name": "stdout",
     "output_type": "stream",
     "text": [
      "age\n",
      "record_id\n"
     ]
    }
   ],
   "source": [
    "for idx, info_dict in df.T.to_dict().items():\n",
    "    for i in range(len(info_dict)):\n",
    "        key = list(info_dict.keys())[i]\n",
    "        print(key)"
   ]
  },
  {
   "cell_type": "code",
   "execution_count": 17,
   "metadata": {},
   "outputs": [
    {
     "data": {
      "text/html": [
       "<div>\n",
       "<style scoped>\n",
       "    .dataframe tbody tr th:only-of-type {\n",
       "        vertical-align: middle;\n",
       "    }\n",
       "\n",
       "    .dataframe tbody tr th {\n",
       "        vertical-align: top;\n",
       "    }\n",
       "\n",
       "    .dataframe thead th {\n",
       "        text-align: right;\n",
       "    }\n",
       "</style>\n",
       "<table border=\"1\" class=\"dataframe\">\n",
       "  <thead>\n",
       "    <tr style=\"text-align: right;\">\n",
       "      <th></th>\n",
       "      <th>age</th>\n",
       "      <th>record_id</th>\n",
       "    </tr>\n",
       "  </thead>\n",
       "  <tbody>\n",
       "    <tr>\n",
       "      <th>0</th>\n",
       "      <td>47</td>\n",
       "      <td>alkjfd23l</td>\n",
       "    </tr>\n",
       "  </tbody>\n",
       "</table>\n",
       "</div>"
      ],
      "text/plain": [
       "  age  record_id\n",
       "0  47  alkjfd23l"
      ]
     },
     "execution_count": 17,
     "metadata": {},
     "output_type": "execute_result"
    }
   ],
   "source": [
    "df.loc[df.age == 47]"
   ]
  },
  {
   "cell_type": "markdown",
   "metadata": {},
   "source": [
    "#### Collections\n",
    "Some data structures exist to give us the ability to collect multiple values and store them. There are several ways to intialize these variables:\n",
    "1. empty intialization\n",
    "2. initialization with values manually prescribed\n",
    "3. initialization with values prescribed by a comprehension formula"
   ]
  },
  {
   "cell_type": "code",
   "execution_count": 20,
   "metadata": {},
   "outputs": [],
   "source": [
    "empty_list = []\n",
    "hand_list = [0, 1, 2, 3, 4, 5]\n",
    "auto_list = [val for val in range(6)]\n",
    "\n",
    "empty_dict = {}\n",
    "hand_dict = {0:'a', 1:'a', 2:'a', 3:'a', 4:'a', 5:'a'}\n",
    "auto_dict = {key:'a' for key in hand_list}\n",
    "\n",
    "empty_set = set()\n",
    "hand_set = {0, 1, 2, 3, 4, 5}\n",
    "auto_set = {key for key in hand_list}"
   ]
  },
  {
   "cell_type": "code",
   "execution_count": 21,
   "metadata": {},
   "outputs": [
    {
     "name": "stdout",
     "output_type": "stream",
     "text": [
      "arg:\t []\n",
      "type:\t <class 'list'>\n",
      "\n",
      "arg:\t [0, 1, 2, 3, 4, 5]\n",
      "type:\t <class 'list'>\n",
      "\n",
      "arg:\t {}\n",
      "type:\t <class 'dict'>\n",
      "\n",
      "arg:\t {0: 'a', 1: 'a', 2: 'a', 3: 'a', 4: 'a', 5: 'a'}\n",
      "type:\t <class 'dict'>\n",
      "\n",
      "arg:\t set()\n",
      "type:\t <class 'set'>\n",
      "\n",
      "arg:\t {0, 1, 2, 3, 4, 5}\n",
      "type:\t <class 'set'>\n",
      "\n"
     ]
    }
   ],
   "source": [
    "print_thing_info(empty_list)\n",
    "print_thing_info(hand_list)\n",
    "print_thing_info(empty_dict)\n",
    "print_thing_info(hand_dict)\n",
    "print_thing_info(empty_set)\n",
    "print_thing_info(hand_set)"
   ]
  },
  {
   "cell_type": "code",
   "execution_count": 26,
   "metadata": {},
   "outputs": [
    {
     "data": {
      "text/plain": [
       "{'test'}"
      ]
     },
     "execution_count": 26,
     "metadata": {},
     "output_type": "execute_result"
    }
   ],
   "source": [
    "empty_set.add('test')\n",
    "empty_set"
   ]
  },
  {
   "cell_type": "code",
   "execution_count": 27,
   "metadata": {},
   "outputs": [
    {
     "name": "stdout",
     "output_type": "stream",
     "text": [
      "True\n",
      "True\n",
      "True\n"
     ]
    }
   ],
   "source": [
    "print(hand_list == auto_list)\n",
    "print(hand_dict == auto_dict)\n",
    "print(hand_set == auto_set)"
   ]
  },
  {
   "cell_type": "markdown",
   "metadata": {},
   "source": [
    "#### Booleans and conditionals"
   ]
  },
  {
   "cell_type": "code",
   "execution_count": 28,
   "metadata": {},
   "outputs": [
    {
     "name": "stdout",
     "output_type": "stream",
     "text": [
      "True\n",
      "wait what?\n"
     ]
    }
   ],
   "source": [
    "if True:\n",
    "    print('True')\n",
    "\n",
    "if 1:\n",
    "    print('wait what?')\n",
    "else:\n",
    "    print('I never print')"
   ]
  },
  {
   "cell_type": "code",
   "execution_count": 29,
   "metadata": {},
   "outputs": [],
   "source": [
    "test_vals = [1, 2, 3, np.nan, 5, 6, 7, 8, None, 10]"
   ]
  },
  {
   "cell_type": "code",
   "execution_count": 30,
   "metadata": {},
   "outputs": [
    {
     "name": "stdout",
     "output_type": "stream",
     "text": [
      "Check for missing data with `if`\n",
      "================================\n",
      "1\n",
      "2\n",
      "3\n",
      "nan\n",
      "5\n",
      "6\n",
      "7\n",
      "8\n",
      "10\n",
      "\n",
      "Check for missing data with `np.isnan()`\n",
      "========================================\n",
      "1\n",
      "2\n",
      "3\n",
      "5\n",
      "6\n",
      "7\n",
      "8\n"
     ]
    },
    {
     "ename": "TypeError",
     "evalue": "ufunc 'isnan' not supported for the input types, and the inputs could not be safely coerced to any supported types according to the casting rule ''safe''",
     "output_type": "error",
     "traceback": [
      "\u001b[0;31m---------------------------------------------------------------------------\u001b[0m",
      "\u001b[0;31mTypeError\u001b[0m                                 Traceback (most recent call last)",
      "Input \u001b[0;32mIn [30]\u001b[0m, in \u001b[0;36m<cell line: 10>\u001b[0;34m()\u001b[0m\n\u001b[1;32m     10\u001b[0m \u001b[38;5;28;01mfor\u001b[39;00m i \u001b[38;5;129;01min\u001b[39;00m \u001b[38;5;28mrange\u001b[39m(\u001b[38;5;28mlen\u001b[39m(test_vals)):\n\u001b[1;32m     11\u001b[0m     val \u001b[38;5;241m=\u001b[39m test_vals[i]\n\u001b[0;32m---> 12\u001b[0m     \u001b[38;5;28;01mif\u001b[39;00m \u001b[38;5;129;01mnot\u001b[39;00m \u001b[43mnp\u001b[49m\u001b[38;5;241;43m.\u001b[39;49m\u001b[43misnan\u001b[49m\u001b[43m(\u001b[49m\u001b[43mval\u001b[49m\u001b[43m)\u001b[49m:\n\u001b[1;32m     13\u001b[0m         \u001b[38;5;28mprint\u001b[39m(val)\n",
      "\u001b[0;31mTypeError\u001b[0m: ufunc 'isnan' not supported for the input types, and the inputs could not be safely coerced to any supported types according to the casting rule ''safe''"
     ]
    }
   ],
   "source": [
    "print(\"Check for missing data with `if`\")\n",
    "print(\"================================\")\n",
    "for val in test_vals:\n",
    "    if val:\n",
    "        print(val)\n",
    "\n",
    "print()\n",
    "print(\"Check for missing data with `np.isnan()`\")\n",
    "print(\"========================================\")\n",
    "for i in range(len(test_vals)):\n",
    "    val = test_vals[i]\n",
    "    if not np.isnan(val):\n",
    "        print(val)"
   ]
  },
  {
   "cell_type": "markdown",
   "metadata": {},
   "source": [
    "Check out the [missingness](https://github.com/HRDAG/training-docs/blob/main/language-tips/python/missingness.md) python doc in our training repo or the in-depth chapter in the Python Data Science Handbook [here](https://jakevdp.github.io/PythonDataScienceHandbook/03.04-missing-values.html) to learn more about this type error and handling missing data."
   ]
  },
  {
   "cell_type": "markdown",
   "metadata": {},
   "source": [
    "#### functions\n",
    "You might've noticed I created and called some functions before this section, and that's because I had a very repetitive series of instructions I wanted to run on mutiple inputs. Functions are encapsulated into 2 sets of rules:\n",
    "1. declaration\n",
    "2. calling"
   ]
  },
  {
   "cell_type": "code",
   "execution_count": 31,
   "metadata": {
    "scrolled": true
   },
   "outputs": [
    {
     "name": "stdout",
     "output_type": "stream",
     "text": [
      "test                                    1\n"
     ]
    }
   ],
   "source": [
    "def pretty_print( label, val ):\n",
    "    print('{:40}{}'.format(label, val))\n",
    "\n",
    "pretty_print('test', 1)"
   ]
  },
  {
   "cell_type": "markdown",
   "metadata": {},
   "source": [
    "## Running python scripts\n",
    "You can (and should) run python code as a script from the command line or as a target in a makefile. In order to do this effectively, there are 2 libraries, 1 command, and 1 logic block we can't live without."
   ]
  },
  {
   "cell_type": "markdown",
   "metadata": {},
   "source": [
    "#### libraries\n",
    "- `argparse` lets us handle arguments provided to the script call in the terminal"
   ]
  },
  {
   "cell_type": "code",
   "execution_count": null,
   "metadata": {},
   "outputs": [],
   "source": [
    "# argparse"
   ]
  },
  {
   "cell_type": "markdown",
   "metadata": {},
   "source": [
    "- `logging` lets us save info to a logfile that we can read later on to answer questions about our data at runtime, without having to reload our data or run the program again"
   ]
  },
  {
   "cell_type": "code",
   "execution_count": null,
   "metadata": {},
   "outputs": [],
   "source": [
    "# logging"
   ]
  },
  {
   "cell_type": "markdown",
   "metadata": {},
   "source": [
    "#### command\n",
    "- `assert` is a critical command that asks python to assert that something is true before proceeding. This function speaks to our ability to audit the data and be transparent in our approach. "
   ]
  },
  {
   "cell_type": "code",
   "execution_count": 32,
   "metadata": {},
   "outputs": [
    {
     "data": {
      "text/plain": [
       "(1, 2)"
      ]
     },
     "execution_count": 32,
     "metadata": {},
     "output_type": "execute_result"
    }
   ],
   "source": [
    "# checking df.shape\n",
    "df.shape"
   ]
  },
  {
   "cell_type": "code",
   "execution_count": 43,
   "metadata": {},
   "outputs": [
    {
     "name": "stdout",
     "output_type": "stream",
     "text": [
      "Index(['age', 'record_id'], dtype='object')\n"
     ]
    },
    {
     "ename": "AssertionError",
     "evalue": "",
     "output_type": "error",
     "traceback": [
      "\u001b[0;31m---------------------------------------------------------------------------\u001b[0m",
      "\u001b[0;31mAssertionError\u001b[0m                            Traceback (most recent call last)",
      "Input \u001b[0;32mIn [43]\u001b[0m, in \u001b[0;36m<cell line: 2>\u001b[0;34m()\u001b[0m\n\u001b[1;32m      1\u001b[0m \u001b[38;5;66;03m# all() to check columns after shape passes\u001b[39;00m\n\u001b[1;32m      2\u001b[0m \u001b[38;5;28;01mtry\u001b[39;00m:\n\u001b[0;32m----> 3\u001b[0m     \u001b[38;5;28;01massert\u001b[39;00m \u001b[38;5;28mall\u001b[39m(df\u001b[38;5;241m.\u001b[39mcolumns\u001b[38;5;241m.\u001b[39mtolist()) \u001b[38;5;241m==\u001b[39m [\u001b[38;5;124m'\u001b[39m\u001b[38;5;124mage\u001b[39m\u001b[38;5;124m'\u001b[39m, \u001b[38;5;124m'\u001b[39m\u001b[38;5;124mrecord_id\u001b[39m\u001b[38;5;124m'\u001b[39m]\n\u001b[1;32m      4\u001b[0m \u001b[38;5;28;01mexcept\u001b[39;00m:\n\u001b[1;32m      5\u001b[0m     \u001b[38;5;28mprint\u001b[39m(df\u001b[38;5;241m.\u001b[39mcolumns)\n",
      "\u001b[0;31mAssertionError\u001b[0m: "
     ]
    }
   ],
   "source": [
    "# all() to check columns after shape passes\n",
    "try:\n",
    "    assert all(df.columns.tolist()) == ['age', 'record_id']\n",
    "except:\n",
    "    print(df.columns)\n",
    "    raise"
   ]
  },
  {
   "cell_type": "code",
   "execution_count": 37,
   "metadata": {},
   "outputs": [
    {
     "data": {
      "text/plain": [
       "Index(['age', 'record_id'], dtype='object')"
      ]
     },
     "execution_count": 37,
     "metadata": {},
     "output_type": "execute_result"
    }
   ],
   "source": [
    "df.columns"
   ]
  },
  {
   "cell_type": "code",
   "execution_count": 41,
   "metadata": {},
   "outputs": [],
   "source": [
    "assert len(df['age'].unique()) == 1"
   ]
  },
  {
   "cell_type": "code",
   "execution_count": null,
   "metadata": {},
   "outputs": [],
   "source": [
    "# check to confirm a manipulation was successful"
   ]
  },
  {
   "cell_type": "markdown",
   "metadata": {},
   "source": [
    "#### logic block\n",
    "While we can technically run a .py file that doesn't contain a `if __name__ == '__main__'` block as a script, the instructions we can leave in the `main` block can synthesize our script as a program, and it signals something to the compiler that gives us the ability to pass arguments to the script, so it's an ideal inclusion to your py scripts."
   ]
  },
  {
   "cell_type": "code",
   "execution_count": null,
   "metadata": {},
   "outputs": [],
   "source": [
    "# jupyter notebooks run cells as mini-main blocks, so this conditional is always True\n",
    "if __name__ == '__main__':\n",
    "    print('name:\\t', __name__)\n",
    "    print('msg:\\t', 'Hello world')"
   ]
  },
  {
   "cell_type": "markdown",
   "metadata": {},
   "source": [
    "## Other useful libraries"
   ]
  },
  {
   "cell_type": "code",
   "execution_count": null,
   "metadata": {},
   "outputs": [],
   "source": [
    "# numpy\n",
    "# - stat methods"
   ]
  },
  {
   "cell_type": "code",
   "execution_count": null,
   "metadata": {},
   "outputs": [],
   "source": [
    "# pandas\n",
    "# - DataFrame\n",
    "# - Series\n",
    "# - suggested tutorial"
   ]
  }
 ],
 "metadata": {
  "kernelspec": {
   "display_name": "Python 3 (ipykernel)",
   "language": "python",
   "name": "python3"
  },
  "language_info": {
   "codemirror_mode": {
    "name": "ipython",
    "version": 3
   },
   "file_extension": ".py",
   "mimetype": "text/x-python",
   "name": "python",
   "nbconvert_exporter": "python",
   "pygments_lexer": "ipython3",
   "version": "3.9.10"
  }
 },
 "nbformat": 4,
 "nbformat_minor": 4
}
