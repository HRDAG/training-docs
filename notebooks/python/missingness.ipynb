{
 "cells": [
  {
   "cell_type": "code",
   "execution_count": 1,
   "id": "23c3a6f8",
   "metadata": {},
   "outputs": [],
   "source": [
    "# dependencies\n",
    "import datetime as dt\n",
    "import numpy as np\n",
    "import pandas as pd"
   ]
  },
  {
   "cell_type": "code",
   "execution_count": 2,
   "id": "fe0156e6",
   "metadata": {},
   "outputs": [],
   "source": [
    "# support methods\n",
    "def pretty_print(label, item):\n",
    "    print('{:20}{}'.format(label, item))"
   ]
  },
  {
   "cell_type": "markdown",
   "id": "9c3f6270",
   "metadata": {},
   "source": [
    "## checking for missingness in python"
   ]
  },
  {
   "cell_type": "code",
   "execution_count": 3,
   "id": "a345a5f5",
   "metadata": {},
   "outputs": [],
   "source": [
    "# Note that while \"np.nan\" is an accepted version of \"np.NaN\",\n",
    "# \"pd.nat\" is not accepted as \"pd.NaT\"\n",
    "nulls = [None, np.nan, np.datetime64('NaT'), pd.NaT]\n",
    "test_cases = [1, None, 2, np.nan, 3, np.datetime64('NaT'), 4, pd.NaT, 5]"
   ]
  },
  {
   "cell_type": "markdown",
   "id": "8e645438",
   "metadata": {},
   "source": [
    "What are the available null values and corresponding types?"
   ]
  },
  {
   "cell_type": "code",
   "execution_count": 4,
   "id": "2d84c273",
   "metadata": {},
   "outputs": [
    {
     "name": "stdout",
     "output_type": "stream",
     "text": [
      "None is <class 'NoneType'>\n",
      "nan is <class 'float'>\n",
      "NaT is <class 'numpy.datetime64'>\n",
      "NaT is <class 'pandas._libs.tslibs.nattype.NaTType'>\n"
     ]
    }
   ],
   "source": [
    "for val in nulls:\n",
    "    print(f'{val} is {type(val)}')"
   ]
  },
  {
   "cell_type": "code",
   "execution_count": 5,
   "id": "d7cb0292",
   "metadata": {},
   "outputs": [
    {
     "name": "stdout",
     "output_type": "stream",
     "text": [
      "By Boolean\n",
      "==========\n",
      "type:               <class 'int'>\n",
      "val:                1\n",
      "\n",
      "type:               <class 'int'>\n",
      "val:                2\n",
      "\n",
      "type:               <class 'float'>\n",
      "val:                nan\n",
      "\n",
      "type:               <class 'int'>\n",
      "val:                3\n",
      "\n",
      "type:               <class 'numpy.datetime64'>\n",
      "val:                NaT\n",
      "\n",
      "type:               <class 'int'>\n",
      "val:                4\n",
      "\n",
      "type:               <class 'pandas._libs.tslibs.nattype.NaTType'>\n",
      "val:                NaT\n",
      "\n",
      "type:               <class 'int'>\n",
      "val:                5\n",
      "\n",
      "\n",
      "By using !=\n",
      "===========\n",
      "type:               <class 'int'>\n",
      "val:                1\n",
      "\n",
      "type:               <class 'int'>\n",
      "val:                2\n",
      "\n",
      "type:               <class 'float'>\n",
      "val:                nan\n",
      "\n",
      "type:               <class 'int'>\n",
      "val:                3\n",
      "\n",
      "type:               <class 'numpy.datetime64'>\n",
      "val:                NaT\n",
      "\n",
      "type:               <class 'int'>\n",
      "val:                4\n",
      "\n",
      "type:               <class 'pandas._libs.tslibs.nattype.NaTType'>\n",
      "val:                NaT\n",
      "\n",
      "type:               <class 'int'>\n",
      "val:                5\n",
      "\n",
      "\n",
      "By using ==\n",
      "===========\n",
      "type:               <class 'int'>\n",
      "val:                1\n",
      "\n",
      "type:               <class 'int'>\n",
      "val:                2\n",
      "\n",
      "type:               <class 'float'>\n",
      "val:                nan\n",
      "\n",
      "type:               <class 'int'>\n",
      "val:                3\n",
      "\n",
      "type:               <class 'numpy.datetime64'>\n",
      "val:                NaT\n",
      "\n",
      "type:               <class 'int'>\n",
      "val:                4\n",
      "\n",
      "type:               <class 'pandas._libs.tslibs.nattype.NaTType'>\n",
      "val:                NaT\n",
      "\n",
      "type:               <class 'int'>\n",
      "val:                5\n",
      "\n",
      "\n",
      "By using is in\n",
      "==============\n",
      "type:               <class 'int'>\n",
      "val:                1\n",
      "\n",
      "type:               <class 'int'>\n",
      "val:                2\n",
      "\n",
      "type:               <class 'int'>\n",
      "val:                3\n",
      "\n",
      "type:               <class 'numpy.datetime64'>\n",
      "val:                NaT\n",
      "\n",
      "type:               <class 'int'>\n",
      "val:                4\n",
      "\n",
      "type:               <class 'int'>\n",
      "val:                5\n",
      "\n"
     ]
    },
    {
     "name": "stderr",
     "output_type": "stream",
     "text": [
      "/var/folders/j_/497vxglx1kz07md2f3v37jlw0000gn/T/ipykernel_2145/745427426.py:13: DeprecationWarning: elementwise comparison failed; this will raise an error in the future.\n",
      "  if (val != None) & (val != np.nan) & (val != np.datetime64('NaT')) & (val != pd.NaT):\n",
      "/var/folders/j_/497vxglx1kz07md2f3v37jlw0000gn/T/ipykernel_2145/745427426.py:21: DeprecationWarning: elementwise comparison failed; this will raise an error in the future.\n",
      "  if not ((val == None) | (val == np.nan) | (val == np.datetime64('NaT')) | (val == pd.NaT)):\n",
      "/var/folders/j_/497vxglx1kz07md2f3v37jlw0000gn/T/ipykernel_2145/745427426.py:29: DeprecationWarning: elementwise comparison failed; this will raise an error in the future.\n",
      "  if val not in nulls:\n"
     ]
    }
   ],
   "source": [
    "# pure python approach\n",
    "print('By Boolean')\n",
    "print('==========')\n",
    "for val in test_cases:\n",
    "    if val:\n",
    "        pretty_print('type:', type(val))\n",
    "        pretty_print('val:', val)\n",
    "        print()\n",
    "\n",
    "print('\\nBy using !=')\n",
    "print('===========')\n",
    "for val in test_cases:\n",
    "    if (val != None) & (val != np.nan) & (val != np.datetime64('NaT')) & (val != pd.NaT):\n",
    "        pretty_print('type:', type(val))\n",
    "        pretty_print('val:', val)\n",
    "        print()\n",
    "\n",
    "print('\\nBy using ==')\n",
    "print('===========')\n",
    "for val in test_cases:\n",
    "    if not ((val == None) | (val == np.nan) | (val == np.datetime64('NaT')) | (val == pd.NaT)):\n",
    "        pretty_print('type:', type(val))\n",
    "        pretty_print('val:', val)\n",
    "        print()\n",
    "\n",
    "print('\\nBy using is in')\n",
    "print('==============')\n",
    "for val in test_cases:\n",
    "    if val not in nulls:\n",
    "        pretty_print('type:', type(val))\n",
    "        pretty_print('val:', val)\n",
    "        print()"
   ]
  },
  {
   "cell_type": "markdown",
   "id": "d79b7725",
   "metadata": {},
   "source": [
    "**Takeaway:** \n",
    "\n",
    "Okay! So python can catch its own NoneType value with standard library code, and has mixed results with som soon-to-be deprecated approaches. Hmmm..."
   ]
  },
  {
   "cell_type": "code",
   "execution_count": 6,
   "id": "a7a0414e",
   "metadata": {},
   "outputs": [
    {
     "name": "stdout",
     "output_type": "stream",
     "text": [
      "None == None:\t\t\t\t\t True\n",
      "np.nan == np.nan:\t\t\t\t False\n",
      "np.datetime64(NaT) == np.datetime64(NaT):\t False\n",
      "pd.NaT == pd.NaT:\t\t\t\t False\n"
     ]
    }
   ],
   "source": [
    "# Why did so many of the != and == checks fail?\n",
    "# Matching nulls\n",
    "print('None == None:\\t\\t\\t\\t\\t', None == None)\n",
    "print('np.nan == np.nan:\\t\\t\\t\\t', np.nan == np.nan)\n",
    "print('np.datetime64(NaT) == np.datetime64(NaT):\\t', np.datetime64('NaT') == np.datetime64('NaT'))\n",
    "print('pd.NaT == pd.NaT:\\t\\t\\t\\t', pd.NaT == pd.NaT)"
   ]
  },
  {
   "cell_type": "markdown",
   "id": "ba2ef850",
   "metadata": {},
   "source": [
    "**Takeaway:** \n",
    "\n",
    "Weird. Moving on to numpy methods!"
   ]
  },
  {
   "cell_type": "code",
   "execution_count": 7,
   "id": "7491e4de",
   "metadata": {},
   "outputs": [
    {
     "name": "stdout",
     "output_type": "stream",
     "text": [
      "By using np.isnan()\n",
      "===================\n",
      "1\n",
      "None of type <class 'NoneType'> raised a TypeError\n",
      "2\n",
      "3\n",
      "4\n",
      "NaT of type <class 'pandas._libs.tslibs.nattype.NaTType'> raised a TypeError\n",
      "5\n",
      "\n",
      "By combining pure python and np.isnan()\n",
      "=========================================\n",
      "1\n",
      "2\n",
      "3\n",
      "4\n",
      "NaT of type <class 'pandas._libs.tslibs.nattype.NaTType'> raised a TypeError\n",
      "5\n"
     ]
    }
   ],
   "source": [
    "# numpy approach\n",
    "print('By using np.isnan()')\n",
    "print('===================')\n",
    "for val in test_cases:\n",
    "    try:\n",
    "        if not np.isnan(val):\n",
    "            print(val)\n",
    "    except Exception:\n",
    "        print(f'{val} of type {type(val)} raised a {Exception.__class__.__name__.title()}Error')\n",
    "        continue\n",
    "\n",
    "print('\\nBy combining pure python and np.isnan()')\n",
    "print('=========================================')\n",
    "for val in test_cases:\n",
    "    try:\n",
    "        if (val) and (not np.isnan(val)):\n",
    "            print(val)\n",
    "    except Exception:\n",
    "        print(f'{val} of type {type(val)} raised a {Exception.__class__.__name__.title()}Error')\n",
    "        continue"
   ]
  },
  {
   "cell_type": "markdown",
   "id": "a8f7b1a4",
   "metadata": {},
   "source": [
    "**Takeaway:** \n",
    "\n",
    "Okay! So numpy can flag numpy's own null values and nothing else, but it pairs well with a pure python check."
   ]
  },
  {
   "cell_type": "code",
   "execution_count": 8,
   "id": "fd8f260e",
   "metadata": {},
   "outputs": [
    {
     "name": "stdout",
     "output_type": "stream",
     "text": [
      "By using pd.isnull()\n",
      "====================\n",
      "1\n",
      "2\n",
      "3\n",
      "4\n",
      "5\n"
     ]
    }
   ],
   "source": [
    "# pandas approach\n",
    "print('By using pd.isnull()')\n",
    "print('====================')\n",
    "for val in test_cases:\n",
    "    if not (pd.isnull(val)):\n",
    "        print(val)"
   ]
  },
  {
   "cell_type": "markdown",
   "id": "d1faae4d",
   "metadata": {},
   "source": [
    "**Takeaway:** \n",
    "\n",
    "Nice! `pd.isnull()` seems to cover all the bases in one move. Does it work the same with `df.isnull()` and `df.col.isnull()`?"
   ]
  },
  {
   "cell_type": "code",
   "execution_count": 9,
   "id": "0682185e",
   "metadata": {},
   "outputs": [
    {
     "name": "stdout",
     "output_type": "stream",
     "text": [
      "[None, nan, numpy.datetime64('NaT'), NaT]\n"
     ]
    },
    {
     "data": {
      "text/html": [
       "<div>\n",
       "<style scoped>\n",
       "    .dataframe tbody tr th:only-of-type {\n",
       "        vertical-align: middle;\n",
       "    }\n",
       "\n",
       "    .dataframe tbody tr th {\n",
       "        vertical-align: top;\n",
       "    }\n",
       "\n",
       "    .dataframe thead th {\n",
       "        text-align: right;\n",
       "    }\n",
       "</style>\n",
       "<table border=\"1\" class=\"dataframe\">\n",
       "  <thead>\n",
       "    <tr style=\"text-align: right;\">\n",
       "      <th></th>\n",
       "      <th>val</th>\n",
       "    </tr>\n",
       "  </thead>\n",
       "  <tbody>\n",
       "    <tr>\n",
       "      <th>0</th>\n",
       "      <td>NaT</td>\n",
       "    </tr>\n",
       "    <tr>\n",
       "      <th>1</th>\n",
       "      <td>NaT</td>\n",
       "    </tr>\n",
       "    <tr>\n",
       "      <th>2</th>\n",
       "      <td>NaT</td>\n",
       "    </tr>\n",
       "    <tr>\n",
       "      <th>3</th>\n",
       "      <td>NaT</td>\n",
       "    </tr>\n",
       "  </tbody>\n",
       "</table>\n",
       "</div>"
      ],
      "text/plain": [
       "  val\n",
       "0 NaT\n",
       "1 NaT\n",
       "2 NaT\n",
       "3 NaT"
      ]
     },
     "execution_count": 9,
     "metadata": {},
     "output_type": "execute_result"
    }
   ],
   "source": [
    "null_df = pd.DataFrame(nulls, columns=['val'])\n",
    "print(nulls)\n",
    "null_df"
   ]
  },
  {
   "cell_type": "markdown",
   "id": "3fe78a44",
   "metadata": {},
   "source": [
    "**Takeaway:**\n",
    "\n",
    "Uhhhh. Why."
   ]
  },
  {
   "cell_type": "code",
   "execution_count": 10,
   "id": "c0a75fad",
   "metadata": {},
   "outputs": [
    {
     "data": {
      "text/html": [
       "<div>\n",
       "<style scoped>\n",
       "    .dataframe tbody tr th:only-of-type {\n",
       "        vertical-align: middle;\n",
       "    }\n",
       "\n",
       "    .dataframe tbody tr th {\n",
       "        vertical-align: top;\n",
       "    }\n",
       "\n",
       "    .dataframe thead th {\n",
       "        text-align: right;\n",
       "    }\n",
       "</style>\n",
       "<table border=\"1\" class=\"dataframe\">\n",
       "  <thead>\n",
       "    <tr style=\"text-align: right;\">\n",
       "      <th></th>\n",
       "      <th>val_none</th>\n",
       "    </tr>\n",
       "  </thead>\n",
       "  <tbody>\n",
       "    <tr>\n",
       "      <th>0</th>\n",
       "      <td>None</td>\n",
       "    </tr>\n",
       "  </tbody>\n",
       "</table>\n",
       "</div>"
      ],
      "text/plain": [
       "  val_none\n",
       "0     None"
      ]
     },
     "execution_count": 10,
     "metadata": {},
     "output_type": "execute_result"
    }
   ],
   "source": [
    "none_df = pd.DataFrame([None], columns=['val_none'])\n",
    "none_df"
   ]
  },
  {
   "cell_type": "code",
   "execution_count": 11,
   "id": "220aabfc",
   "metadata": {},
   "outputs": [
    {
     "data": {
      "text/html": [
       "<div>\n",
       "<style scoped>\n",
       "    .dataframe tbody tr th:only-of-type {\n",
       "        vertical-align: middle;\n",
       "    }\n",
       "\n",
       "    .dataframe tbody tr th {\n",
       "        vertical-align: top;\n",
       "    }\n",
       "\n",
       "    .dataframe thead th {\n",
       "        text-align: right;\n",
       "    }\n",
       "</style>\n",
       "<table border=\"1\" class=\"dataframe\">\n",
       "  <thead>\n",
       "    <tr style=\"text-align: right;\">\n",
       "      <th></th>\n",
       "      <th>val_nan</th>\n",
       "    </tr>\n",
       "  </thead>\n",
       "  <tbody>\n",
       "    <tr>\n",
       "      <th>0</th>\n",
       "      <td>NaN</td>\n",
       "    </tr>\n",
       "  </tbody>\n",
       "</table>\n",
       "</div>"
      ],
      "text/plain": [
       "   val_nan\n",
       "0      NaN"
      ]
     },
     "execution_count": 11,
     "metadata": {},
     "output_type": "execute_result"
    }
   ],
   "source": [
    "nan_df = pd.DataFrame([np.nan], columns=['val_nan'])\n",
    "nan_df"
   ]
  },
  {
   "cell_type": "code",
   "execution_count": 12,
   "id": "b7933cdf",
   "metadata": {},
   "outputs": [
    {
     "data": {
      "text/html": [
       "<div>\n",
       "<style scoped>\n",
       "    .dataframe tbody tr th:only-of-type {\n",
       "        vertical-align: middle;\n",
       "    }\n",
       "\n",
       "    .dataframe tbody tr th {\n",
       "        vertical-align: top;\n",
       "    }\n",
       "\n",
       "    .dataframe thead th {\n",
       "        text-align: right;\n",
       "    }\n",
       "</style>\n",
       "<table border=\"1\" class=\"dataframe\">\n",
       "  <thead>\n",
       "    <tr style=\"text-align: right;\">\n",
       "      <th></th>\n",
       "      <th>val_np_nat</th>\n",
       "    </tr>\n",
       "  </thead>\n",
       "  <tbody>\n",
       "    <tr>\n",
       "      <th>0</th>\n",
       "      <td>NaT</td>\n",
       "    </tr>\n",
       "  </tbody>\n",
       "</table>\n",
       "</div>"
      ],
      "text/plain": [
       "  val_np_nat\n",
       "0        NaT"
      ]
     },
     "execution_count": 12,
     "metadata": {},
     "output_type": "execute_result"
    }
   ],
   "source": [
    "np_nat_df = pd.DataFrame([np.datetime64('NaT')], columns=['val_np_nat'])\n",
    "np_nat_df"
   ]
  },
  {
   "cell_type": "code",
   "execution_count": 23,
   "id": "af636a88",
   "metadata": {},
   "outputs": [
    {
     "data": {
      "text/html": [
       "<div>\n",
       "<style scoped>\n",
       "    .dataframe tbody tr th:only-of-type {\n",
       "        vertical-align: middle;\n",
       "    }\n",
       "\n",
       "    .dataframe tbody tr th {\n",
       "        vertical-align: top;\n",
       "    }\n",
       "\n",
       "    .dataframe thead th {\n",
       "        text-align: right;\n",
       "    }\n",
       "</style>\n",
       "<table border=\"1\" class=\"dataframe\">\n",
       "  <thead>\n",
       "    <tr style=\"text-align: right;\">\n",
       "      <th></th>\n",
       "      <th>val_pd_nat</th>\n",
       "    </tr>\n",
       "  </thead>\n",
       "  <tbody>\n",
       "    <tr>\n",
       "      <th>0</th>\n",
       "      <td>NaT</td>\n",
       "    </tr>\n",
       "  </tbody>\n",
       "</table>\n",
       "</div>"
      ],
      "text/plain": [
       "  val_pd_nat\n",
       "0        NaT"
      ]
     },
     "execution_count": 23,
     "metadata": {},
     "output_type": "execute_result"
    }
   ],
   "source": [
    "pd_nat_df = pd.DataFrame([pd.NaT], columns=['val_pd_nat'])\n",
    "pd_nat_df"
   ]
  },
  {
   "cell_type": "markdown",
   "id": "fb9df81e",
   "metadata": {},
   "source": [
    "**Takeaway:**\n",
    "\n",
    "Okay, so pandas must be changing the sentinel values on the backend when more than one type is provided. There's probably documentation explaining the specific judgment call that executes the upcast. Is it an upcast?"
   ]
  },
  {
   "cell_type": "code",
   "execution_count": 25,
   "id": "f2730e00",
   "metadata": {},
   "outputs": [
    {
     "name": "stdout",
     "output_type": "stream",
     "text": [
      "By using df.isna()\n",
      "====================\n",
      "Result is <class 'pandas.core.frame.DataFrame'>\n",
      "\n",
      "   val_none\n",
      "0      True \n",
      "\n",
      "   val_nan\n",
      "0     True \n",
      "\n",
      "   val_np_nat\n",
      "0        True \n",
      "\n",
      "   val_pd_nat\n",
      "0        True \n",
      "\n",
      "\n",
      "By using df.isnull()\n",
      "====================\n",
      "Result is <class 'pandas.core.frame.DataFrame'>\n",
      "\n",
      "   val_none\n",
      "0      True \n",
      "\n",
      "   val_nan\n",
      "0     True \n",
      "\n",
      "   val_np_nat\n",
      "0        True \n",
      "\n",
      "   val_pd_nat\n",
      "0        True \n",
      "\n",
      "\n",
      "By using df.col.isnull()\n",
      "========================\n",
      "Result is <class 'pandas.core.series.Series'>\n",
      "\n",
      "0    True\n",
      "Name: val_none, dtype: bool \n",
      "\n",
      "0    True\n",
      "Name: val_nan, dtype: bool \n",
      "\n",
      "0    True\n",
      "Name: val_np_nat, dtype: bool \n",
      "\n",
      "0    True\n",
      "Name: val_pd_nat, dtype: bool\n"
     ]
    }
   ],
   "source": [
    "# back to df.isna()\n",
    "print('By using df.isna()')\n",
    "print('====================')\n",
    "print(f'Result is {type(none_df.isna())}\\n')\n",
    "print(none_df.isna(), '\\n')\n",
    "print(nan_df.isna(), '\\n')\n",
    "print(np_nat_df.isna(), '\\n')\n",
    "print(pd_nat_df.isna(), '\\n\\n')\n",
    "\n",
    "# back to df.isnull()\n",
    "print('By using df.isnull()')\n",
    "print('====================')\n",
    "print(f'Result is {type(none_df.isnull())}\\n')\n",
    "print(none_df.isnull(), '\\n')\n",
    "print(nan_df.isnull(), '\\n')\n",
    "print(np_nat_df.isnull(), '\\n')\n",
    "print(pd_nat_df.isnull(), '\\n\\n')\n",
    "\n",
    "# df.col.isnull()\n",
    "print('By using df.col.isnull()')\n",
    "print('========================')\n",
    "print(f'Result is {type(none_df.val_none.isnull())}\\n')\n",
    "print(none_df.val_none.isnull(), '\\n')\n",
    "print(nan_df.val_nan.isnull(), '\\n')\n",
    "print(np_nat_df.val_np_nat.isnull(), '\\n')\n",
    "print(pd_nat_df.val_pd_nat.isnull())"
   ]
  },
  {
   "cell_type": "markdown",
   "id": "fc3d1102",
   "metadata": {},
   "source": [
    "The difference between `df.isna()` and `df.isnull()` is sourced from R and described in [this blog post](https://www.r-bloggers.com/2010/04/r-na-vs-null/). Looks like in python, it achieves the same goal."
   ]
  },
  {
   "cell_type": "code",
   "execution_count": 14,
   "id": "a2da24ed",
   "metadata": {},
   "outputs": [
    {
     "name": "stdout",
     "output_type": "stream",
     "text": [
      "\n",
      "By using custom method\n",
      "======================\n",
      "val type:\t <class 'int'>\n",
      "val:\t\t 1\n",
      "\n",
      "val type:\t <class 'int'>\n",
      "val:\t\t 2\n",
      "\n",
      "val type:\t <class 'int'>\n",
      "val:\t\t 3\n",
      "\n",
      "val type:\t <class 'int'>\n",
      "val:\t\t 4\n",
      "\n",
      "val type:\t <class 'int'>\n",
      "val:\t\t 5\n",
      "\n"
     ]
    }
   ],
   "source": [
    "# custom method exploiting built-in to_string()\n",
    "def check_null(val):\n",
    "    if str(val).lower() == 'none':\n",
    "        return 1\n",
    "    if str(val).lower() == 'nan':\n",
    "        return 1\n",
    "    if str(val).lower() == 'nat':\n",
    "        return 1\n",
    "    return 0\n",
    "\n",
    "def lazy_isnan(val):\n",
    "    if type(val) == list:\n",
    "        return [check_null(e) for e in val]\n",
    "    else:\n",
    "        return check_null(val)\n",
    "\n",
    "print('\\nBy using custom method')\n",
    "print('======================')\n",
    "for val in test_cases:\n",
    "    if not lazy_isnan(val):\n",
    "        print('val type:\\t', type(val))\n",
    "        print('val:\\t\\t', val)\n",
    "        print()"
   ]
  },
  {
   "cell_type": "code",
   "execution_count": 15,
   "id": "1c4074b2",
   "metadata": {},
   "outputs": [
    {
     "name": "stdout",
     "output_type": "stream",
     "text": [
      "1.06 µs ± 5.87 ns per loop (mean ± std. dev. of 7 runs, 1000000 loops each)\n"
     ]
    }
   ],
   "source": [
    "%timeit [pd.isnull(val) for val in nulls]"
   ]
  },
  {
   "cell_type": "code",
   "execution_count": 16,
   "id": "ed8741a0",
   "metadata": {},
   "outputs": [
    {
     "name": "stdout",
     "output_type": "stream",
     "text": [
      "10.5 µs ± 23 ns per loop (mean ± std. dev. of 7 runs, 100000 loops each)\n"
     ]
    }
   ],
   "source": [
    "%timeit pd.isnull(nulls)"
   ]
  },
  {
   "cell_type": "code",
   "execution_count": 17,
   "id": "abbd9a42",
   "metadata": {},
   "outputs": [
    {
     "name": "stdout",
     "output_type": "stream",
     "text": [
      "2.3 µs ± 7.59 ns per loop (mean ± std. dev. of 7 runs, 100000 loops each)\n"
     ]
    }
   ],
   "source": [
    "%timeit [lazy_isnan(val) for val in nulls]"
   ]
  },
  {
   "cell_type": "code",
   "execution_count": 18,
   "id": "74f9ef07",
   "metadata": {},
   "outputs": [
    {
     "name": "stdout",
     "output_type": "stream",
     "text": [
      "2.05 µs ± 6.66 ns per loop (mean ± std. dev. of 7 runs, 100000 loops each)\n"
     ]
    }
   ],
   "source": [
    "%timeit lazy_isnan(nulls)"
   ]
  },
  {
   "cell_type": "markdown",
   "id": "25e66ca1",
   "metadata": {},
   "source": []
  },
  {
   "cell_type": "code",
   "execution_count": 19,
   "id": "a81d4cb4",
   "metadata": {},
   "outputs": [],
   "source": [
    "# Cool! Now try to break it."
   ]
  }
 ],
 "metadata": {
  "kernelspec": {
   "display_name": "Python 3 (ipykernel)",
   "language": "python",
   "name": "python3"
  },
  "language_info": {
   "codemirror_mode": {
    "name": "ipython",
    "version": 3
   },
   "file_extension": ".py",
   "mimetype": "text/x-python",
   "name": "python",
   "nbconvert_exporter": "python",
   "pygments_lexer": "ipython3",
   "version": "3.9.7"
  }
 },
 "nbformat": 4,
 "nbformat_minor": 5
}
