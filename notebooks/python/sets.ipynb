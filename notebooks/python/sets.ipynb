{
 "cells": [
  {
   "cell_type": "code",
   "execution_count": 15,
   "metadata": {},
   "outputs": [],
   "source": [
    "# dependencies\n",
    "import numpy as np\n",
    "import pandas as pd"
   ]
  },
  {
   "cell_type": "markdown",
   "metadata": {},
   "source": [
    "## Features\n",
    "What are the cases for choosing a `set` over a `list` or a `dict`? What functionality do we get with sets that we don't with others and how is it useful?"
   ]
  },
  {
   "cell_type": "markdown",
   "metadata": {},
   "source": [
    "In the simplest case, let's say we are iterating through some data and we want to capture all unique values we find that meet a particular condition.\n",
    "  \n",
    "### [time complexity](https://wiki.python.org/moin/TimeComplexity)\n",
    "If we use a `list`, we will see the lowest overhead possible to append a new item, `O(1)` average and worst case, but we will have to deduplicate the list contents after building the collection.\n",
    "\n",
    "If we use a `dict`, we will make great time with appending new items with an average of `O(1)`, but in order to protect against duplicate keys, we estimate worst case time at `O(n)` to append a new item.\n",
    "\n",
    "If we use a `set`, we observe the same time complexity for adding a new item to the collection, but we get to save a little bit of memory by only storing keys instead of key-value pairs. In addition, `set` type objects come with statistical operations that can be used to examine relational features of the data.\n",
    "- `l.isdisjoint(r)`\n",
    "- `l.issubset(r)`\n",
    "- `l.issuperset(r)`\n",
    "- `l.union(r)`\n",
    "- `l.intersection(r)`\n",
    "- `l.difference(r)`\n",
    "- `l.symmetric_difference(r)`"
   ]
  },
  {
   "cell_type": "code",
   "execution_count": 28,
   "metadata": {},
   "outputs": [
    {
     "data": {
      "text/html": [
       "<div>\n",
       "<style scoped>\n",
       "    .dataframe tbody tr th:only-of-type {\n",
       "        vertical-align: middle;\n",
       "    }\n",
       "\n",
       "    .dataframe tbody tr th {\n",
       "        vertical-align: top;\n",
       "    }\n",
       "\n",
       "    .dataframe thead th {\n",
       "        text-align: right;\n",
       "    }\n",
       "</style>\n",
       "<table border=\"1\" class=\"dataframe\">\n",
       "  <thead>\n",
       "    <tr style=\"text-align: right;\">\n",
       "      <th></th>\n",
       "      <th>average case</th>\n",
       "      <th>worst case</th>\n",
       "    </tr>\n",
       "  </thead>\n",
       "  <tbody>\n",
       "    <tr>\n",
       "      <th>list</th>\n",
       "      <td>O(1)</td>\n",
       "      <td>O(1)</td>\n",
       "    </tr>\n",
       "    <tr>\n",
       "      <th>dict</th>\n",
       "      <td>O(1)</td>\n",
       "      <td>O(n)</td>\n",
       "    </tr>\n",
       "    <tr>\n",
       "      <th>set</th>\n",
       "      <td>O(1)</td>\n",
       "      <td>O(n)</td>\n",
       "    </tr>\n",
       "  </tbody>\n",
       "</table>\n",
       "</div>"
      ],
      "text/plain": [
       "     average case worst case\n",
       "list         O(1)       O(1)\n",
       "dict         O(1)       O(n)\n",
       "set          O(1)       O(n)"
      ]
     },
     "execution_count": 28,
     "metadata": {},
     "output_type": "execute_result"
    }
   ],
   "source": [
    "time = {\n",
    "    'list': ['O(1)', 'O(1)'],\n",
    "    'dict': ['O(1)', 'O(n)'],\n",
    "    'set': ['O(1)', 'O(n)']\n",
    "}\n",
    "time_df = pd.DataFrame.from_dict(time, orient='index', columns=['average case', 'worst case'])\n",
    "time_df"
   ]
  },
  {
   "cell_type": "markdown",
   "metadata": {},
   "source": [
    "## Problem with ambiguous declaration\n",
    "- Cause: Partial assignment at initialization\n",
    "\n",
    "Because you don't have to use the name of an object to declare it in python, and sets and dicts both use curly brackets, `{}`, to denote themselves, python makes an inference at runtime as to which type is intended, based on the initialization.\n",
    "\n",
    "- Empty initialization: `info = {}`\n",
    "    - Inferred to be `dict` type to leave the most room upfront\n",
    "    \n",
    "- Partial initialization: `info = {'name', 'address', 'phone'}`\n",
    "    - Inferred to be `set` type, since it was given keys but no values\n",
    "    \n",
    "- Complete initialization: `info = {'name'=None, 'address'=None, 'phone'=np.nan}`\n",
    "    - Inferred to be `dict`, since it has both keys and values\n",
    "\n",
    "Let's say we intend to collect some data that meets some criteria, and we have an idea of the keys we want to save. So, we fill in the keys in our dictionary notation and then proceed to filling values."
   ]
  },
  {
   "cell_type": "code",
   "execution_count": 4,
   "metadata": {},
   "outputs": [
    {
     "ename": "TypeError",
     "evalue": "'set' object does not support item assignment",
     "output_type": "error",
     "traceback": [
      "\u001b[0;31m---------------------------------------------------------------------------\u001b[0m",
      "\u001b[0;31mTypeError\u001b[0m                                 Traceback (most recent call last)",
      "\u001b[0;32m<ipython-input-4-29ea74b0feeb>\u001b[0m in \u001b[0;36m<module>\u001b[0;34m\u001b[0m\n\u001b[0;32m----> 1\u001b[0;31m \u001b[0minfo\u001b[0m\u001b[0;34m[\u001b[0m\u001b[0;34m'name'\u001b[0m\u001b[0;34m]\u001b[0m \u001b[0;34m=\u001b[0m \u001b[0;34m'Kenny'\u001b[0m\u001b[0;34m\u001b[0m\u001b[0;34m\u001b[0m\u001b[0m\n\u001b[0m",
      "\u001b[0;31mTypeError\u001b[0m: 'set' object does not support item assignment"
     ]
    }
   ],
   "source": [
    "info = {'name', 'address', 'phone'}\n",
    "info['name'] = 'Kenny'"
   ]
  },
  {
   "cell_type": "markdown",
   "metadata": {},
   "source": [
    "#### Solution\n",
    "Okay, so we can't just throw keys into curly brackets and expect python to know we want a dictionary. But we still don't have the values at that stage, so we find the appropriate placeholder to denote a value that's missing _for now_."
   ]
  },
  {
   "cell_type": "code",
   "execution_count": 12,
   "metadata": {},
   "outputs": [
    {
     "data": {
      "text/plain": [
       "{'name': 'Kenny', 'address': None, 'phone': nan}"
      ]
     },
     "execution_count": 12,
     "metadata": {},
     "output_type": "execute_result"
    }
   ],
   "source": [
    "info = {'name':None, 'address':None, 'phone':np.nan}\n",
    "info['name'] = 'Kenny'\n",
    "info"
   ]
  },
  {
   "cell_type": "markdown",
   "metadata": {},
   "source": [
    "**Comments about solution**\n",
    "You might wonder if a single placeholder is enough to signal to the compiler that you want a dictionary, and the answer is yes and no.\n",
    "- Yes: If you only insert one key, then you only need one placeholder.\n",
    "- No: For every key you add, you need a placeholder value, or else you get a `SyntaxError`."
   ]
  },
  {
   "cell_type": "code",
   "execution_count": 8,
   "metadata": {},
   "outputs": [
    {
     "ename": "SyntaxError",
     "evalue": "invalid syntax (<ipython-input-8-cf8bf1468a8c>, line 1)",
     "output_type": "error",
     "traceback": [
      "\u001b[0;36m  File \u001b[0;32m\"<ipython-input-8-cf8bf1468a8c>\"\u001b[0;36m, line \u001b[0;32m1\u001b[0m\n\u001b[0;31m    info = {'name':None, 'address', 'phone'}\u001b[0m\n\u001b[0m                                  ^\u001b[0m\n\u001b[0;31mSyntaxError\u001b[0m\u001b[0;31m:\u001b[0m invalid syntax\n"
     ]
    }
   ],
   "source": [
    "info = {'name':None, 'address', 'phone'}"
   ]
  },
  {
   "cell_type": "markdown",
   "metadata": {},
   "source": [
    "**More comments**\n",
    "If you're wondering why we used two different placeholder values, check out `language-tips/python/missingness.md` in the training-docs repo, or read the \"Handling Missing Data\" topic in _Python for Data Science Handbook_."
   ]
  },
  {
   "cell_type": "code",
   "execution_count": null,
   "metadata": {},
   "outputs": [],
   "source": []
  }
 ],
 "metadata": {
  "kernelspec": {
   "display_name": "Python 3",
   "language": "python",
   "name": "python3"
  },
  "language_info": {
   "codemirror_mode": {
    "name": "ipython",
    "version": 3
   },
   "file_extension": ".py",
   "mimetype": "text/x-python",
   "name": "python",
   "nbconvert_exporter": "python",
   "pygments_lexer": "ipython3",
   "version": "3.7.3"
  }
 },
 "nbformat": 4,
 "nbformat_minor": 4
}
