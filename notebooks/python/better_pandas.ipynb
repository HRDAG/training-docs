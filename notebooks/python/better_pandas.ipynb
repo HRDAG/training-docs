{
 "cells": [
  {
   "cell_type": "code",
   "execution_count": 1,
   "id": "62f57c9d",
   "metadata": {},
   "outputs": [],
   "source": [
    "# dependencies\n",
    "from random import randint\n",
    "import pandas as pd\n",
    "import seaborn as sns"
   ]
  },
  {
   "cell_type": "code",
   "execution_count": 2,
   "id": "a78f431e",
   "metadata": {},
   "outputs": [],
   "source": [
    "tips = sns.load_dataset(\"tips\")"
   ]
  },
  {
   "cell_type": "code",
   "execution_count": 90,
   "id": "2969ade3",
   "metadata": {},
   "outputs": [
    {
     "name": "stdout",
     "output_type": "stream",
     "text": [
      "<class 'pandas.core.frame.DataFrame'>\n",
      "RangeIndex: 244 entries, 0 to 243\n",
      "Data columns (total 7 columns):\n",
      " #   Column      Non-Null Count  Dtype   \n",
      "---  ------      --------------  -----   \n",
      " 0   total_bill  244 non-null    float64 \n",
      " 1   tip         244 non-null    float64 \n",
      " 2   sex         244 non-null    category\n",
      " 3   smoker      244 non-null    category\n",
      " 4   day         244 non-null    category\n",
      " 5   time        244 non-null    category\n",
      " 6   size        244 non-null    int64   \n",
      "dtypes: category(4), float64(2), int64(1)\n",
      "memory usage: 7.4 KB\n"
     ]
    }
   ],
   "source": [
    "tips.info()"
   ]
  },
  {
   "cell_type": "code",
   "execution_count": 35,
   "id": "3382f912",
   "metadata": {},
   "outputs": [
    {
     "data": {
      "text/plain": [
       "13664"
      ]
     },
     "execution_count": 35,
     "metadata": {},
     "output_type": "execute_result"
    }
   ],
   "source": [
    "tips.values.nbytes"
   ]
  },
  {
   "cell_type": "code",
   "execution_count": 38,
   "id": "c0d108d7",
   "metadata": {},
   "outputs": [
    {
     "data": {
      "text/plain": [
       "Index          128\n",
       "total_bill    1952\n",
       "tip           1952\n",
       "sex            368\n",
       "smoker         368\n",
       "day            448\n",
       "time           368\n",
       "size          1952\n",
       "dtype: int64"
      ]
     },
     "execution_count": 38,
     "metadata": {},
     "output_type": "execute_result"
    }
   ],
   "source": [
    "tips.memory_usage()"
   ]
  },
  {
   "cell_type": "markdown",
   "id": "8194b813",
   "metadata": {},
   "source": [
    "## Intro\n",
    "\n",
    "There are a number of ways to collect or operate on a subset of data based on a given condition, each have their strengths and use cases. Notably, `pd.eval()`, `df.eval()`, and `df.query()` can do some of these tasks while offering a not inconsequential boost to performance. _For a more thorough walk-through of each built-in method, see [this chapter](https://jakevdp.github.io/PythonDataScienceHandbook/03.12-performance-eval-and-query.html) from the Python Data Science Handbook._\n",
    "\n",
    "#### Part 1: EDA improvements\n",
    "- Using `pd.eval()` to wrap slower `.loc` calls\n",
    "\n",
    "#### Part 2: Data Cleaning improvements\n",
    "- Using `df.eval()`, `df.query()` to create and inspect columns"
   ]
  },
  {
   "cell_type": "markdown",
   "id": "4f30f6b5",
   "metadata": {},
   "source": [
    "### Exploratory Data Analysis"
   ]
  },
  {
   "cell_type": "code",
   "execution_count": 91,
   "id": "f8231522",
   "metadata": {},
   "outputs": [],
   "source": [
    "mask = (tips.day == 'Sun')"
   ]
  },
  {
   "cell_type": "code",
   "execution_count": 92,
   "id": "7770782f",
   "metadata": {},
   "outputs": [
    {
     "name": "stdout",
     "output_type": "stream",
     "text": [
      "178 µs ± 921 ns per loop (mean ± std. dev. of 7 runs, 10000 loops each)\n"
     ]
    }
   ],
   "source": [
    "%timeit tips[mask].total_bill.mean()"
   ]
  },
  {
   "cell_type": "code",
   "execution_count": 93,
   "id": "4beb98be",
   "metadata": {},
   "outputs": [
    {
     "name": "stdout",
     "output_type": "stream",
     "text": [
      "178 µs ± 860 ns per loop (mean ± std. dev. of 7 runs, 10000 loops each)\n"
     ]
    }
   ],
   "source": [
    "%timeit tips.loc[mask].total_bill.mean()"
   ]
  },
  {
   "cell_type": "code",
   "execution_count": 94,
   "id": "f430b403",
   "metadata": {},
   "outputs": [
    {
     "name": "stdout",
     "output_type": "stream",
     "text": [
      "236 µs ± 1.81 µs per loop (mean ± std. dev. of 7 runs, 1000 loops each)\n"
     ]
    }
   ],
   "source": [
    "%timeit tips[(tips.day == 'Sun')].total_bill.mean()"
   ]
  },
  {
   "cell_type": "code",
   "execution_count": 95,
   "id": "a81f1e39",
   "metadata": {},
   "outputs": [
    {
     "name": "stdout",
     "output_type": "stream",
     "text": [
      "233 µs ± 1.23 µs per loop (mean ± std. dev. of 7 runs, 1000 loops each)\n"
     ]
    }
   ],
   "source": [
    "%timeit tips.loc[(tips.day == 'Sun')].total_bill.mean()"
   ]
  },
  {
   "cell_type": "code",
   "execution_count": 96,
   "id": "c096e7f3",
   "metadata": {},
   "outputs": [
    {
     "name": "stdout",
     "output_type": "stream",
     "text": [
      "6.09 ms ± 48.8 µs per loop (mean ± std. dev. of 7 runs, 100 loops each)\n"
     ]
    }
   ],
   "source": [
    "%timeit pd.eval(\"tips[(tips.day == 'Sun')].total_bill.mean()\")"
   ]
  },
  {
   "cell_type": "code",
   "execution_count": 97,
   "id": "219d584e",
   "metadata": {},
   "outputs": [
    {
     "name": "stdout",
     "output_type": "stream",
     "text": [
      "6.03 ms ± 37.7 µs per loop (mean ± std. dev. of 7 runs, 100 loops each)\n"
     ]
    }
   ],
   "source": [
    "%timeit pd.eval(\"tips.loc[(tips.day == 'Sun')].total_bill.mean()\")"
   ]
  },
  {
   "cell_type": "markdown",
   "id": "1d30ce0c",
   "metadata": {},
   "source": [
    "Comments:\n",
    "`pd.eval()` seems slower? Am I understanding those units correctly?\n",
    "microseconds are smaller than milliseconds, so common practice methods should stand?\n",
    "\n",
    "Not only is `pd.eval()` beat, but it's beat by the "
   ]
  }
 ],
 "metadata": {
  "kernelspec": {
   "display_name": "Python 3 (ipykernel)",
   "language": "python",
   "name": "python3"
  },
  "language_info": {
   "codemirror_mode": {
    "name": "ipython",
    "version": 3
   },
   "file_extension": ".py",
   "mimetype": "text/x-python",
   "name": "python",
   "nbconvert_exporter": "python",
   "pygments_lexer": "ipython3",
   "version": "3.9.7"
  }
 },
 "nbformat": 4,
 "nbformat_minor": 5
}
