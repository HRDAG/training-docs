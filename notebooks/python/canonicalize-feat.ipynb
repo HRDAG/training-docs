{
 "cells": [
  {
   "cell_type": "code",
   "execution_count": 1,
   "id": "66b8add6",
   "metadata": {},
   "outputs": [],
   "source": [
    "# dependencies\n",
    "import numpy as np\n",
    "import pandas as pd"
   ]
  },
  {
   "cell_type": "code",
   "execution_count": 2,
   "id": "241212d9",
   "metadata": {},
   "outputs": [],
   "source": [
    "# support methods\n",
    "# CODE GOES HERE"
   ]
  },
  {
   "cell_type": "code",
   "execution_count": 3,
   "id": "713603cd",
   "metadata": {},
   "outputs": [],
   "source": [
    "# __main__ routine\n",
    "input_f = 'input/ages.csv'\n",
    "output_f = 'output/clean_ages.parquet'\n",
    "\n",
    "df = pd.read_csv(input_f, usecols=['record_id', 'age'])"
   ]
  },
  {
   "cell_type": "markdown",
   "id": "e81e8520",
   "metadata": {},
   "source": [
    "To preview the data,"
   ]
  },
  {
   "cell_type": "code",
   "execution_count": 4,
   "id": "340c153e",
   "metadata": {},
   "outputs": [
    {
     "data": {
      "text/html": [
       "<div>\n",
       "<style scoped>\n",
       "    .dataframe tbody tr th:only-of-type {\n",
       "        vertical-align: middle;\n",
       "    }\n",
       "\n",
       "    .dataframe tbody tr th {\n",
       "        vertical-align: top;\n",
       "    }\n",
       "\n",
       "    .dataframe thead th {\n",
       "        text-align: right;\n",
       "    }\n",
       "</style>\n",
       "<table border=\"1\" class=\"dataframe\">\n",
       "  <thead>\n",
       "    <tr style=\"text-align: right;\">\n",
       "      <th></th>\n",
       "      <th>record_id</th>\n",
       "      <th>age</th>\n",
       "    </tr>\n",
       "  </thead>\n",
       "  <tbody>\n",
       "    <tr>\n",
       "      <th>0</th>\n",
       "      <td>a72b20062e</td>\n",
       "      <td>69.0</td>\n",
       "    </tr>\n",
       "    <tr>\n",
       "      <th>1</th>\n",
       "      <td>dbc0f00485</td>\n",
       "      <td>101.0</td>\n",
       "    </tr>\n",
       "    <tr>\n",
       "      <th>2</th>\n",
       "      <td>cb4e5208b4</td>\n",
       "      <td>32.0</td>\n",
       "    </tr>\n",
       "    <tr>\n",
       "      <th>3</th>\n",
       "      <td>a4c36ded9d</td>\n",
       "      <td>None</td>\n",
       "    </tr>\n",
       "    <tr>\n",
       "      <th>4</th>\n",
       "      <td>812ed4562d</td>\n",
       "      <td>97.0</td>\n",
       "    </tr>\n",
       "  </tbody>\n",
       "</table>\n",
       "</div>"
      ],
      "text/plain": [
       "    record_id    age\n",
       "0  a72b20062e   69.0\n",
       "1  dbc0f00485  101.0\n",
       "2  cb4e5208b4   32.0\n",
       "3  a4c36ded9d   None\n",
       "4  812ed4562d   97.0"
      ]
     },
     "execution_count": 4,
     "metadata": {},
     "output_type": "execute_result"
    }
   ],
   "source": [
    "df.head()"
   ]
  },
  {
   "cell_type": "markdown",
   "id": "d3aa61af",
   "metadata": {},
   "source": [
    "### assess missing data"
   ]
  },
  {
   "cell_type": "markdown",
   "id": "4b915755",
   "metadata": {},
   "source": [
    "Display names and data types of each column, along with the non-null value counts."
   ]
  },
  {
   "cell_type": "code",
   "execution_count": 5,
   "id": "b61e356b",
   "metadata": {},
   "outputs": [
    {
     "name": "stdout",
     "output_type": "stream",
     "text": [
      "<class 'pandas.core.frame.DataFrame'>\n",
      "RangeIndex: 564 entries, 0 to 563\n",
      "Data columns (total 2 columns):\n",
      " #   Column     Non-Null Count  Dtype \n",
      "---  ------     --------------  ----- \n",
      " 0   record_id  564 non-null    object\n",
      " 1   age        514 non-null    object\n",
      "dtypes: object(2)\n",
      "memory usage: 8.9+ KB\n"
     ]
    }
   ],
   "source": [
    "df.info()"
   ]
  },
  {
   "cell_type": "markdown",
   "id": "a28d2135",
   "metadata": {},
   "source": [
    "Okay, so roughly 50 rows have a value for `age` that pandas recognizes as null. Are there logical null values not included in this count?"
   ]
  },
  {
   "cell_type": "code",
   "execution_count": 6,
   "id": "3106420d",
   "metadata": {},
   "outputs": [
    {
     "data": {
      "text/plain": [
       "array(['69.0', '101.0', '32.0', 'None', '97.0', '102.0', '48.0', '86.0',\n",
       "       '12.0', '16.0', '81.0', '4.0', '84.0', nan, '17.0', '107.0',\n",
       "       '75.0', '78.0', '83.0', '8.0', '25.0', '47.0', '5.0', '30.0',\n",
       "       '11.0', '77.0', '37.0', '110.0', '89.0', '29.0', '34.0', '54.0',\n",
       "       '21.0', '98.0', '19.0', '80.0', '15.0', '108.0', '100.0', '38.0',\n",
       "       '57.0', '95.0', '67.0', '72.0', '43.0', '59.0', '46.0', '94.0',\n",
       "       '85.0', '74.0', '20.0', '70.0', '104.0', '28.0', '109.0', '36.0',\n",
       "       '27.0', '55.0', '62.0', '66.0', '14.0', '76.0', '56.0', '6.0',\n",
       "       '26.0', '42.0', '79.0', '24.0', '105.0', '49.0', '99.0', '93.0',\n",
       "       '9.0', '13.0', '39.0', '31.0', '33.0', '18.0', '65.0', '44.0',\n",
       "       '58.0', '92.0', '51.0', '7.0', '23.0', '52.0', '50.0', '60.0',\n",
       "       '96.0', '61.0', '103.0', '45.0', '22.0', '68.0', '41.0', '10.0',\n",
       "       '64.0', '82.0', '90.0', '180.0', '63.0', '71.0', '40.0', '88.0',\n",
       "       '106.0', '73.0', '91.0', '35.0', 'Unknown', '87.0', '53.0',\n",
       "       'unknown'], dtype=object)"
      ]
     },
     "execution_count": 6,
     "metadata": {},
     "output_type": "execute_result"
    }
   ],
   "source": [
    "df.age.unique()"
   ]
  },
  {
   "cell_type": "markdown",
   "id": "795cb329",
   "metadata": {},
   "source": [
    "Looks like `['None', 'Unknown', 'unknown']` are all currently treated as unique, non-missing values. Now that we have a list, we can write some code to identify these logical null values so they can be filtered or formatted."
   ]
  },
  {
   "cell_type": "code",
   "execution_count": 7,
   "id": "d818cd89",
   "metadata": {},
   "outputs": [
    {
     "name": "stdout",
     "output_type": "stream",
     "text": [
      "14 records are non-null, logical missing\n",
      "record_ids implicated:\n",
      " ['a4c36ded9d' '2473f01571' '859371c786' '53e56691fe' '77c8184f67'\n",
      " 'cfa1150f17' '2ef28d314a' 'f0483f255e' 'c8c06cfae2' '093f0b067a'\n",
      " 'b87bed1295' '3219b5be78' '9741f79aca' '916f5b10fe']\n"
     ]
    }
   ],
   "source": [
    "def lazy_isnan(val):\n",
    "    known = ['none', 'unknown']\n",
    "    if str(val).lower() in known:\n",
    "        return 1\n",
    "    return 0\n",
    "\n",
    "\n",
    "mask = [lazy_isnan(val) for val in df.age.values]\n",
    "print(f'{sum(mask)} records are non-null, logical missing')\n",
    "log_nan_df = df.loc[df.age.isin(['None', 'Unknown', 'unknown'])]\n",
    "print('record_ids implicated:\\n', log_nan_df.record_id.unique())"
   ]
  },
  {
   "cell_type": "markdown",
   "id": "6634245e",
   "metadata": {},
   "source": [
    "### assess variable range"
   ]
  },
  {
   "cell_type": "code",
   "execution_count": 8,
   "id": "53e07c50",
   "metadata": {},
   "outputs": [
    {
     "data": {
      "text/plain": [
       "count      514\n",
       "unique     111\n",
       "top       66.0\n",
       "freq        10\n",
       "Name: age, dtype: object"
      ]
     },
     "execution_count": 8,
     "metadata": {},
     "output_type": "execute_result"
    }
   ],
   "source": [
    "df.age.describe()"
   ]
  },
  {
   "cell_type": "markdown",
   "id": "37b0d32c",
   "metadata": {},
   "source": [
    "From `.describe()`, we get some general info about the characteristics of this age data. Notably, our `max` value is 180... Does that make sense? Let's clean up this data and then see how many values are unusually high like that."
   ]
  },
  {
   "cell_type": "markdown",
   "id": "4cf6a286",
   "metadata": {},
   "source": [
    "### apply formatting, cleaning methods"
   ]
  },
  {
   "cell_type": "code",
   "execution_count": 9,
   "id": "c2b11a37",
   "metadata": {},
   "outputs": [],
   "source": [
    "def format_nan(val):\n",
    "    if pd.isnull(val):\n",
    "        return None\n",
    "    elif lazy_isnan(val):\n",
    "        return None\n",
    "    else:\n",
    "        if '.0' in val:\n",
    "            form = val.replace('.0', '')\n",
    "            return int(form)\n",
    "\n",
    "\n",
    "def format_age_col(df):\n",
    "    copy = df.copy()\n",
    "    copy['age'] = df.age.apply(format_nan)\n",
    "    return copy\n",
    "\n",
    "\n",
    "clean_df = format_age_col(df)"
   ]
  },
  {
   "cell_type": "code",
   "execution_count": 10,
   "id": "12083c6f",
   "metadata": {},
   "outputs": [
    {
     "data": {
      "text/html": [
       "<div>\n",
       "<style scoped>\n",
       "    .dataframe tbody tr th:only-of-type {\n",
       "        vertical-align: middle;\n",
       "    }\n",
       "\n",
       "    .dataframe tbody tr th {\n",
       "        vertical-align: top;\n",
       "    }\n",
       "\n",
       "    .dataframe thead th {\n",
       "        text-align: right;\n",
       "    }\n",
       "</style>\n",
       "<table border=\"1\" class=\"dataframe\">\n",
       "  <thead>\n",
       "    <tr style=\"text-align: right;\">\n",
       "      <th></th>\n",
       "      <th>record_id</th>\n",
       "      <th>age</th>\n",
       "    </tr>\n",
       "  </thead>\n",
       "  <tbody>\n",
       "    <tr>\n",
       "      <th>302</th>\n",
       "      <td>ec7f1f6506</td>\n",
       "      <td>180.0</td>\n",
       "    </tr>\n",
       "  </tbody>\n",
       "</table>\n",
       "</div>"
      ],
      "text/plain": [
       "      record_id    age\n",
       "302  ec7f1f6506  180.0"
      ]
     },
     "execution_count": 10,
     "metadata": {},
     "output_type": "execute_result"
    }
   ],
   "source": [
    "clean_df.loc[clean_df.age >= 120.0]"
   ]
  },
  {
   "cell_type": "markdown",
   "id": "1daad269",
   "metadata": {},
   "source": [
    "Only one! Okay, since the descriptive statistics are otherwise within reason for what we'd expect from a collection of human ages, we should proceed with cleaning the feature for now. Let's make a note of that record_id and follow up on it later, it might be a data entry error and we can look at the source material to verify."
   ]
  },
  {
   "cell_type": "markdown",
   "id": "c04e7f8f",
   "metadata": {},
   "source": [
    "### generate categorical variable"
   ]
  },
  {
   "cell_type": "code",
   "execution_count": 11,
   "id": "3c88d4a0",
   "metadata": {},
   "outputs": [],
   "source": [
    "def get_age_group(val):\n",
    "    if pd.notnull(val):\n",
    "        if val >= 0:\n",
    "            if val < 18:\n",
    "                return 'Under 18'\n",
    "            elif val < 60:\n",
    "                return 'Adult'\n",
    "            else:\n",
    "                return 'Senior'\n",
    "    return None\n",
    "\n",
    "\n",
    "def age_group_asserts():\n",
    "    test_cases = [\n",
    "        (None, None), \n",
    "        (np.nan, None), \n",
    "        (120.0, 'Senior'), \n",
    "        (-1, None), \n",
    "        (12, 'Under 18'), \n",
    "        (18, 'Adult'), \n",
    "        (45, 'Adult'), \n",
    "        (60, 'Senior')\n",
    "    ]\n",
    "    for i in range(len(test_cases)):\n",
    "        test_val = test_cases[i][0]\n",
    "        expected = test_cases[i][1]\n",
    "        assert get_age_group(test_val) == expected\n",
    "    return 1\n",
    "\n",
    "\n",
    "def make_age_group_col(df):\n",
    "    assert 'age' in df.columns\n",
    "    assert age_group_asserts()\n",
    "    copy = df.copy()\n",
    "    copy['age_group'] = copy.age.apply(get_age_group)\n",
    "    return copy\n",
    "\n",
    "\n",
    "group_df = make_age_group_col(clean_df)"
   ]
  },
  {
   "cell_type": "markdown",
   "id": "1a22bb2f",
   "metadata": {},
   "source": [
    "Great! Now that we have a useful category to aid in later analysis, let's get a quick snapshot of the distribution."
   ]
  },
  {
   "cell_type": "code",
   "execution_count": 12,
   "id": "a873ddf5",
   "metadata": {},
   "outputs": [
    {
     "data": {
      "text/plain": [
       "Senior      250\n",
       "Adult       188\n",
       "Under 18     62\n",
       "Name: age_group, dtype: int64"
      ]
     },
     "execution_count": 12,
     "metadata": {},
     "output_type": "execute_result"
    }
   ],
   "source": [
    "group_df.age_group.value_counts()"
   ]
  },
  {
   "cell_type": "markdown",
   "id": "e66285ba",
   "metadata": {},
   "source": [
    "Excellent! Now, if we wanted to make sure this data does not change, or prompt an update to this script if new data is added, then we could use the frequency info in an assert statement. Otherwise, it's useful to log this info or capture it in a magic-numbers doc with each iteration of the script."
   ]
  },
  {
   "cell_type": "markdown",
   "id": "5bdabc3e",
   "metadata": {},
   "source": [
    "## A word about Jupyter notebooks\n",
    "For principled data processing, the best way to format a jupyter notebook is to iteratively develop the program and re-format as you go. When a method is working as expected, copy it into the \"#support methods\" cell and add the corresponding method call to the \"#main\" cell. That way, the first three cells of your notebook should follow the ideal python script style: \n",
    "1. load dependencies\n",
    "2. load custom methods\n",
    "3. load instructions for main.\n",
    "\n",
    "Outside of active development, I try to limit the number of cells left with output displayed, instead trimming these while re-formatting. In the case of consciously formatting a notebook like a report, standing output can be a handy way to support the flow of info, but it can become overwhelming and confusing if you aren't careful. Prune wisely!"
   ]
  }
 ],
 "metadata": {
  "kernelspec": {
   "display_name": "Python 3 (ipykernel)",
   "language": "python",
   "name": "python3"
  },
  "language_info": {
   "codemirror_mode": {
    "name": "ipython",
    "version": 3
   },
   "file_extension": ".py",
   "mimetype": "text/x-python",
   "name": "python",
   "nbconvert_exporter": "python",
   "pygments_lexer": "ipython3",
   "version": "3.9.10"
  }
 },
 "nbformat": 4,
 "nbformat_minor": 5
}
