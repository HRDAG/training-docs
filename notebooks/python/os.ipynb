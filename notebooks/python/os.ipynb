{
 "cells": [
  {
   "cell_type": "code",
   "execution_count": 13,
   "metadata": {},
   "outputs": [],
   "source": [
    "# dependencies\n",
    "from os import listdir\n",
    "from os import walk\n",
    "from os import scandir\n",
    "from os import cpu_count\n",
    "\n",
    "from os import link"
   ]
  },
  {
   "cell_type": "code",
   "execution_count": null,
   "metadata": {},
   "outputs": [],
   "source": [
    "# support methods\n",
    "# stats also offers:\n",
    "#     - user, group id\n",
    "#     - times for last access or modification, and creation of item\n",
    "def sample_scan(src_dir, sample_n):\n",
    "    count = 0\n",
    "    assert sample_n in range(len(listdir(src_dir)))\n",
    "    print(f'scanning {sample_n} items from {src_dir}')\n",
    "    print('=========================================================')\n",
    "    for item in scandir(src_dir):\n",
    "        if count < sample_n:\n",
    "            this_name = item.name\n",
    "            this_path = item.path\n",
    "            is_dir = item.is_dir()\n",
    "            is_file = item.is_file()\n",
    "            is_sym = item.is_symlink()\n",
    "            stats = item.stat()\n",
    "            dev = stats.st_dev\n",
    "            n_hlinks = stats.st_nlink\n",
    "            n_bytes = stats.st_size    # The size of a symbolic link is the length of the pathname it contains, without a terminating null byte\n",
    "            inode = stats.st_ino()\n",
    "            assert stats.st_ino() == item.inode()\n",
    "            print('current:\\t', this_path)\n",
    "            print('directory:\\t', is_dir)\n",
    "            print('symlink:\\t', is_sym)\n",
    "            print('inode:\\t\\t', inode)\n",
    "            print()\n",
    "            count += 1\n",
    "    return 1"
   ]
  },
  {
   "cell_type": "code",
   "execution_count": 15,
   "metadata": {},
   "outputs": [],
   "source": [
    "# main\n",
    "src_dir = '.'\n",
    "\n",
    "print('cpus:\\t', cpu_count())\n",
    "sample_scan(src_dir, sample_n=10)"
   ]
  },
  {
   "cell_type": "markdown",
   "metadata": {},
   "source": [
    "## How do `listdir`, `walk`, and `scandir` differ?"
   ]
  },
  {
   "cell_type": "code",
   "execution_count": null,
   "metadata": {},
   "outputs": [],
   "source": []
  }
 ],
 "metadata": {
  "kernelspec": {
   "display_name": "Python 3",
   "language": "python",
   "name": "python3"
  },
  "language_info": {
   "codemirror_mode": {
    "name": "ipython",
    "version": 3
   },
   "file_extension": ".py",
   "mimetype": "text/x-python",
   "name": "python",
   "nbconvert_exporter": "python",
   "pygments_lexer": "ipython3",
   "version": "3.7.3"
  }
 },
 "nbformat": 4,
 "nbformat_minor": 4
}
