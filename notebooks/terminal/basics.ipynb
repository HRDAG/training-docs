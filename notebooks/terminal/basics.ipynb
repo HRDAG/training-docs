{
 "cells": [
  {
   "cell_type": "markdown",
   "metadata": {},
   "source": [
    "# Terminal basics"
   ]
  },
  {
   "cell_type": "markdown",
   "metadata": {},
   "source": [
    "### navigation"
   ]
  },
  {
   "cell_type": "code",
   "execution_count": 21,
   "metadata": {},
   "outputs": [
    {
     "name": "stdout",
     "output_type": "stream",
     "text": [
      "/home/bailey/training-docs/notebooks/terminal\r\n"
     ]
    }
   ],
   "source": [
    "# Where am I?\n",
    "! pwd"
   ]
  },
  {
   "cell_type": "code",
   "execution_count": 22,
   "metadata": {},
   "outputs": [
    {
     "name": "stdout",
     "output_type": "stream",
     "text": [
      "total 8\r\n",
      "-rw-rw-r-- 1 bailey svn 5752 Apr  7 12:56 basics.ipynb\r\n"
     ]
    }
   ],
   "source": [
    "# What's around me?\n",
    "! ls -l"
   ]
  },
  {
   "cell_type": "code",
   "execution_count": 23,
   "metadata": {},
   "outputs": [
    {
     "name": "stdout",
     "output_type": "stream",
     "text": [
      "total 8\r\n",
      "drwxrwxr-x 6 bailey svn 4096 Apr  7 12:37 python\r\n",
      "drwxrwxr-x 3 bailey svn 4096 Apr  7 12:56 terminal\r\n"
     ]
    }
   ],
   "source": [
    "# What task is above me?\n",
    "! cd ..; ls -l"
   ]
  },
  {
   "cell_type": "code",
   "execution_count": 24,
   "metadata": {},
   "outputs": [
    {
     "name": "stdout",
     "output_type": "stream",
     "text": [
      "\u001b[01;34m.\u001b[00m\r\n",
      "├── \u001b[01;34mpython\u001b[00m\r\n",
      "│   ├── basic-stats.ipynb\r\n",
      "│   ├── \u001b[01;34minput\u001b[00m\r\n",
      "│   │   └── set-operations.pdf\r\n",
      "│   ├── intro_exercises.ipynb\r\n",
      "│   ├── intro.ipynb\r\n",
      "│   ├── \u001b[01;34moutput\u001b[00m\r\n",
      "│   ├── sets.ipynb\r\n",
      "│   └── \u001b[01;34msrc\u001b[00m\r\n",
      "│       ├── no_main.py\r\n",
      "│       └── with_main.py\r\n",
      "└── \u001b[01;34mterminal\u001b[00m\r\n",
      "    └── basics.ipynb\r\n",
      "\r\n",
      "5 directories, 8 files\r\n"
     ]
    }
   ],
   "source": [
    "# What is the structure of the project one level above me?\n",
    "! cd ..; tree"
   ]
  },
  {
   "cell_type": "code",
   "execution_count": 25,
   "metadata": {},
   "outputs": [
    {
     "name": "stdout",
     "output_type": "stream",
     "text": [
      "/home/bailey\r\n"
     ]
    }
   ],
   "source": [
    "# Can I go home now?\n",
    "! cd; pwd"
   ]
  },
  {
   "cell_type": "code",
   "execution_count": 26,
   "metadata": {},
   "outputs": [
    {
     "name": "stdout",
     "output_type": "stream",
     "text": [
      "/home/bailey/training-docs/notebooks/terminal\r\n"
     ]
    }
   ],
   "source": [
    "# (jk, jupyter knows you're still in this notebook and where it runs from)\n",
    "! pwd"
   ]
  },
  {
   "cell_type": "markdown",
   "metadata": {},
   "source": [
    "### files and folders"
   ]
  },
  {
   "cell_type": "code",
   "execution_count": 27,
   "metadata": {},
   "outputs": [
    {
     "name": "stdout",
     "output_type": "stream",
     "text": [
      "total 12\r\n",
      "-rw-rw-r-- 1 bailey svn 5757 Apr  7 12:57 basics.ipynb\r\n",
      "drwxrwxr-x 2 bailey svn 4096 Apr  7 12:58 sample_dir\r\n"
     ]
    }
   ],
   "source": [
    "# I need a new directory here\n",
    "! mkdir sample_dir; ls -l"
   ]
  },
  {
   "cell_type": "code",
   "execution_count": 28,
   "metadata": {},
   "outputs": [
    {
     "name": "stdout",
     "output_type": "stream",
     "text": [
      "total 12\r\n",
      "-rw-rw-r-- 1 bailey svn 5757 Apr  7 12:57 basics.ipynb\r\n",
      "drwxrwxr-x 2 bailey svn 4096 Apr  7 12:58 sample_dir\r\n",
      "-rw-rw-r-- 1 bailey svn    0 Apr  7 12:58 uh-oh.txt\r\n"
     ]
    }
   ],
   "source": [
    "# I need a new file\n",
    "! touch ./uh-oh.txt; ls -l"
   ]
  },
  {
   "cell_type": "code",
   "execution_count": 12,
   "metadata": {},
   "outputs": [
    {
     "name": "stdout",
     "output_type": "stream",
     "text": [
      "total 0\r\n",
      "-rw-rw-r-- 1 bailey svn 0 Apr  7 12:45 test.txt\r\n",
      "-rw-rw-r-- 1 bailey svn 0 Apr  7 12:47 uh-oh.txt\r\n"
     ]
    }
   ],
   "source": [
    "# Oops, I wanted that file to go in the new folder\n",
    "! mv uh-oh.txt sample_dir/; cd sample_dir; ls -l"
   ]
  },
  {
   "cell_type": "code",
   "execution_count": 16,
   "metadata": {},
   "outputs": [
    {
     "name": "stdout",
     "output_type": "stream",
     "text": [
      "rmdir: failed to remove 'sample_dir': Directory not empty\r\n"
     ]
    }
   ],
   "source": [
    "# Nvm, I don't need any of that\n",
    "! rmdir sample_dir"
   ]
  },
  {
   "cell_type": "code",
   "execution_count": 17,
   "metadata": {},
   "outputs": [
    {
     "name": "stdout",
     "output_type": "stream",
     "text": [
      "total 8\r\n",
      "-rw-rw-r-- 1 bailey svn 4414 Apr  7 12:47 basics.ipynb\r\n"
     ]
    }
   ],
   "source": [
    "# Second attempt to get rid of that stuff\n",
    "! rm -r sample_dir; ls -l"
   ]
  }
 ],
 "metadata": {
  "kernelspec": {
   "display_name": "Python 3",
   "language": "python",
   "name": "python3"
  },
  "language_info": {
   "codemirror_mode": {
    "name": "ipython",
    "version": 3
   },
   "file_extension": ".py",
   "mimetype": "text/x-python",
   "name": "python",
   "nbconvert_exporter": "python",
   "pygments_lexer": "ipython3",
   "version": "3.7.3"
  }
 },
 "nbformat": 4,
 "nbformat_minor": 4
}
