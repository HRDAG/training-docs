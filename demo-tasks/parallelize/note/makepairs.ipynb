{
 "cells": [
  {
   "cell_type": "markdown",
   "id": "aca39b27",
   "metadata": {},
   "source": [
    "# setup"
   ]
  },
  {
   "cell_type": "code",
   "execution_count": 1,
   "id": "dbceb95d",
   "metadata": {
    "code_folding": [],
    "run_control": {
     "marked": true
    }
   },
   "outputs": [],
   "source": [
    "# dependencies\n",
    "import pandas as pd"
   ]
  },
  {
   "cell_type": "code",
   "execution_count": 2,
   "id": "3afa35df",
   "metadata": {
    "code_folding": [],
    "run_control": {
     "marked": true
    }
   },
   "outputs": [],
   "source": [
    "# support methods\n",
    "def makepairs(coll):\n",
    "    return [(l, r) for l in coll for r in coll]"
   ]
  },
  {
   "cell_type": "code",
   "execution_count": 3,
   "id": "d919dbb9",
   "metadata": {
    "code_folding": [],
    "run_control": {
     "marked": true
    }
   },
   "outputs": [],
   "source": [
    "# main\n",
    "lines = pd.read_parquet(\"../output/lines.parquet\")\n",
    "names = pd.read_parquet(\"../output/names.parquet\")\n",
    "\n",
    "linepairs = pd.DataFrame(makepairs(lines.line.values), columns=['line_a', 'line_b'])\n",
    "namepairs = pd.DataFrame(makepairs(names.line.values), columns=['name_a', 'name_b'])"
   ]
  },
  {
   "cell_type": "code",
   "execution_count": 4,
   "id": "0b7f1165",
   "metadata": {},
   "outputs": [],
   "source": [
    "linepairs.to_parquet(\"../output/linepairs.parquet\")\n",
    "namepairs.to_parquet(\"../output/namepairs.parquet\")"
   ]
  },
  {
   "cell_type": "markdown",
   "id": "235eca31",
   "metadata": {},
   "source": [
    "# preview data"
   ]
  },
  {
   "cell_type": "code",
   "execution_count": 5,
   "id": "9df4ee3b",
   "metadata": {
    "code_folding": [],
    "run_control": {
     "marked": true
    }
   },
   "outputs": [],
   "source": [
    "# get 1 random sample for testing\n",
    "linesamp = linepairs.sample()\n",
    "a,b = linesamp.line_a.values[0], linesamp.line_b.values[0]"
   ]
  },
  {
   "cell_type": "code",
   "execution_count": 6,
   "id": "53d4308e",
   "metadata": {},
   "outputs": [
    {
     "data": {
      "text/html": [
       "<div>\n",
       "<style scoped>\n",
       "    .dataframe tbody tr th:only-of-type {\n",
       "        vertical-align: middle;\n",
       "    }\n",
       "\n",
       "    .dataframe tbody tr th {\n",
       "        vertical-align: top;\n",
       "    }\n",
       "\n",
       "    .dataframe thead th {\n",
       "        text-align: right;\n",
       "    }\n",
       "</style>\n",
       "<table border=\"1\" class=\"dataframe\">\n",
       "  <thead>\n",
       "    <tr style=\"text-align: right;\">\n",
       "      <th></th>\n",
       "      <th>line</th>\n",
       "      <th>n_alpha</th>\n",
       "      <th>n_digit</th>\n",
       "      <th>hashid</th>\n",
       "    </tr>\n",
       "  </thead>\n",
       "  <tbody>\n",
       "    <tr>\n",
       "      <th>0</th>\n",
       "      <td>QFRQAO'og NrbXBtibmCoqxkvHqV RXFoLZV PzEJEvVwh...</td>\n",
       "      <td>110</td>\n",
       "      <td>1</td>\n",
       "      <td>d84005bf</td>\n",
       "    </tr>\n",
       "    <tr>\n",
       "      <th>57</th>\n",
       "      <td>vQwKVzyoemDfDL fNjJyQSDVkXnCrOAMo RbJ!frCEYTcF...</td>\n",
       "      <td>113</td>\n",
       "      <td>1</td>\n",
       "      <td>3828ea44</td>\n",
       "    </tr>\n",
       "    <tr>\n",
       "      <th>67</th>\n",
       "      <td>u DgR*iXxkXQmXagp nYkingYnPbjmYsYqJbLQG HrQshM...</td>\n",
       "      <td>114</td>\n",
       "      <td>1</td>\n",
       "      <td>3890f96b</td>\n",
       "    </tr>\n",
       "    <tr>\n",
       "      <th>91</th>\n",
       "      <td>ep mZhYHCeAHVoQS gaNAzbOtcfNi bwwRjQoR#taAWUY ...</td>\n",
       "      <td>113</td>\n",
       "      <td>1</td>\n",
       "      <td>000cc7dd</td>\n",
       "    </tr>\n",
       "    <tr>\n",
       "      <th>15</th>\n",
       "      <td>sTqieKLrEJkrbF XkbUaaUoPyE cVYJmyauJEFdtC:j H ...</td>\n",
       "      <td>70</td>\n",
       "      <td>0</td>\n",
       "      <td>477a309c</td>\n",
       "    </tr>\n",
       "  </tbody>\n",
       "</table>\n",
       "</div>"
      ],
      "text/plain": [
       "                                                 line  n_alpha  n_digit  \\\n",
       "0   QFRQAO'og NrbXBtibmCoqxkvHqV RXFoLZV PzEJEvVwh...      110        1   \n",
       "57  vQwKVzyoemDfDL fNjJyQSDVkXnCrOAMo RbJ!frCEYTcF...      113        1   \n",
       "67  u DgR*iXxkXQmXagp nYkingYnPbjmYsYqJbLQG HrQshM...      114        1   \n",
       "91  ep mZhYHCeAHVoQS gaNAzbOtcfNi bwwRjQoR#taAWUY ...      113        1   \n",
       "15  sTqieKLrEJkrbF XkbUaaUoPyE cVYJmyauJEFdtC:j H ...       70        0   \n",
       "\n",
       "      hashid  \n",
       "0   d84005bf  \n",
       "57  3828ea44  \n",
       "67  3890f96b  \n",
       "91  000cc7dd  \n",
       "15  477a309c  "
      ]
     },
     "execution_count": 6,
     "metadata": {},
     "output_type": "execute_result"
    }
   ],
   "source": [
    "lines.sample(5)"
   ]
  },
  {
   "cell_type": "code",
   "execution_count": 7,
   "id": "9ce093ee",
   "metadata": {},
   "outputs": [
    {
     "data": {
      "text/html": [
       "<div>\n",
       "<style scoped>\n",
       "    .dataframe tbody tr th:only-of-type {\n",
       "        vertical-align: middle;\n",
       "    }\n",
       "\n",
       "    .dataframe tbody tr th {\n",
       "        vertical-align: top;\n",
       "    }\n",
       "\n",
       "    .dataframe thead th {\n",
       "        text-align: right;\n",
       "    }\n",
       "</style>\n",
       "<table border=\"1\" class=\"dataframe\">\n",
       "  <thead>\n",
       "    <tr style=\"text-align: right;\">\n",
       "      <th></th>\n",
       "      <th>line_a</th>\n",
       "      <th>line_b</th>\n",
       "    </tr>\n",
       "  </thead>\n",
       "  <tbody>\n",
       "    <tr>\n",
       "      <th>0</th>\n",
       "      <td>QFRQAO'og NrbXBtibmCoqxkvHqV RXFoLZV PzEJEvVwh...</td>\n",
       "      <td>QFRQAO'og NrbXBtibmCoqxkvHqV RXFoLZV PzEJEvVwh...</td>\n",
       "    </tr>\n",
       "    <tr>\n",
       "      <th>1</th>\n",
       "      <td>QFRQAO'og NrbXBtibmCoqxkvHqV RXFoLZV PzEJEvVwh...</td>\n",
       "      <td>C\u000b",
       "|oEhrN{veaNcK(RdBwlhitONjdJq_</td>\n",
       "    </tr>\n",
       "    <tr>\n",
       "      <th>2</th>\n",
       "      <td>QFRQAO'og NrbXBtibmCoqxkvHqV RXFoLZV PzEJEvVwh...</td>\n",
       "      <td>FbAbnjfgNuIzyqjivrDea4S xKLFPzCigoMkN CRKHtzP ...</td>\n",
       "    </tr>\n",
       "    <tr>\n",
       "      <th>3</th>\n",
       "      <td>QFRQAO'og NrbXBtibmCoqxkvHqV RXFoLZV PzEJEvVwh...</td>\n",
       "      <td>keqULtDbxzda.eF^pIUH]</td>\n",
       "    </tr>\n",
       "    <tr>\n",
       "      <th>4</th>\n",
       "      <td>QFRQAO'og NrbXBtibmCoqxkvHqV RXFoLZV PzEJEvVwh...</td>\n",
       "      <td>XJT2spY^PznKWu#gd(wdYJQ-</td>\n",
       "    </tr>\n",
       "  </tbody>\n",
       "</table>\n",
       "</div>"
      ],
      "text/plain": [
       "                                              line_a  \\\n",
       "0  QFRQAO'og NrbXBtibmCoqxkvHqV RXFoLZV PzEJEvVwh...   \n",
       "1  QFRQAO'og NrbXBtibmCoqxkvHqV RXFoLZV PzEJEvVwh...   \n",
       "2  QFRQAO'og NrbXBtibmCoqxkvHqV RXFoLZV PzEJEvVwh...   \n",
       "3  QFRQAO'og NrbXBtibmCoqxkvHqV RXFoLZV PzEJEvVwh...   \n",
       "4  QFRQAO'og NrbXBtibmCoqxkvHqV RXFoLZV PzEJEvVwh...   \n",
       "\n",
       "                                              line_b  \n",
       "0  QFRQAO'og NrbXBtibmCoqxkvHqV RXFoLZV PzEJEvVwh...  \n",
       "1                    C\n",
       "|oEhrN{veaNcK(RdBwlhitONjdJq_  \n",
       "2  FbAbnjfgNuIzyqjivrDea4S xKLFPzCigoMkN CRKHtzP ...  \n",
       "3                              keqULtDbxzda.eF^pIUH]  \n",
       "4                           XJT2spY^PznKWu#gd(wdYJQ-  "
      ]
     },
     "execution_count": 7,
     "metadata": {},
     "output_type": "execute_result"
    }
   ],
   "source": [
    "linepairs.head()"
   ]
  },
  {
   "cell_type": "code",
   "execution_count": 8,
   "id": "328d0d02",
   "metadata": {},
   "outputs": [
    {
     "data": {
      "text/plain": [
       "'ChaENXzb1pEA eLlIWMAlQopB+:'"
      ]
     },
     "execution_count": 8,
     "metadata": {},
     "output_type": "execute_result"
    }
   ],
   "source": [
    "a"
   ]
  },
  {
   "cell_type": "code",
   "execution_count": 9,
   "id": "714bf61f",
   "metadata": {},
   "outputs": [
    {
     "data": {
      "text/plain": [
       "'u DgR*iXxkXQmXagp nYkingYnPbjmYsYqJbLQG HrQshMkvorpaEvEhxtG Q aoe LBL MXaUNUWUqrzVz\\x0b kSJhZGXTHVrJlO KpWhiVGqid)SXlBWakor`0IoqRRx!'"
      ]
     },
     "execution_count": 9,
     "metadata": {},
     "output_type": "execute_result"
    }
   ],
   "source": [
    "b"
   ]
  },
  {
   "cell_type": "code",
   "execution_count": null,
   "id": "a16ec3d2",
   "metadata": {},
   "outputs": [],
   "source": []
  }
 ],
 "metadata": {
  "kernelspec": {
   "display_name": "Python 3 (ipykernel)",
   "language": "python",
   "name": "python3"
  },
  "language_info": {
   "codemirror_mode": {
    "name": "ipython",
    "version": 3
   },
   "file_extension": ".py",
   "mimetype": "text/x-python",
   "name": "python",
   "nbconvert_exporter": "python",
   "pygments_lexer": "ipython3",
   "version": "3.11.6"
  },
  "toc": {
   "base_numbering": 1,
   "nav_menu": {},
   "number_sections": true,
   "sideBar": true,
   "skip_h1_title": false,
   "title_cell": "Table of Contents",
   "title_sidebar": "Contents",
   "toc_cell": false,
   "toc_position": {},
   "toc_section_display": true,
   "toc_window_display": false
  },
  "varInspector": {
   "cols": {
    "lenName": 16,
    "lenType": 16,
    "lenVar": 40
   },
   "kernels_config": {
    "python": {
     "delete_cmd_postfix": "",
     "delete_cmd_prefix": "del ",
     "library": "var_list.py",
     "varRefreshCmd": "print(var_dic_list())"
    },
    "r": {
     "delete_cmd_postfix": ") ",
     "delete_cmd_prefix": "rm(",
     "library": "var_list.r",
     "varRefreshCmd": "cat(var_dic_list()) "
    }
   },
   "types_to_exclude": [
    "module",
    "function",
    "builtin_function_or_method",
    "instance",
    "_Feature"
   ],
   "window_display": false
  }
 },
 "nbformat": 4,
 "nbformat_minor": 5
}
