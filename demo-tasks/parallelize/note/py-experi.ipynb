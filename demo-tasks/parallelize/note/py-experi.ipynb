{
 "cells": [
  {
   "cell_type": "code",
   "execution_count": 1,
   "id": "b5fb0e7d",
   "metadata": {},
   "outputs": [],
   "source": [
    "# dependencies\n",
    "import pandas as pd"
   ]
  },
  {
   "cell_type": "code",
   "execution_count": 2,
   "id": "ea6bfcce",
   "metadata": {},
   "outputs": [],
   "source": [
    "# support methods"
   ]
  },
  {
   "cell_type": "code",
   "execution_count": 3,
   "id": "e7f7446a",
   "metadata": {},
   "outputs": [],
   "source": [
    "# main\n",
    "lines = pd.read_parquet(\"../output/lines.parquet\")"
   ]
  },
  {
   "cell_type": "code",
   "execution_count": 5,
   "id": "afd8c8c6",
   "metadata": {},
   "outputs": [
    {
     "data": {
      "text/html": [
       "<div>\n",
       "<style scoped>\n",
       "    .dataframe tbody tr th:only-of-type {\n",
       "        vertical-align: middle;\n",
       "    }\n",
       "\n",
       "    .dataframe tbody tr th {\n",
       "        vertical-align: top;\n",
       "    }\n",
       "\n",
       "    .dataframe thead th {\n",
       "        text-align: right;\n",
       "    }\n",
       "</style>\n",
       "<table border=\"1\" class=\"dataframe\">\n",
       "  <thead>\n",
       "    <tr style=\"text-align: right;\">\n",
       "      <th></th>\n",
       "      <th>line</th>\n",
       "      <th>n_alpha</th>\n",
       "      <th>n_digit</th>\n",
       "      <th>hashid</th>\n",
       "    </tr>\n",
       "  </thead>\n",
       "  <tbody>\n",
       "    <tr>\n",
       "      <th>0</th>\n",
       "      <td>QFRQAO'og NrbXBtibmCoqxkvHqV RXFoLZV PzEJEvVwh...</td>\n",
       "      <td>110</td>\n",
       "      <td>1</td>\n",
       "      <td>d84005bf</td>\n",
       "    </tr>\n",
       "    <tr>\n",
       "      <th>1</th>\n",
       "      <td>C\u000b",
       "|oEhrN{veaNcK(RdBwlhitONjdJq_</td>\n",
       "      <td>26</td>\n",
       "      <td>0</td>\n",
       "      <td>9583bef4</td>\n",
       "    </tr>\n",
       "    <tr>\n",
       "      <th>2</th>\n",
       "      <td>FbAbnjfgNuIzyqjivrDea4S xKLFPzCigoMkN CRKHtzP ...</td>\n",
       "      <td>157</td>\n",
       "      <td>1</td>\n",
       "      <td>b93245cb</td>\n",
       "    </tr>\n",
       "    <tr>\n",
       "      <th>3</th>\n",
       "      <td>keqULtDbxzda.eF^pIUH]</td>\n",
       "      <td>18</td>\n",
       "      <td>0</td>\n",
       "      <td>30e2223c</td>\n",
       "    </tr>\n",
       "    <tr>\n",
       "      <th>4</th>\n",
       "      <td>XJT2spY^PznKWu#gd(wdYJQ-</td>\n",
       "      <td>19</td>\n",
       "      <td>1</td>\n",
       "      <td>1fd0cfd2</td>\n",
       "    </tr>\n",
       "  </tbody>\n",
       "</table>\n",
       "</div>"
      ],
      "text/plain": [
       "                                                line  n_alpha  n_digit  \\\n",
       "0  QFRQAO'og NrbXBtibmCoqxkvHqV RXFoLZV PzEJEvVwh...      110        1   \n",
       "1                    C\n",
       "|oEhrN{veaNcK(RdBwlhitONjdJq_       26        0   \n",
       "2  FbAbnjfgNuIzyqjivrDea4S xKLFPzCigoMkN CRKHtzP ...      157        1   \n",
       "3                              keqULtDbxzda.eF^pIUH]       18        0   \n",
       "4                           XJT2spY^PznKWu#gd(wdYJQ-       19        1   \n",
       "\n",
       "     hashid  \n",
       "0  d84005bf  \n",
       "1  9583bef4  \n",
       "2  b93245cb  \n",
       "3  30e2223c  \n",
       "4  1fd0cfd2  "
      ]
     },
     "execution_count": 5,
     "metadata": {},
     "output_type": "execute_result"
    }
   ],
   "source": [
    "lines.head(5)"
   ]
  },
  {
   "cell_type": "code",
   "execution_count": null,
   "id": "95a4ddb4",
   "metadata": {},
   "outputs": [],
   "source": []
  }
 ],
 "metadata": {
  "kernelspec": {
   "display_name": "Python 3 (ipykernel)",
   "language": "python",
   "name": "python3"
  },
  "language_info": {
   "codemirror_mode": {
    "name": "ipython",
    "version": 3
   },
   "file_extension": ".py",
   "mimetype": "text/x-python",
   "name": "python",
   "nbconvert_exporter": "python",
   "pygments_lexer": "ipython3",
   "version": "3.11.6"
  },
  "toc": {
   "base_numbering": 1,
   "nav_menu": {},
   "number_sections": true,
   "sideBar": true,
   "skip_h1_title": false,
   "title_cell": "Table of Contents",
   "title_sidebar": "Contents",
   "toc_cell": false,
   "toc_position": {},
   "toc_section_display": true,
   "toc_window_display": false
  },
  "varInspector": {
   "cols": {
    "lenName": 16,
    "lenType": 16,
    "lenVar": 40
   },
   "kernels_config": {
    "python": {
     "delete_cmd_postfix": "",
     "delete_cmd_prefix": "del ",
     "library": "var_list.py",
     "varRefreshCmd": "print(var_dic_list())"
    },
    "r": {
     "delete_cmd_postfix": ") ",
     "delete_cmd_prefix": "rm(",
     "library": "var_list.r",
     "varRefreshCmd": "cat(var_dic_list()) "
    }
   },
   "types_to_exclude": [
    "module",
    "function",
    "builtin_function_or_method",
    "instance",
    "_Feature"
   ],
   "window_display": false
  }
 },
 "nbformat": 4,
 "nbformat_minor": 5
}
