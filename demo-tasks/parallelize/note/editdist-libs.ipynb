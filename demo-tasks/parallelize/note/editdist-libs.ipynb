{
 "cells": [
  {
   "cell_type": "markdown",
   "id": "aca39b27",
   "metadata": {},
   "source": [
    "# setup"
   ]
  },
  {
   "cell_type": "code",
   "execution_count": 1,
   "id": "dbceb95d",
   "metadata": {
    "code_folding": [
     0
    ],
    "run_control": {
     "marked": true
    }
   },
   "outputs": [],
   "source": [
    "# dependencies\n",
    "# general\n",
    "import time\n",
    "import pandas as pd\n",
    "\n",
    "# string distance measuring (probably dont want to use all of these the whole time)\n",
    "import stringdist\n",
    "import fuzzywuzzy\n",
    "from fuzzywuzzy import fuzz\n",
    "import textdistance\n",
    "import rapidfuzz\n",
    "import jellyfish\n",
    "import Levenshtein\n",
    "import distance"
   ]
  },
  {
   "cell_type": "code",
   "execution_count": 2,
   "id": "3afa35df",
   "metadata": {
    "code_folding": [
     0
    ],
    "run_control": {
     "marked": true
    }
   },
   "outputs": [],
   "source": [
    "# support methods\n",
    "def makepairs(coll):\n",
    "    return [(l, r) for l in coll for r in coll]\n",
    "\n",
    "\n",
    "def timedapply(method, a, b):\n",
    "    s = time.time()\n",
    "    res = method(a, b)\n",
    "    e = time.time()\n",
    "    diff = round(e-s, 8)\n",
    "    return res, diff\n",
    "\n",
    "\n",
    "def getmethods():\n",
    "    return {\n",
    "        'td_DamerauLevenshtein': textdistance.damerau_levenshtein.distance, \n",
    "        'td_Hamming': textdistance.hamming.distance, \n",
    "        'td_Jaro': textdistance.jaro.distance, \n",
    "        'td_JaroWinkler': textdistance.jaro_winkler.distance, \n",
    "        'td_Levenshtein': textdistance.levenshtein.distance,\n",
    "        \n",
    "        'L_Hamming': Levenshtein.hamming,\n",
    "        'L_Jaro': Levenshtein.jaro,\n",
    "        'L_JaroWinkler': Levenshtein.jaro_winkler,\n",
    "        'L_Levenshtein': Levenshtein.distance,\n",
    "                \n",
    "        'jf_DamerauLevenshtein': jellyfish.damerau_levenshtein_distance,\n",
    "        'jf_Jaro': jellyfish.jaro_similarity,\n",
    "        'jf_Levenshtein': jellyfish.levenshtein_distance,\n",
    "        \n",
    "        'd_Jaccard': distance.jaccard,\n",
    "        'd_Levenshtein': distance.levenshtein,\n",
    "        \n",
    "        'fw_Levenshtein': fuzzywuzzy.StringMatcher.distance,\n",
    "        'rf_Levenshtein': rapidfuzz.distance.Levenshtein.distance,\n",
    "}\n",
    "\n",
    "def applymethods(methods, pairs):\n",
    "    assert 'line_a' in pairs.columns\n",
    "    copy = pairs.copy()\n",
    "    runtime = {}\n",
    "    for lib, method in methods.items():\n",
    "        print(f'running calculations for: {lib}')\n",
    "        s = time.time()\n",
    "        copy['tup'] = copy.apply(\n",
    "            lambda row: timedapply(method, row.line_a, row.line_b), axis=1)\n",
    "        copy[lib] = copy.tup.apply(lambda x: x[0])\n",
    "        copy[f'{lib}_time'] = copy.tup.apply(lambda x: x[1])\n",
    "        e = time.time()\n",
    "        runtime[lib] = e-s\n",
    "    copy.drop(columns='tup', inplace=True)\n",
    "    return copy, runtime"
   ]
  },
  {
   "cell_type": "code",
   "execution_count": 3,
   "id": "d919dbb9",
   "metadata": {
    "code_folding": [
     0
    ],
    "run_control": {
     "marked": true
    }
   },
   "outputs": [
    {
     "name": "stdout",
     "output_type": "stream",
     "text": [
      "running calculations for: td_DamerauLevenshtein\n",
      "running calculations for: td_Hamming\n",
      "running calculations for: td_Jaro\n",
      "running calculations for: td_JaroWinkler\n",
      "running calculations for: td_Levenshtein\n",
      "running calculations for: L_Hamming\n",
      "running calculations for: L_Jaro\n",
      "running calculations for: L_JaroWinkler\n",
      "running calculations for: L_Levenshtein\n",
      "running calculations for: jf_DamerauLevenshtein\n",
      "running calculations for: jf_Jaro\n",
      "running calculations for: jf_Levenshtein\n",
      "running calculations for: d_Jaccard\n",
      "running calculations for: d_Levenshtein\n",
      "running calculations for: fw_Levenshtein\n",
      "running calculations for: rf_Levenshtein\n"
     ]
    }
   ],
   "source": [
    "# main\n",
    "lines = pd.read_parquet(\"../output/lines.parquet\")\n",
    "pairs = pd.DataFrame(makepairs(lines.line.values), columns=['line_a', 'line_b'])\n",
    "testpairs = pairs.sample(10)\n",
    "\n",
    "methods = getmethods()\n",
    "testpairs, runtime = applymethods(methods, pairs)\n",
    "\n",
    "# setup results as dataframe for easy review\n",
    "methodf = pd.DataFrame({'library': methods.keys(), 'method': methods.values()})\n",
    "runtidf = pd.DataFrame({'library': runtime.keys(), 'time': runtime.values()})\n",
    "tests = pd.merge(methodf, runtidf, on='library')"
   ]
  },
  {
   "cell_type": "code",
   "execution_count": 4,
   "id": "53d4308e",
   "metadata": {},
   "outputs": [
    {
     "data": {
      "text/html": [
       "<div>\n",
       "<style scoped>\n",
       "    .dataframe tbody tr th:only-of-type {\n",
       "        vertical-align: middle;\n",
       "    }\n",
       "\n",
       "    .dataframe tbody tr th {\n",
       "        vertical-align: top;\n",
       "    }\n",
       "\n",
       "    .dataframe thead th {\n",
       "        text-align: right;\n",
       "    }\n",
       "</style>\n",
       "<table border=\"1\" class=\"dataframe\">\n",
       "  <thead>\n",
       "    <tr style=\"text-align: right;\">\n",
       "      <th></th>\n",
       "      <th>line</th>\n",
       "      <th>n_alpha</th>\n",
       "      <th>n_digit</th>\n",
       "      <th>hashid</th>\n",
       "    </tr>\n",
       "  </thead>\n",
       "  <tbody>\n",
       "    <tr>\n",
       "      <th>0</th>\n",
       "      <td>QFRQAO'og NrbXBtibmCoqxkvHqV RXFoLZV PzEJEvVwh...</td>\n",
       "      <td>110</td>\n",
       "      <td>1</td>\n",
       "      <td>d84005bf</td>\n",
       "    </tr>\n",
       "    <tr>\n",
       "      <th>1</th>\n",
       "      <td>C\u000b",
       "|oEhrN{veaNcK(RdBwlhitONjdJq_</td>\n",
       "      <td>26</td>\n",
       "      <td>0</td>\n",
       "      <td>9583bef4</td>\n",
       "    </tr>\n",
       "    <tr>\n",
       "      <th>2</th>\n",
       "      <td>FbAbnjfgNuIzyqjivrDea4S xKLFPzCigoMkN CRKHtzP ...</td>\n",
       "      <td>157</td>\n",
       "      <td>1</td>\n",
       "      <td>b93245cb</td>\n",
       "    </tr>\n",
       "    <tr>\n",
       "      <th>3</th>\n",
       "      <td>keqULtDbxzda.eF^pIUH]</td>\n",
       "      <td>18</td>\n",
       "      <td>0</td>\n",
       "      <td>30e2223c</td>\n",
       "    </tr>\n",
       "    <tr>\n",
       "      <th>4</th>\n",
       "      <td>XJT2spY^PznKWu#gd(wdYJQ-</td>\n",
       "      <td>19</td>\n",
       "      <td>1</td>\n",
       "      <td>1fd0cfd2</td>\n",
       "    </tr>\n",
       "  </tbody>\n",
       "</table>\n",
       "</div>"
      ],
      "text/plain": [
       "                                                line  n_alpha  n_digit  \\\n",
       "0  QFRQAO'og NrbXBtibmCoqxkvHqV RXFoLZV PzEJEvVwh...      110        1   \n",
       "1                    C\n",
       "|oEhrN{veaNcK(RdBwlhitONjdJq_       26        0   \n",
       "2  FbAbnjfgNuIzyqjivrDea4S xKLFPzCigoMkN CRKHtzP ...      157        1   \n",
       "3                              keqULtDbxzda.eF^pIUH]       18        0   \n",
       "4                           XJT2spY^PznKWu#gd(wdYJQ-       19        1   \n",
       "\n",
       "     hashid  \n",
       "0  d84005bf  \n",
       "1  9583bef4  \n",
       "2  b93245cb  \n",
       "3  30e2223c  \n",
       "4  1fd0cfd2  "
      ]
     },
     "execution_count": 4,
     "metadata": {},
     "output_type": "execute_result"
    }
   ],
   "source": [
    "lines.head(5)"
   ]
  },
  {
   "cell_type": "code",
   "execution_count": 5,
   "id": "9ce093ee",
   "metadata": {},
   "outputs": [
    {
     "data": {
      "text/html": [
       "<div>\n",
       "<style scoped>\n",
       "    .dataframe tbody tr th:only-of-type {\n",
       "        vertical-align: middle;\n",
       "    }\n",
       "\n",
       "    .dataframe tbody tr th {\n",
       "        vertical-align: top;\n",
       "    }\n",
       "\n",
       "    .dataframe thead th {\n",
       "        text-align: right;\n",
       "    }\n",
       "</style>\n",
       "<table border=\"1\" class=\"dataframe\">\n",
       "  <thead>\n",
       "    <tr style=\"text-align: right;\">\n",
       "      <th></th>\n",
       "      <th>line_a</th>\n",
       "      <th>line_b</th>\n",
       "    </tr>\n",
       "  </thead>\n",
       "  <tbody>\n",
       "    <tr>\n",
       "      <th>0</th>\n",
       "      <td>QFRQAO'og NrbXBtibmCoqxkvHqV RXFoLZV PzEJEvVwh...</td>\n",
       "      <td>QFRQAO'og NrbXBtibmCoqxkvHqV RXFoLZV PzEJEvVwh...</td>\n",
       "    </tr>\n",
       "    <tr>\n",
       "      <th>1</th>\n",
       "      <td>QFRQAO'og NrbXBtibmCoqxkvHqV RXFoLZV PzEJEvVwh...</td>\n",
       "      <td>C\u000b",
       "|oEhrN{veaNcK(RdBwlhitONjdJq_</td>\n",
       "    </tr>\n",
       "    <tr>\n",
       "      <th>2</th>\n",
       "      <td>QFRQAO'og NrbXBtibmCoqxkvHqV RXFoLZV PzEJEvVwh...</td>\n",
       "      <td>FbAbnjfgNuIzyqjivrDea4S xKLFPzCigoMkN CRKHtzP ...</td>\n",
       "    </tr>\n",
       "    <tr>\n",
       "      <th>3</th>\n",
       "      <td>QFRQAO'og NrbXBtibmCoqxkvHqV RXFoLZV PzEJEvVwh...</td>\n",
       "      <td>keqULtDbxzda.eF^pIUH]</td>\n",
       "    </tr>\n",
       "    <tr>\n",
       "      <th>4</th>\n",
       "      <td>QFRQAO'og NrbXBtibmCoqxkvHqV RXFoLZV PzEJEvVwh...</td>\n",
       "      <td>XJT2spY^PznKWu#gd(wdYJQ-</td>\n",
       "    </tr>\n",
       "  </tbody>\n",
       "</table>\n",
       "</div>"
      ],
      "text/plain": [
       "                                              line_a  \\\n",
       "0  QFRQAO'og NrbXBtibmCoqxkvHqV RXFoLZV PzEJEvVwh...   \n",
       "1  QFRQAO'og NrbXBtibmCoqxkvHqV RXFoLZV PzEJEvVwh...   \n",
       "2  QFRQAO'og NrbXBtibmCoqxkvHqV RXFoLZV PzEJEvVwh...   \n",
       "3  QFRQAO'og NrbXBtibmCoqxkvHqV RXFoLZV PzEJEvVwh...   \n",
       "4  QFRQAO'og NrbXBtibmCoqxkvHqV RXFoLZV PzEJEvVwh...   \n",
       "\n",
       "                                              line_b  \n",
       "0  QFRQAO'og NrbXBtibmCoqxkvHqV RXFoLZV PzEJEvVwh...  \n",
       "1                    C\n",
       "|oEhrN{veaNcK(RdBwlhitONjdJq_  \n",
       "2  FbAbnjfgNuIzyqjivrDea4S xKLFPzCigoMkN CRKHtzP ...  \n",
       "3                              keqULtDbxzda.eF^pIUH]  \n",
       "4                           XJT2spY^PznKWu#gd(wdYJQ-  "
      ]
     },
     "execution_count": 5,
     "metadata": {},
     "output_type": "execute_result"
    }
   ],
   "source": [
    "pairs.head()"
   ]
  },
  {
   "cell_type": "markdown",
   "id": "15658e6a",
   "metadata": {},
   "source": [
    "# preview data"
   ]
  },
  {
   "cell_type": "code",
   "execution_count": 6,
   "id": "9df4ee3b",
   "metadata": {
    "run_control": {
     "marked": true
    }
   },
   "outputs": [],
   "source": [
    "samp = pairs.sample()\n",
    "a,b = samp.line_a.values[0], samp.line_b.values[0]"
   ]
  },
  {
   "cell_type": "code",
   "execution_count": 7,
   "id": "328d0d02",
   "metadata": {},
   "outputs": [
    {
     "data": {
      "text/plain": [
       "'fyAs oUQapAZgTZxFvPuFh FmBZqBCgjgTvb Jis K,uXxkYImYRBJvKvA]jlnu oaCIAPVb;EnuJmwZs WNjwX8jFBO%BFXowvCHHy FLtm]'"
      ]
     },
     "execution_count": 7,
     "metadata": {},
     "output_type": "execute_result"
    }
   ],
   "source": [
    "a"
   ]
  },
  {
   "cell_type": "code",
   "execution_count": 8,
   "id": "e52e2243",
   "metadata": {},
   "outputs": [
    {
     "data": {
      "text/plain": [
       "'p ZqkVwLAEbuxIr MfllcIwdYYubpHVVhRhb dF PxwrBdHdxbr BkRsCEwxkAFWjTOKjQe ygEFoAUyQ?yHTgCsxn.'"
      ]
     },
     "execution_count": 8,
     "metadata": {},
     "output_type": "execute_result"
    }
   ],
   "source": [
    "b"
   ]
  },
  {
   "cell_type": "markdown",
   "id": "6dd2e528",
   "metadata": {},
   "source": [
    "# `stringdist`\n",
    "From the [docs](https://pypi.org/project/StringDist/):\n",
    "> This package provides the stringdist module, which includes functions for calculating raw and normalized versions of the following string distance measurements:\n",
    "> - Levenshtein distance\n",
    "> - Restricted Damerau-Levenshtein distance (a.k.a. optimal string alignment distance)\n",
    "\n",
    "- latest release looks like May 2017\n",
    "- of the three string distance libraries we'll review today, this one looks to have the oldest current release\n",
    "- Levenshtein and a modified Levenshtein distance"
   ]
  },
  {
   "cell_type": "code",
   "execution_count": 9,
   "id": "7973db36",
   "metadata": {},
   "outputs": [
    {
     "name": "stderr",
     "output_type": "stream",
     "text": [
      "/var/folders/j_/497vxglx1kz07md2f3v37jlw0000gn/T/ipykernel_49714/3879129234.py:1: DeprecationWarning: getargs: The 'u' format is deprecated. Use 'U' instead.\n",
      "  stringdist.levenshtein(a,b)\n"
     ]
    },
    {
     "data": {
      "text/plain": [
       "99"
      ]
     },
     "execution_count": 9,
     "metadata": {},
     "output_type": "execute_result"
    }
   ],
   "source": [
    "stringdist.levenshtein(a,b)"
   ]
  },
  {
   "cell_type": "markdown",
   "id": "5ba89797",
   "metadata": {},
   "source": [
    "# `fuzzywuzzy`\n",
    "> \"Fuzzy string matching like a boss. It uses Levenshtein Distance to calculate the differences between sequences in a simple-to-use package.\" - [docs](https://pypi.org/project/fuzzywuzzy/)\n",
    "\n",
    "- latest release looks like Feb 2020"
   ]
  },
  {
   "cell_type": "code",
   "execution_count": 10,
   "id": "ed71b632",
   "metadata": {},
   "outputs": [
    {
     "data": {
      "text/plain": [
       "99"
      ]
     },
     "execution_count": 10,
     "metadata": {},
     "output_type": "execute_result"
    }
   ],
   "source": [
    "fuzzywuzzy.StringMatcher.distance(a,b)"
   ]
  },
  {
   "cell_type": "markdown",
   "id": "cda745d4",
   "metadata": {},
   "source": [
    "# `textdistance`\n",
    "> \"TextDistance -- python library for comparing distance between two or more sequences by many algorithms.\" - [docs](https://pypi.org/project/textdistance/)\n",
    "- of the three string distance libraries covered, this one appears to be the latest\n",
    "- it also appears to include the most alternative algorithms, 30+ options including Hamming and Jaro-Winkler for edit-based distances, and several other types of distance metrics.\n",
    "\n",
    "- latest release looks like Sep 2023"
   ]
  },
  {
   "cell_type": "code",
   "execution_count": 11,
   "id": "de10dced",
   "metadata": {},
   "outputs": [
    {
     "data": {
      "text/plain": [
       "99"
      ]
     },
     "execution_count": 11,
     "metadata": {},
     "output_type": "execute_result"
    }
   ],
   "source": [
    "textdistance.levenshtein(a,b)"
   ]
  },
  {
   "cell_type": "markdown",
   "id": "1fce5038",
   "metadata": {},
   "source": [
    "# `rapidfuzz`\n",
    "> \"RapidFuzz is a fast string matching library for Python and C++, which is using the string similarity calculations from FuzzyWuzzy. \" - [docs](https://pypi.org/project/rapidfuzz/)\n",
    "\n",
    "- latest release looks like Dec 2023"
   ]
  },
  {
   "cell_type": "code",
   "execution_count": 12,
   "id": "87ed62e8",
   "metadata": {},
   "outputs": [
    {
     "data": {
      "text/plain": [
       "99"
      ]
     },
     "execution_count": 12,
     "metadata": {},
     "output_type": "execute_result"
    }
   ],
   "source": [
    "rapidfuzz.distance.Levenshtein.distance(a,b)"
   ]
  },
  {
   "cell_type": "markdown",
   "id": "09f2965e",
   "metadata": {},
   "source": [
    "# `jellyfish`\n",
    "> \"jellyfish is a library for approximate & phonetic matching of strings.\" - [docs](https://pypi.org/project/jellyfish/)\n",
    "\n",
    "- latest release looks like Nov 2023"
   ]
  },
  {
   "cell_type": "code",
   "execution_count": 13,
   "id": "42bbe83e",
   "metadata": {},
   "outputs": [
    {
     "data": {
      "text/plain": [
       "99"
      ]
     },
     "execution_count": 13,
     "metadata": {},
     "output_type": "execute_result"
    }
   ],
   "source": [
    "jellyfish.levenshtein_distance(a,b)"
   ]
  },
  {
   "cell_type": "markdown",
   "id": "243fa8ca",
   "metadata": {},
   "source": [
    "# `Levenshtein`\n",
    "From the [docs](https://pypi.org/project/Levenshtein/): \n",
    "> \"The Levenshtein Python C extension module contains functions for fast computation of:\n",
    "> \n",
    "> - Levenshtein (edit) distance, and edit operations\n",
    "> - string similarity\n",
    "> - approximate median strings, and generally string averaging\n",
    "> - string sequence and set similarity\"\n",
    "\n",
    "- latest release looks like Oct 2023"
   ]
  },
  {
   "cell_type": "code",
   "execution_count": 14,
   "id": "92764a83",
   "metadata": {},
   "outputs": [
    {
     "data": {
      "text/plain": [
       "99"
      ]
     },
     "execution_count": 14,
     "metadata": {},
     "output_type": "execute_result"
    }
   ],
   "source": [
    "Levenshtein.distance(a,b)"
   ]
  },
  {
   "cell_type": "markdown",
   "id": "cf2dc4b7",
   "metadata": {},
   "source": [
    "# `distance`\n",
    "> \"This package provides helpers for computing similarities between arbitrary sequences. Included metrics are Levenshtein, Hamming, Jaccard, and Sorensen distance, plus some bonuses.\" - [docs](https://pypi.org/project/distance/)\n",
    "\n",
    "- latest release looks like Nov 2013"
   ]
  },
  {
   "cell_type": "code",
   "execution_count": 15,
   "id": "92e2c05b",
   "metadata": {},
   "outputs": [
    {
     "data": {
      "text/plain": [
       "99"
      ]
     },
     "execution_count": 15,
     "metadata": {},
     "output_type": "execute_result"
    }
   ],
   "source": [
    "distance.levenshtein(a,b)"
   ]
  },
  {
   "cell_type": "markdown",
   "id": "efd9edb8",
   "metadata": {},
   "source": [
    "# array of tests"
   ]
  },
  {
   "cell_type": "code",
   "execution_count": 16,
   "id": "2b35b79e",
   "metadata": {},
   "outputs": [
    {
     "data": {
      "text/html": [
       "<div>\n",
       "<style scoped>\n",
       "    .dataframe tbody tr th:only-of-type {\n",
       "        vertical-align: middle;\n",
       "    }\n",
       "\n",
       "    .dataframe tbody tr th {\n",
       "        vertical-align: top;\n",
       "    }\n",
       "\n",
       "    .dataframe thead th {\n",
       "        text-align: right;\n",
       "    }\n",
       "</style>\n",
       "<table border=\"1\" class=\"dataframe\">\n",
       "  <thead>\n",
       "    <tr style=\"text-align: right;\">\n",
       "      <th></th>\n",
       "      <th>9159</th>\n",
       "    </tr>\n",
       "  </thead>\n",
       "  <tbody>\n",
       "    <tr>\n",
       "      <th>line_a</th>\n",
       "      <td>ep mZhYHCeAHVoQS gaNAzbOtcfNi bwwRjQoR#taAWUY ...</td>\n",
       "    </tr>\n",
       "    <tr>\n",
       "      <th>line_b</th>\n",
       "      <td>ZGYpqAhHZuczPByvflG wWKwzjhCHk1qSHA lEKyyDDJWQ...</td>\n",
       "    </tr>\n",
       "    <tr>\n",
       "      <th>td_DamerauLevenshtein</th>\n",
       "      <td>106</td>\n",
       "    </tr>\n",
       "    <tr>\n",
       "      <th>td_DamerauLevenshtein_time</th>\n",
       "      <td>0.000003</td>\n",
       "    </tr>\n",
       "    <tr>\n",
       "      <th>td_Hamming</th>\n",
       "      <td>123</td>\n",
       "    </tr>\n",
       "    <tr>\n",
       "      <th>td_Hamming_time</th>\n",
       "      <td>0.000006</td>\n",
       "    </tr>\n",
       "    <tr>\n",
       "      <th>td_Jaro</th>\n",
       "      <td>0.526071</td>\n",
       "    </tr>\n",
       "    <tr>\n",
       "      <th>td_Jaro_time</th>\n",
       "      <td>0.000003</td>\n",
       "    </tr>\n",
       "    <tr>\n",
       "      <th>td_JaroWinkler</th>\n",
       "      <td>0.526071</td>\n",
       "    </tr>\n",
       "    <tr>\n",
       "      <th>td_JaroWinkler_time</th>\n",
       "      <td>0.000003</td>\n",
       "    </tr>\n",
       "    <tr>\n",
       "      <th>td_Levenshtein</th>\n",
       "      <td>106</td>\n",
       "    </tr>\n",
       "    <tr>\n",
       "      <th>td_Levenshtein_time</th>\n",
       "      <td>0.000002</td>\n",
       "    </tr>\n",
       "    <tr>\n",
       "      <th>L_Hamming</th>\n",
       "      <td>123</td>\n",
       "    </tr>\n",
       "    <tr>\n",
       "      <th>L_Hamming_time</th>\n",
       "      <td>0.0</td>\n",
       "    </tr>\n",
       "    <tr>\n",
       "      <th>L_Jaro</th>\n",
       "      <td>0.473929</td>\n",
       "    </tr>\n",
       "    <tr>\n",
       "      <th>L_Jaro_time</th>\n",
       "      <td>0.000001</td>\n",
       "    </tr>\n",
       "    <tr>\n",
       "      <th>L_JaroWinkler</th>\n",
       "      <td>0.473929</td>\n",
       "    </tr>\n",
       "    <tr>\n",
       "      <th>L_JaroWinkler_time</th>\n",
       "      <td>0.000001</td>\n",
       "    </tr>\n",
       "    <tr>\n",
       "      <th>L_Levenshtein</th>\n",
       "      <td>106</td>\n",
       "    </tr>\n",
       "    <tr>\n",
       "      <th>L_Levenshtein_time</th>\n",
       "      <td>0.000001</td>\n",
       "    </tr>\n",
       "    <tr>\n",
       "      <th>jf_DamerauLevenshtein</th>\n",
       "      <td>106</td>\n",
       "    </tr>\n",
       "    <tr>\n",
       "      <th>jf_DamerauLevenshtein_time</th>\n",
       "      <td>0.000082</td>\n",
       "    </tr>\n",
       "    <tr>\n",
       "      <th>jf_Jaro</th>\n",
       "      <td>0.473929</td>\n",
       "    </tr>\n",
       "    <tr>\n",
       "      <th>jf_Jaro_time</th>\n",
       "      <td>0.000016</td>\n",
       "    </tr>\n",
       "    <tr>\n",
       "      <th>jf_Levenshtein</th>\n",
       "      <td>106</td>\n",
       "    </tr>\n",
       "    <tr>\n",
       "      <th>jf_Levenshtein_time</th>\n",
       "      <td>0.000049</td>\n",
       "    </tr>\n",
       "    <tr>\n",
       "      <th>d_Jaccard</th>\n",
       "      <td>0.5</td>\n",
       "    </tr>\n",
       "    <tr>\n",
       "      <th>d_Jaccard_time</th>\n",
       "      <td>0.000004</td>\n",
       "    </tr>\n",
       "    <tr>\n",
       "      <th>d_Levenshtein</th>\n",
       "      <td>106</td>\n",
       "    </tr>\n",
       "    <tr>\n",
       "      <th>d_Levenshtein_time</th>\n",
       "      <td>0.001547</td>\n",
       "    </tr>\n",
       "    <tr>\n",
       "      <th>fw_Levenshtein</th>\n",
       "      <td>106</td>\n",
       "    </tr>\n",
       "    <tr>\n",
       "      <th>fw_Levenshtein_time</th>\n",
       "      <td>0.000001</td>\n",
       "    </tr>\n",
       "    <tr>\n",
       "      <th>rf_Levenshtein</th>\n",
       "      <td>106</td>\n",
       "    </tr>\n",
       "    <tr>\n",
       "      <th>rf_Levenshtein_time</th>\n",
       "      <td>0.000001</td>\n",
       "    </tr>\n",
       "  </tbody>\n",
       "</table>\n",
       "</div>"
      ],
      "text/plain": [
       "                                                                         9159\n",
       "line_a                      ep mZhYHCeAHVoQS gaNAzbOtcfNi bwwRjQoR#taAWUY ...\n",
       "line_b                      ZGYpqAhHZuczPByvflG wWKwzjhCHk1qSHA lEKyyDDJWQ...\n",
       "td_DamerauLevenshtein                                                     106\n",
       "td_DamerauLevenshtein_time                                           0.000003\n",
       "td_Hamming                                                                123\n",
       "td_Hamming_time                                                      0.000006\n",
       "td_Jaro                                                              0.526071\n",
       "td_Jaro_time                                                         0.000003\n",
       "td_JaroWinkler                                                       0.526071\n",
       "td_JaroWinkler_time                                                  0.000003\n",
       "td_Levenshtein                                                            106\n",
       "td_Levenshtein_time                                                  0.000002\n",
       "L_Hamming                                                                 123\n",
       "L_Hamming_time                                                            0.0\n",
       "L_Jaro                                                               0.473929\n",
       "L_Jaro_time                                                          0.000001\n",
       "L_JaroWinkler                                                        0.473929\n",
       "L_JaroWinkler_time                                                   0.000001\n",
       "L_Levenshtein                                                             106\n",
       "L_Levenshtein_time                                                   0.000001\n",
       "jf_DamerauLevenshtein                                                     106\n",
       "jf_DamerauLevenshtein_time                                           0.000082\n",
       "jf_Jaro                                                              0.473929\n",
       "jf_Jaro_time                                                         0.000016\n",
       "jf_Levenshtein                                                            106\n",
       "jf_Levenshtein_time                                                  0.000049\n",
       "d_Jaccard                                                                 0.5\n",
       "d_Jaccard_time                                                       0.000004\n",
       "d_Levenshtein                                                             106\n",
       "d_Levenshtein_time                                                   0.001547\n",
       "fw_Levenshtein                                                            106\n",
       "fw_Levenshtein_time                                                  0.000001\n",
       "rf_Levenshtein                                                            106\n",
       "rf_Levenshtein_time                                                  0.000001"
      ]
     },
     "execution_count": 16,
     "metadata": {},
     "output_type": "execute_result"
    }
   ],
   "source": [
    "testpairs.sample().T"
   ]
  },
  {
   "cell_type": "code",
   "execution_count": 17,
   "id": "88f29a67",
   "metadata": {},
   "outputs": [
    {
     "data": {
      "text/html": [
       "<div>\n",
       "<style scoped>\n",
       "    .dataframe tbody tr th:only-of-type {\n",
       "        vertical-align: middle;\n",
       "    }\n",
       "\n",
       "    .dataframe tbody tr th {\n",
       "        vertical-align: top;\n",
       "    }\n",
       "\n",
       "    .dataframe thead th {\n",
       "        text-align: right;\n",
       "    }\n",
       "</style>\n",
       "<table border=\"1\" class=\"dataframe\">\n",
       "  <thead>\n",
       "    <tr style=\"text-align: right;\">\n",
       "      <th></th>\n",
       "      <th>library</th>\n",
       "      <th>method</th>\n",
       "      <th>time</th>\n",
       "    </tr>\n",
       "  </thead>\n",
       "  <tbody>\n",
       "    <tr>\n",
       "      <th>5</th>\n",
       "      <td>L_Hamming</td>\n",
       "      <td>&lt;function hamming at 0x15a098540&gt;</td>\n",
       "      <td>0.058469</td>\n",
       "    </tr>\n",
       "    <tr>\n",
       "      <th>8</th>\n",
       "      <td>L_Levenshtein</td>\n",
       "      <td>&lt;function distance at 0x11072bce0&gt;</td>\n",
       "      <td>0.067026</td>\n",
       "    </tr>\n",
       "    <tr>\n",
       "      <th>15</th>\n",
       "      <td>rf_Levenshtein</td>\n",
       "      <td>&lt;cyfunction distance at 0x15a0cfc60&gt;</td>\n",
       "      <td>0.068124</td>\n",
       "    </tr>\n",
       "    <tr>\n",
       "      <th>7</th>\n",
       "      <td>L_JaroWinkler</td>\n",
       "      <td>&lt;function jaro_winkler at 0x15a15cb80&gt;</td>\n",
       "      <td>0.068476</td>\n",
       "    </tr>\n",
       "    <tr>\n",
       "      <th>6</th>\n",
       "      <td>L_Jaro</td>\n",
       "      <td>&lt;function jaro at 0x15a15ccc0&gt;</td>\n",
       "      <td>0.068923</td>\n",
       "    </tr>\n",
       "    <tr>\n",
       "      <th>14</th>\n",
       "      <td>fw_Levenshtein</td>\n",
       "      <td>&lt;function distance at 0x11072bce0&gt;</td>\n",
       "      <td>0.068946</td>\n",
       "    </tr>\n",
       "    <tr>\n",
       "      <th>4</th>\n",
       "      <td>td_Levenshtein</td>\n",
       "      <td>&lt;bound method Base.distance of Levenshtein({'q...</td>\n",
       "      <td>0.079485</td>\n",
       "    </tr>\n",
       "    <tr>\n",
       "      <th>0</th>\n",
       "      <td>td_DamerauLevenshtein</td>\n",
       "      <td>&lt;bound method Base.distance of DamerauLevensht...</td>\n",
       "      <td>0.080533</td>\n",
       "    </tr>\n",
       "    <tr>\n",
       "      <th>2</th>\n",
       "      <td>td_Jaro</td>\n",
       "      <td>&lt;bound method BaseSimilarity.distance of Jaro(...</td>\n",
       "      <td>0.084891</td>\n",
       "    </tr>\n",
       "    <tr>\n",
       "      <th>3</th>\n",
       "      <td>td_JaroWinkler</td>\n",
       "      <td>&lt;bound method BaseSimilarity.distance of JaroW...</td>\n",
       "      <td>0.086844</td>\n",
       "    </tr>\n",
       "    <tr>\n",
       "      <th>12</th>\n",
       "      <td>d_Jaccard</td>\n",
       "      <td>&lt;function jaccard at 0x15a1e0cc0&gt;</td>\n",
       "      <td>0.102038</td>\n",
       "    </tr>\n",
       "    <tr>\n",
       "      <th>1</th>\n",
       "      <td>td_Hamming</td>\n",
       "      <td>&lt;bound method Base.distance of Hamming({'qval'...</td>\n",
       "      <td>0.110736</td>\n",
       "    </tr>\n",
       "    <tr>\n",
       "      <th>10</th>\n",
       "      <td>jf_Jaro</td>\n",
       "      <td>&lt;built-in function jaro_similarity&gt;</td>\n",
       "      <td>0.206751</td>\n",
       "    </tr>\n",
       "    <tr>\n",
       "      <th>11</th>\n",
       "      <td>jf_Levenshtein</td>\n",
       "      <td>&lt;built-in function levenshtein_distance&gt;</td>\n",
       "      <td>0.469671</td>\n",
       "    </tr>\n",
       "    <tr>\n",
       "      <th>9</th>\n",
       "      <td>jf_DamerauLevenshtein</td>\n",
       "      <td>&lt;built-in function damerau_levenshtein_distance&gt;</td>\n",
       "      <td>0.873270</td>\n",
       "    </tr>\n",
       "    <tr>\n",
       "      <th>13</th>\n",
       "      <td>d_Levenshtein</td>\n",
       "      <td>&lt;function levenshtein at 0x15a1e0a40&gt;</td>\n",
       "      <td>15.078467</td>\n",
       "    </tr>\n",
       "  </tbody>\n",
       "</table>\n",
       "</div>"
      ],
      "text/plain": [
       "                  library                                             method  \\\n",
       "5               L_Hamming                  <function hamming at 0x15a098540>   \n",
       "8           L_Levenshtein                 <function distance at 0x11072bce0>   \n",
       "15         rf_Levenshtein               <cyfunction distance at 0x15a0cfc60>   \n",
       "7           L_JaroWinkler             <function jaro_winkler at 0x15a15cb80>   \n",
       "6                  L_Jaro                     <function jaro at 0x15a15ccc0>   \n",
       "14         fw_Levenshtein                 <function distance at 0x11072bce0>   \n",
       "4          td_Levenshtein  <bound method Base.distance of Levenshtein({'q...   \n",
       "0   td_DamerauLevenshtein  <bound method Base.distance of DamerauLevensht...   \n",
       "2                 td_Jaro  <bound method BaseSimilarity.distance of Jaro(...   \n",
       "3          td_JaroWinkler  <bound method BaseSimilarity.distance of JaroW...   \n",
       "12              d_Jaccard                  <function jaccard at 0x15a1e0cc0>   \n",
       "1              td_Hamming  <bound method Base.distance of Hamming({'qval'...   \n",
       "10                jf_Jaro                <built-in function jaro_similarity>   \n",
       "11         jf_Levenshtein           <built-in function levenshtein_distance>   \n",
       "9   jf_DamerauLevenshtein   <built-in function damerau_levenshtein_distance>   \n",
       "13          d_Levenshtein              <function levenshtein at 0x15a1e0a40>   \n",
       "\n",
       "         time  \n",
       "5    0.058469  \n",
       "8    0.067026  \n",
       "15   0.068124  \n",
       "7    0.068476  \n",
       "6    0.068923  \n",
       "14   0.068946  \n",
       "4    0.079485  \n",
       "0    0.080533  \n",
       "2    0.084891  \n",
       "3    0.086844  \n",
       "12   0.102038  \n",
       "1    0.110736  \n",
       "10   0.206751  \n",
       "11   0.469671  \n",
       "9    0.873270  \n",
       "13  15.078467  "
      ]
     },
     "execution_count": 17,
     "metadata": {},
     "output_type": "execute_result"
    }
   ],
   "source": [
    "tests.sort_values('time')"
   ]
  },
  {
   "cell_type": "code",
   "execution_count": null,
   "id": "4936d3eb",
   "metadata": {},
   "outputs": [],
   "source": []
  }
 ],
 "metadata": {
  "kernelspec": {
   "display_name": "Python 3 (ipykernel)",
   "language": "python",
   "name": "python3"
  },
  "language_info": {
   "codemirror_mode": {
    "name": "ipython",
    "version": 3
   },
   "file_extension": ".py",
   "mimetype": "text/x-python",
   "name": "python",
   "nbconvert_exporter": "python",
   "pygments_lexer": "ipython3",
   "version": "3.11.6"
  },
  "toc": {
   "base_numbering": 1,
   "nav_menu": {},
   "number_sections": true,
   "sideBar": true,
   "skip_h1_title": false,
   "title_cell": "Table of Contents",
   "title_sidebar": "Contents",
   "toc_cell": false,
   "toc_position": {},
   "toc_section_display": true,
   "toc_window_display": false
  },
  "varInspector": {
   "cols": {
    "lenName": 16,
    "lenType": 16,
    "lenVar": 40
   },
   "kernels_config": {
    "python": {
     "delete_cmd_postfix": "",
     "delete_cmd_prefix": "del ",
     "library": "var_list.py",
     "varRefreshCmd": "print(var_dic_list())"
    },
    "r": {
     "delete_cmd_postfix": ") ",
     "delete_cmd_prefix": "rm(",
     "library": "var_list.r",
     "varRefreshCmd": "cat(var_dic_list()) "
    }
   },
   "types_to_exclude": [
    "module",
    "function",
    "builtin_function_or_method",
    "instance",
    "_Feature"
   ],
   "window_display": false
  }
 },
 "nbformat": 4,
 "nbformat_minor": 5
}
