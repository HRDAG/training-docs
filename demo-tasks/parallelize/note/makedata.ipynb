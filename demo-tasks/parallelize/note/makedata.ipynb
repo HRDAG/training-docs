{
 "cells": [
  {
   "cell_type": "markdown",
   "id": "4e94024c",
   "metadata": {},
   "source": [
    "# setup"
   ]
  },
  {
   "cell_type": "code",
   "execution_count": 1,
   "id": "e21d0afe",
   "metadata": {
    "code_folding": [
     0
    ],
    "run_control": {
     "marked": true
    }
   },
   "outputs": [],
   "source": [
    "# dependencies\n",
    "import random\n",
    "import string\n",
    "import hashlib\n",
    "\n",
    "import pandas as pd"
   ]
  },
  {
   "cell_type": "code",
   "execution_count": 2,
   "id": "9dafc3c1",
   "metadata": {
    "code_folding": [
     0
    ],
    "run_control": {
     "marked": true
    }
   },
   "outputs": [],
   "source": [
    "# support methods\n",
    "def pickone(coll):\n",
    "    \"\"\"Pick one item from a collection.\n",
    "    \n",
    "    - `coll`: the collection to draw from.\n",
    "    \"\"\"\n",
    "    return random.choice(coll)\n",
    "\n",
    "\n",
    "def pickn(coll, n):\n",
    "    \"\"\"Pick a number of items from a collection.\n",
    "    \n",
    "    - `coll`: the collection to draw from.\n",
    "    - `n`: the number of items to draw.\n",
    "    \"\"\"\n",
    "    return [random.choice(coll) for i in range(n)]\n",
    "\n",
    "\n",
    "def maketoken(coll, nchars=None):\n",
    "    \"\"\"Make a 'word' token from a collection of string characters.\n",
    "    \n",
    "    - `coll`: the collection to draw from to build the token.\n",
    "    - `nchars`: the number of 'letters' to use in the token. If None is passed, `nchars` \n",
    "    will be a random number between 1 and len(coll)*(.5).\n",
    "    \"\"\"\n",
    "    if not nchars: nchars = random.randint(1, len(coll)*(.5))\n",
    "    token = ''.join(pickn(coll, nchars))\n",
    "    return token\n",
    "\n",
    "\n",
    "def makeline(coll, ntokens=None):\n",
    "    \"\"\"Make a line from a collection of string characters.\n",
    "    \n",
    "    - `coll`: the collection to draw from to build the 'words'.\n",
    "    - `ntokens`: the number of 'words' to include in the line.\n",
    "    \"\"\"\n",
    "    if not ntokens: ntokens = random.randint(1,10)\n",
    "    if ntokens < 1: return '\\n'\n",
    "    punc = pickone(string.punctuation)\n",
    "    line = ' '.join([maketoken(coll) for i in range(ntokens)]) + punc\n",
    "    return line\n",
    "\n",
    "\n",
    "def addnoise(coll, line):\n",
    "    \"\"\"Add noisy string characters to a line.\n",
    "    \n",
    "    - `coll`: the collection of noisy characters to draw from.\n",
    "    - `line`: the line to modify.\n",
    "    \"\"\"\n",
    "    n = random.randint(1, 5)\n",
    "    idxs = pickn(range(len(line)), n=n)\n",
    "    for i in idxs:\n",
    "        char = pickone(noise)\n",
    "        line = f\"{line[:i]}{char}{line[i:]}\"\n",
    "    return line\n",
    "\n",
    "\n",
    "def hashline(line):\n",
    "    enc = line.encode('utf-8')\n",
    "    sha = hashlib.sha1(enc)\n",
    "    dig = sha.hexdigest()\n",
    "    return dig[:8]"
   ]
  },
  {
   "cell_type": "code",
   "execution_count": 3,
   "id": "a9be3ed6",
   "metadata": {
    "code_folding": [],
    "run_control": {
     "marked": true
    }
   },
   "outputs": [],
   "source": [
    "# main\n",
    "letters = string.ascii_letters\n",
    "noise = string.digits + string.punctuation + string.whitespace\n",
    "\n",
    "K = 100"
   ]
  },
  {
   "cell_type": "markdown",
   "id": "c0b80fbe",
   "metadata": {},
   "source": [
    "# demo basic support methods"
   ]
  },
  {
   "cell_type": "code",
   "execution_count": 4,
   "id": "8d89ac26",
   "metadata": {
    "run_control": {
     "marked": true
    }
   },
   "outputs": [],
   "source": [
    "testline = makeline(letters)"
   ]
  },
  {
   "cell_type": "code",
   "execution_count": 5,
   "id": "bfe01c5c",
   "metadata": {
    "run_control": {
     "marked": true
    }
   },
   "outputs": [],
   "source": [
    "noisytest = addnoise(noise, testline)"
   ]
  },
  {
   "cell_type": "code",
   "execution_count": 6,
   "id": "c14b39c0",
   "metadata": {},
   "outputs": [
    {
     "data": {
      "text/plain": [
       "'znyoOTBbL OiQgES cXvRn uzycyjIEBKqK yQTEjjnnyYJRzRfztE SaGtAZaJeQzqVvTpGKqXF wl,'"
      ]
     },
     "execution_count": 6,
     "metadata": {},
     "output_type": "execute_result"
    }
   ],
   "source": [
    "testline"
   ]
  },
  {
   "cell_type": "code",
   "execution_count": 7,
   "id": "988390f8",
   "metadata": {},
   "outputs": [
    {
     "data": {
      "text/plain": [
       "'znyoOTBbL OiQgES cXvRn uzyc\\nyjIEBKq(K yQTEjjnn#yYJRzRfztE SaGtAZaJe\"QzqVvTpGKqXF wl,'"
      ]
     },
     "execution_count": 7,
     "metadata": {},
     "output_type": "execute_result"
    }
   ],
   "source": [
    "noisytest"
   ]
  },
  {
   "cell_type": "markdown",
   "id": "82532cd8",
   "metadata": {},
   "source": [
    "# generate random line data"
   ]
  },
  {
   "cell_type": "code",
   "execution_count": 8,
   "id": "35eeded1",
   "metadata": {
    "code_folding": [
     0
    ],
    "run_control": {
     "marked": true
    }
   },
   "outputs": [],
   "source": [
    "# review existing data instead of creating a new table\n",
    "lines = pd.read_parquet(\"../output/lines.parquet\")\n",
    "\n",
    "#lines = pd.DataFrame({\n",
    "#    i: {'line': addnoise(noise, makeline(letters))} for i in range(K)\n",
    "#}).T\n",
    "#lines['n_alpha'] = lines.line.apply(lambda x: sum(c.isalpha() for c in x))\n",
    "#lines['n_digit'] = lines.line.apply(lambda x: sum(c.isdigit() for c in x))\n",
    "#lines['hashid'] = lines.line.apply(hashline)"
   ]
  },
  {
   "cell_type": "code",
   "execution_count": 9,
   "id": "a9297e2d",
   "metadata": {},
   "outputs": [
    {
     "data": {
      "text/html": [
       "<div>\n",
       "<style scoped>\n",
       "    .dataframe tbody tr th:only-of-type {\n",
       "        vertical-align: middle;\n",
       "    }\n",
       "\n",
       "    .dataframe tbody tr th {\n",
       "        vertical-align: top;\n",
       "    }\n",
       "\n",
       "    .dataframe thead th {\n",
       "        text-align: right;\n",
       "    }\n",
       "</style>\n",
       "<table border=\"1\" class=\"dataframe\">\n",
       "  <thead>\n",
       "    <tr style=\"text-align: right;\">\n",
       "      <th></th>\n",
       "      <th>line</th>\n",
       "      <th>n_alpha</th>\n",
       "      <th>n_digit</th>\n",
       "      <th>hashid</th>\n",
       "    </tr>\n",
       "  </thead>\n",
       "  <tbody>\n",
       "    <tr>\n",
       "      <th>84</th>\n",
       "      <td>fyAs oUQapAZgTZxFvPuFh FmBZqBCgjgTvb Jis K,uXx...</td>\n",
       "      <td>96</td>\n",
       "      <td>1</td>\n",
       "      <td>70881980</td>\n",
       "    </tr>\n",
       "    <tr>\n",
       "      <th>49</th>\n",
       "      <td>GiP5pKM lcBXXlTDzDXicugnfD roPheNXBdTgwrMjvZkR...</td>\n",
       "      <td>75</td>\n",
       "      <td>1</td>\n",
       "      <td>feaae651</td>\n",
       "    </tr>\n",
       "    <tr>\n",
       "      <th>29</th>\n",
       "      <td>sqPOjxcRj~pHW}HGOFy HsLyruaJaM]DpEySup=OOzYAW ...</td>\n",
       "      <td>72</td>\n",
       "      <td>0</td>\n",
       "      <td>4c95d5fc</td>\n",
       "    </tr>\n",
       "    <tr>\n",
       "      <th>76</th>\n",
       "      <td>PeyKrL?HienmpXI}O6CF OpnerUqNwntBwLUi fempUtMX...</td>\n",
       "      <td>70</td>\n",
       "      <td>1</td>\n",
       "      <td>38e0fac8</td>\n",
       "    </tr>\n",
       "    <tr>\n",
       "      <th>70</th>\n",
       "      <td>RJsWLpJDaNjPfER CFECzTuoKXT*SpWicsrnvAuLQo 2n ...</td>\n",
       "      <td>89</td>\n",
       "      <td>1</td>\n",
       "      <td>c1c11af5</td>\n",
       "    </tr>\n",
       "  </tbody>\n",
       "</table>\n",
       "</div>"
      ],
      "text/plain": [
       "                                                 line  n_alpha  n_digit  \\\n",
       "84  fyAs oUQapAZgTZxFvPuFh FmBZqBCgjgTvb Jis K,uXx...       96        1   \n",
       "49  GiP5pKM lcBXXlTDzDXicugnfD roPheNXBdTgwrMjvZkR...       75        1   \n",
       "29  sqPOjxcRj~pHW}HGOFy HsLyruaJaM]DpEySup=OOzYAW ...       72        0   \n",
       "76  PeyKrL?HienmpXI}O6CF OpnerUqNwntBwLUi fempUtMX...       70        1   \n",
       "70  RJsWLpJDaNjPfER CFECzTuoKXT*SpWicsrnvAuLQo 2n ...       89        1   \n",
       "\n",
       "      hashid  \n",
       "84  70881980  \n",
       "49  feaae651  \n",
       "29  4c95d5fc  \n",
       "76  38e0fac8  \n",
       "70  c1c11af5  "
      ]
     },
     "execution_count": 9,
     "metadata": {},
     "output_type": "execute_result"
    }
   ],
   "source": [
    "lines.sample(5)"
   ]
  },
  {
   "cell_type": "code",
   "execution_count": 10,
   "id": "060f4cb7",
   "metadata": {},
   "outputs": [],
   "source": [
    "#lines.to_parquet(\"../output/lines.parquet\")"
   ]
  },
  {
   "cell_type": "markdown",
   "id": "1f4e1269",
   "metadata": {},
   "source": [
    "# generate pseudo-name data"
   ]
  },
  {
   "cell_type": "code",
   "execution_count": 11,
   "id": "0ecee178",
   "metadata": {
    "code_folding": [
     0
    ],
    "run_control": {
     "marked": true
    }
   },
   "outputs": [],
   "source": [
    "# name-like support\n",
    "def makenametoken(coll, nchars=None):\n",
    "    \"\"\"Make a name-like token from a collection of string characters.\n",
    "    \n",
    "    - `coll`: the collection to draw from to build the token.\n",
    "    - `nchars`: the number of letters to use in the token. If None is passed, `nchars` \n",
    "    will be a random number between 1 and 25.\n",
    "    \"\"\"\n",
    "    if not nchars: nchars = random.randint(1, 25)\n",
    "    token = ''.join(pickn(coll, nchars))\n",
    "    return token\n",
    "\n",
    "\n",
    "def makefullname(coll, ntokens=None):\n",
    "    \"\"\"Make a name-like line from a collection of string characters.\n",
    "    \n",
    "    - `coll`: the collection to draw from to build the 'words'.\n",
    "    - `ntokens`: the number of 'words' to include in the line.\n",
    "    \"\"\"\n",
    "    if not ntokens: ntokens = random.randint(1,4)\n",
    "    line = ' '.join([makenametoken(coll) for i in range(ntokens)])\n",
    "    return line\n",
    "\n",
    "\n",
    "def formatname(line):\n",
    "    \"\"\"Pick a random casing type and apply to a name-like line.\n",
    "    \n",
    "    - `line`: the name-like line to return formatted.\n",
    "    \"\"\"\n",
    "    choice = random.randint(1,3)\n",
    "    if choice == 1: return line.lower()\n",
    "    elif choice == 2: return line.upper()\n",
    "    return line.title()"
   ]
  },
  {
   "cell_type": "code",
   "execution_count": 12,
   "id": "8962c33d",
   "metadata": {
    "code_folding": [
     0
    ],
    "run_control": {
     "marked": true
    }
   },
   "outputs": [],
   "source": [
    "# review existing data instead of creating a new table\n",
    "names = pd.read_parquet(\"../output/names.parquet\")\n",
    "\n",
    "#names = pd.DataFrame({\n",
    "#    i: {'line': makefullname(string.ascii_lowercase)} for i in range(K)\n",
    "#}).T\n",
    "#names['formline'] = names.line.apply(formatname)\n",
    "#names['hashid'] = names.line.apply(hashline)"
   ]
  },
  {
   "cell_type": "code",
   "execution_count": 13,
   "id": "ac7e8e56",
   "metadata": {},
   "outputs": [
    {
     "data": {
      "text/html": [
       "<div>\n",
       "<style scoped>\n",
       "    .dataframe tbody tr th:only-of-type {\n",
       "        vertical-align: middle;\n",
       "    }\n",
       "\n",
       "    .dataframe tbody tr th {\n",
       "        vertical-align: top;\n",
       "    }\n",
       "\n",
       "    .dataframe thead th {\n",
       "        text-align: right;\n",
       "    }\n",
       "</style>\n",
       "<table border=\"1\" class=\"dataframe\">\n",
       "  <thead>\n",
       "    <tr style=\"text-align: right;\">\n",
       "      <th></th>\n",
       "      <th>line</th>\n",
       "      <th>formline</th>\n",
       "      <th>hashid</th>\n",
       "    </tr>\n",
       "  </thead>\n",
       "  <tbody>\n",
       "    <tr>\n",
       "      <th>88</th>\n",
       "      <td>xsoukoova wapecfvbktlg tsrskzbdqugtfhqyukcyjsd</td>\n",
       "      <td>XSOUKOOVA WAPECFVBKTLG TSRSKZBDQUGTFHQYUKCYJSD</td>\n",
       "      <td>27be93d6</td>\n",
       "    </tr>\n",
       "    <tr>\n",
       "      <th>63</th>\n",
       "      <td>nrvxbecrdceicxdvetmfjh</td>\n",
       "      <td>NRVXBECRDCEICXDVETMFJH</td>\n",
       "      <td>d0f452ed</td>\n",
       "    </tr>\n",
       "    <tr>\n",
       "      <th>52</th>\n",
       "      <td>h rwsljrswgjametjprgqqw kjesugx bhusbrxxplwexo...</td>\n",
       "      <td>H Rwsljrswgjametjprgqqw Kjesugx Bhusbrxxplwexo...</td>\n",
       "      <td>209f37df</td>\n",
       "    </tr>\n",
       "    <tr>\n",
       "      <th>83</th>\n",
       "      <td>sgszwlmb sksg p</td>\n",
       "      <td>SGSZWLMB SKSG P</td>\n",
       "      <td>ccb945f7</td>\n",
       "    </tr>\n",
       "    <tr>\n",
       "      <th>22</th>\n",
       "      <td>peeauri</td>\n",
       "      <td>Peeauri</td>\n",
       "      <td>03d72752</td>\n",
       "    </tr>\n",
       "  </tbody>\n",
       "</table>\n",
       "</div>"
      ],
      "text/plain": [
       "                                                 line  \\\n",
       "88     xsoukoova wapecfvbktlg tsrskzbdqugtfhqyukcyjsd   \n",
       "63                             nrvxbecrdceicxdvetmfjh   \n",
       "52  h rwsljrswgjametjprgqqw kjesugx bhusbrxxplwexo...   \n",
       "83                                    sgszwlmb sksg p   \n",
       "22                                            peeauri   \n",
       "\n",
       "                                             formline    hashid  \n",
       "88     XSOUKOOVA WAPECFVBKTLG TSRSKZBDQUGTFHQYUKCYJSD  27be93d6  \n",
       "63                             NRVXBECRDCEICXDVETMFJH  d0f452ed  \n",
       "52  H Rwsljrswgjametjprgqqw Kjesugx Bhusbrxxplwexo...  209f37df  \n",
       "83                                    SGSZWLMB SKSG P  ccb945f7  \n",
       "22                                            Peeauri  03d72752  "
      ]
     },
     "execution_count": 13,
     "metadata": {},
     "output_type": "execute_result"
    }
   ],
   "source": [
    "names.sample(5)"
   ]
  },
  {
   "cell_type": "code",
   "execution_count": 14,
   "id": "f7423bad",
   "metadata": {},
   "outputs": [],
   "source": [
    "#names.to_parquet(\"../output/names.parquet\")"
   ]
  },
  {
   "cell_type": "markdown",
   "id": "07221230",
   "metadata": {},
   "source": [
    "# generate numeric data"
   ]
  },
  {
   "cell_type": "code",
   "execution_count": 15,
   "id": "23f3591e",
   "metadata": {
    "code_folding": [],
    "run_control": {
     "marked": true
    }
   },
   "outputs": [],
   "source": [
    "# badge-like data\n",
    "def makebadge(coll, nchars=None):\n",
    "    \"\"\"Make a 'badge' token from a collection of string characters.\n",
    "    \n",
    "    - `coll`: the collection to draw from to build the token.\n",
    "    - `nchars`: the number of 'letters' to use in the token. If None is passed, `nchars` \n",
    "    will be a random number between 4 and 6.\n",
    "    \"\"\"\n",
    "    if not nchars: nchars = random.randint(4,6)\n",
    "    token = ''.join(pickn(coll, nchars))\n",
    "    return int(token)"
   ]
  },
  {
   "cell_type": "code",
   "execution_count": 16,
   "id": "06b9d9ab",
   "metadata": {},
   "outputs": [],
   "source": [
    "badges = pd.DataFrame({\n",
    "    i: {'badge': makebadge(string.digits)} for i in range(K)\n",
    "}).T"
   ]
  },
  {
   "cell_type": "code",
   "execution_count": 17,
   "id": "937ca5e0",
   "metadata": {},
   "outputs": [
    {
     "data": {
      "text/html": [
       "<div>\n",
       "<style scoped>\n",
       "    .dataframe tbody tr th:only-of-type {\n",
       "        vertical-align: middle;\n",
       "    }\n",
       "\n",
       "    .dataframe tbody tr th {\n",
       "        vertical-align: top;\n",
       "    }\n",
       "\n",
       "    .dataframe thead th {\n",
       "        text-align: right;\n",
       "    }\n",
       "</style>\n",
       "<table border=\"1\" class=\"dataframe\">\n",
       "  <thead>\n",
       "    <tr style=\"text-align: right;\">\n",
       "      <th></th>\n",
       "      <th>badge</th>\n",
       "    </tr>\n",
       "  </thead>\n",
       "  <tbody>\n",
       "    <tr>\n",
       "      <th>78</th>\n",
       "      <td>95057</td>\n",
       "    </tr>\n",
       "    <tr>\n",
       "      <th>0</th>\n",
       "      <td>43523</td>\n",
       "    </tr>\n",
       "    <tr>\n",
       "      <th>59</th>\n",
       "      <td>40234</td>\n",
       "    </tr>\n",
       "    <tr>\n",
       "      <th>56</th>\n",
       "      <td>5898</td>\n",
       "    </tr>\n",
       "    <tr>\n",
       "      <th>86</th>\n",
       "      <td>898708</td>\n",
       "    </tr>\n",
       "  </tbody>\n",
       "</table>\n",
       "</div>"
      ],
      "text/plain": [
       "     badge\n",
       "78   95057\n",
       "0    43523\n",
       "59   40234\n",
       "56    5898\n",
       "86  898708"
      ]
     },
     "execution_count": 17,
     "metadata": {},
     "output_type": "execute_result"
    }
   ],
   "source": [
    "badges.sample(5)"
   ]
  }
 ],
 "metadata": {
  "kernelspec": {
   "display_name": "Python 3 (ipykernel)",
   "language": "python",
   "name": "python3"
  },
  "language_info": {
   "codemirror_mode": {
    "name": "ipython",
    "version": 3
   },
   "file_extension": ".py",
   "mimetype": "text/x-python",
   "name": "python",
   "nbconvert_exporter": "python",
   "pygments_lexer": "ipython3",
   "version": "3.11.6"
  },
  "toc": {
   "base_numbering": 1,
   "nav_menu": {},
   "number_sections": true,
   "sideBar": true,
   "skip_h1_title": false,
   "title_cell": "Table of Contents",
   "title_sidebar": "Contents",
   "toc_cell": false,
   "toc_position": {},
   "toc_section_display": true,
   "toc_window_display": false
  },
  "varInspector": {
   "cols": {
    "lenName": 16,
    "lenType": 16,
    "lenVar": 40
   },
   "kernels_config": {
    "python": {
     "delete_cmd_postfix": "",
     "delete_cmd_prefix": "del ",
     "library": "var_list.py",
     "varRefreshCmd": "print(var_dic_list())"
    },
    "r": {
     "delete_cmd_postfix": ") ",
     "delete_cmd_prefix": "rm(",
     "library": "var_list.r",
     "varRefreshCmd": "cat(var_dic_list()) "
    }
   },
   "types_to_exclude": [
    "module",
    "function",
    "builtin_function_or_method",
    "instance",
    "_Feature"
   ],
   "window_display": false
  }
 },
 "nbformat": 4,
 "nbformat_minor": 5
}
