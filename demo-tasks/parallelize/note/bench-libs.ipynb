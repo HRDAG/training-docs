{
 "cells": [
  {
   "cell_type": "code",
   "execution_count": 1,
   "id": "e25761ef",
   "metadata": {},
   "outputs": [],
   "source": [
    "import pstats"
   ]
  },
  {
   "cell_type": "code",
   "execution_count": 2,
   "id": "ea23f390",
   "metadata": {},
   "outputs": [
    {
     "name": "stdout",
     "output_type": "stream",
     "text": [
      "/Users/home/git/training-docs/demo-tasks/parallelize/note\r\n"
     ]
    }
   ],
   "source": [
    "!pwd"
   ]
  },
  {
   "cell_type": "code",
   "execution_count": 3,
   "id": "f9130499",
   "metadata": {},
   "outputs": [],
   "source": [
    "#!python ../src/Levanshtein.py"
   ]
  },
  {
   "cell_type": "code",
   "execution_count": 14,
   "id": "d039ee6e",
   "metadata": {},
   "outputs": [
    {
     "name": "stdout",
     "output_type": "stream",
     "text": [
      "also installing the dependencies ‘rvest’, ‘xml2’\n",
      "\n",
      "trying URL 'http://cran.rstudio.com/src/contrib/rvest_1.0.3.tar.gz'\n",
      "Content type 'application/x-gzip' length 94659 bytes (92 KB)\n",
      "==================================================\n",
      "downloaded 92 KB\n",
      "\n",
      "trying URL 'http://cran.rstudio.com/src/contrib/xml2_1.3.6.tar.gz'\n",
      "Content type 'application/x-gzip' length 294715 bytes (287 KB)\n",
      "==================================================\n",
      "downloaded 287 KB\n",
      "\n",
      "trying URL 'http://cran.rstudio.com/src/contrib/tidyverse_2.0.0.tar.gz'\n",
      "Content type 'application/x-gzip' length 704618 bytes (688 KB)\n",
      "==================================================\n",
      "downloaded 688 KB\n",
      "\n",
      "* installing *source* package ‘xml2’ ...\n",
      "** package ‘xml2’ successfully unpacked and MD5 sums checked\n",
      "** using staged installation\n",
      "Found pkg-config cflags and libs!\n",
      "Using PKG_CFLAGS=-I/opt/homebrew/Caskroom/miniforge/base/include/libxml2 -I/opt/homebrew/Caskroom/miniforge/base/include\n",
      "Using PKG_LIBS=-L/opt/homebrew/Caskroom/miniforge/base/lib -lxml2 -L/opt/homebrew/Caskroom/miniforge/base/lib -lz -L/opt/homebrew/Caskroom/miniforge/base/lib -llzma -L/opt/homebrew/Caskroom/miniforge/base/lib -liconv -L/opt/homebrew/Caskroom/miniforge/base/lib -licui18n -licuuc -licudata\n",
      "** libs\n",
      "^C\n",
      "make: *** [connection.o] Interrupt: 2\n",
      "ERROR: compilation failed for package ‘xml2’\n",
      "* removing ‘/opt/homebrew/Cellar/r/4.3.2/lib/R/library/xml2’\n",
      "ERROR: dependency ‘xml2’ is not available for package ‘rvest’\n",
      "* removing ‘/opt/homebrew/Cellar/r/4.3.2/lib/R/library/rvest’\n"
     ]
    }
   ],
   "source": [
    "!Rscript ../src/stringdist.R"
   ]
  },
  {
   "cell_type": "markdown",
   "id": "5ab601bf",
   "metadata": {},
   "source": [
    "# `time`\n",
    "- [docs]()"
   ]
  },
  {
   "cell_type": "code",
   "execution_count": 5,
   "id": "e17eb5cd",
   "metadata": {},
   "outputs": [
    {
     "name": "stdout",
     "output_type": "stream",
     "text": [
      "python ../src/Levanshtein.py  0.37s user 0.07s system 96% cpu 0.450 total\r\n"
     ]
    }
   ],
   "source": [
    "!time python ../src/Levanshtein.py"
   ]
  },
  {
   "cell_type": "code",
   "execution_count": 6,
   "id": "97d242ea",
   "metadata": {},
   "outputs": [
    {
     "name": "stdout",
     "output_type": "stream",
     "text": [
      "also installing the dependencies ‘haven’, ‘readr’, ‘readxl’, ‘reprex’, ‘rvest’, ‘xml2’\n",
      "\n",
      "trying URL 'http://cran.rstudio.com/src/contrib/haven_2.5.4.tar.gz'\n",
      "Content type 'application/x-gzip' length 313332 bytes (305 KB)\n",
      "==================================================\n",
      "downloaded 305 KB\n",
      "\n",
      "trying URL 'http://cran.rstudio.com/src/contrib/readr_2.1.4.tar.gz'\n",
      "Content type 'application/x-gzip' length 298083 bytes (291 KB)\n",
      "==================================================\n",
      "downloaded 291 KB\n",
      "\n",
      "trying URL 'http://cran.rstudio.com/src/contrib/readxl_1.4.3.tar.gz'\n",
      "Content type 'application/x-gzip' length 2093488 bytes (2.0 MB)\n",
      "==================================================\n",
      "downloaded 2.0 MB\n",
      "\n",
      "trying URL 'http://cran.rstudio.com/src/contrib/reprex_2.0.2.tar.gz'\n",
      "Content type 'application/x-gzip' length 1088076 bytes (1.0 MB)\n",
      "==================================================\n",
      "downloaded 1.0 MB\n",
      "\n",
      "trying URL 'http://cran.rstudio.com/src/contrib/rvest_1.0.3.tar.gz'\n",
      "Content type 'application/x-gzip' length 94659 bytes (92 KB)\n",
      "==================================================\n",
      "downloaded 92 KB\n",
      "\n",
      "trying URL 'http://cran.rstudio.com/src/contrib/xml2_1.3.6.tar.gz'\n",
      "Content type 'application/x-gzip' length 294715 bytes (287 KB)\n",
      "==================================================\n",
      "downloaded 287 KB\n",
      "\n",
      "trying URL 'http://cran.rstudio.com/src/contrib/tidyverse_2.0.0.tar.gz'\n",
      "Content type 'application/x-gzip' length 704618 bytes (688 KB)\n",
      "==================================================\n",
      "downloaded 688 KB\n",
      "\n",
      "* installing *source* package ‘readr’ ...\n",
      "** package ‘readr’ successfully unpacked and MD5 sums checked\n",
      "** using staged installation\n",
      "** libs\n",
      "using C compiler: ‘Apple clang version 15.0.0 (clang-1500.0.40.1)’\n",
      "using C++ compiler: ‘Apple clang version 15.0.0 (clang-1500.0.40.1)’\n",
      "using SDK: ‘MacOSX14.0.sdk’\n",
      "clang++ -std=gnu++17 -I\"/opt/homebrew/Cellar/r/4.3.2/lib/R/include\" -DNDEBUG  -I'/opt/homebrew/Cellar/r/4.3.2/lib/R/library/cpp11/include' -I'/opt/homebrew/Cellar/r/4.3.2/lib/R/library/tzdb/include' -I/opt/homebrew/opt/gettext/include -I/opt/homebrew/opt/readline/include -I/opt/homebrew/opt/xz/include -I/opt/homebrew/include    -fPIC  -g -O2  -c Collector.cpp -o Collector.o\n",
      "clang++ -std=gnu++17 -I\"/opt/homebrew/Cellar/r/4.3.2/lib/R/include\" -DNDEBUG  -I'/opt/homebrew/Cellar/r/4.3.2/lib/R/library/cpp11/include' -I'/opt/homebrew/Cellar/r/4.3.2/lib/R/library/tzdb/include' -I/opt/homebrew/opt/gettext/include -I/opt/homebrew/opt/readline/include -I/opt/homebrew/opt/xz/include -I/opt/homebrew/include    -fPIC  -g -O2  -c CollectorGuess.cpp -o CollectorGuess.o\n",
      "clang++ -std=gnu++17 -I\"/opt/homebrew/Cellar/r/4.3.2/lib/R/include\" -DNDEBUG  -I'/opt/homebrew/Cellar/r/4.3.2/lib/R/library/cpp11/include' -I'/opt/homebrew/Cellar/r/4.3.2/lib/R/library/tzdb/include' -I/opt/homebrew/opt/gettext/include -I/opt/homebrew/opt/readline/include -I/opt/homebrew/opt/xz/include -I/opt/homebrew/include    -fPIC  -g -O2  -c Iconv.cpp -o Iconv.o\n",
      "clang++ -std=gnu++17 -I\"/opt/homebrew/Cellar/r/4.3.2/lib/R/include\" -DNDEBUG  -I'/opt/homebrew/Cellar/r/4.3.2/lib/R/library/cpp11/include' -I'/opt/homebrew/Cellar/r/4.3.2/lib/R/library/tzdb/include' -I/opt/homebrew/opt/gettext/include -I/opt/homebrew/opt/readline/include -I/opt/homebrew/opt/xz/include -I/opt/homebrew/include    -fPIC  -g -O2  -c LocaleInfo.cpp -o LocaleInfo.o\n",
      "clang++ -std=gnu++17 -I\"/opt/homebrew/Cellar/r/4.3.2/lib/R/include\" -DNDEBUG  -I'/opt/homebrew/Cellar/r/4.3.2/lib/R/library/cpp11/include' -I'/opt/homebrew/Cellar/r/4.3.2/lib/R/library/tzdb/include' -I/opt/homebrew/opt/gettext/include -I/opt/homebrew/opt/readline/include -I/opt/homebrew/opt/xz/include -I/opt/homebrew/include    -fPIC  -g -O2  -c Reader.cpp -o Reader.o\n",
      "clang++ -std=gnu++17 -I\"/opt/homebrew/Cellar/r/4.3.2/lib/R/include\" -DNDEBUG  -I'/opt/homebrew/Cellar/r/4.3.2/lib/R/library/cpp11/include' -I'/opt/homebrew/Cellar/r/4.3.2/lib/R/library/tzdb/include' -I/opt/homebrew/opt/gettext/include -I/opt/homebrew/opt/readline/include -I/opt/homebrew/opt/xz/include -I/opt/homebrew/include    -fPIC  -g -O2  -c Source.cpp -o Source.o\n",
      "clang++ -std=gnu++17 -I\"/opt/homebrew/Cellar/r/4.3.2/lib/R/include\" -DNDEBUG  -I'/opt/homebrew/Cellar/r/4.3.2/lib/R/library/cpp11/include' -I'/opt/homebrew/Cellar/r/4.3.2/lib/R/library/tzdb/include' -I/opt/homebrew/opt/gettext/include -I/opt/homebrew/opt/readline/include -I/opt/homebrew/opt/xz/include -I/opt/homebrew/include    -fPIC  -g -O2  -c Tokenizer.cpp -o Tokenizer.o\n",
      "clang++ -std=gnu++17 -I\"/opt/homebrew/Cellar/r/4.3.2/lib/R/include\" -DNDEBUG  -I'/opt/homebrew/Cellar/r/4.3.2/lib/R/library/cpp11/include' -I'/opt/homebrew/Cellar/r/4.3.2/lib/R/library/tzdb/include' -I/opt/homebrew/opt/gettext/include -I/opt/homebrew/opt/readline/include -I/opt/homebrew/opt/xz/include -I/opt/homebrew/include    -fPIC  -g -O2  -c TokenizerDelim.cpp -o TokenizerDelim.o\n",
      "clang++ -std=gnu++17 -I\"/opt/homebrew/Cellar/r/4.3.2/lib/R/include\" -DNDEBUG  -I'/opt/homebrew/Cellar/r/4.3.2/lib/R/library/cpp11/include' -I'/opt/homebrew/Cellar/r/4.3.2/lib/R/library/tzdb/include' -I/opt/homebrew/opt/gettext/include -I/opt/homebrew/opt/readline/include -I/opt/homebrew/opt/xz/include -I/opt/homebrew/include    -fPIC  -g -O2  -c TokenizerFwf.cpp -o TokenizerFwf.o\n",
      "clang++ -std=gnu++17 -I\"/opt/homebrew/Cellar/r/4.3.2/lib/R/include\" -DNDEBUG  -I'/opt/homebrew/Cellar/r/4.3.2/lib/R/library/cpp11/include' -I'/opt/homebrew/Cellar/r/4.3.2/lib/R/library/tzdb/include' -I/opt/homebrew/opt/gettext/include -I/opt/homebrew/opt/readline/include -I/opt/homebrew/opt/xz/include -I/opt/homebrew/include    -fPIC  -g -O2  -c TokenizerWs.cpp -o TokenizerWs.o\n",
      "clang++ -std=gnu++17 -I\"/opt/homebrew/Cellar/r/4.3.2/lib/R/include\" -DNDEBUG  -I'/opt/homebrew/Cellar/r/4.3.2/lib/R/library/cpp11/include' -I'/opt/homebrew/Cellar/r/4.3.2/lib/R/library/tzdb/include' -I/opt/homebrew/opt/gettext/include -I/opt/homebrew/opt/readline/include -I/opt/homebrew/opt/xz/include -I/opt/homebrew/include    -fPIC  -g -O2  -c connection.cpp -o connection.o\n",
      "clang++ -std=gnu++17 -I\"/opt/homebrew/Cellar/r/4.3.2/lib/R/include\" -DNDEBUG  -I'/opt/homebrew/Cellar/r/4.3.2/lib/R/library/cpp11/include' -I'/opt/homebrew/Cellar/r/4.3.2/lib/R/library/tzdb/include' -I/opt/homebrew/opt/gettext/include -I/opt/homebrew/opt/readline/include -I/opt/homebrew/opt/xz/include -I/opt/homebrew/include    -fPIC  -g -O2  -c cpp11.cpp -o cpp11.o\n",
      "clang++ -std=gnu++17 -I\"/opt/homebrew/Cellar/r/4.3.2/lib/R/include\" -DNDEBUG  -I'/opt/homebrew/Cellar/r/4.3.2/lib/R/library/cpp11/include' -I'/opt/homebrew/Cellar/r/4.3.2/lib/R/library/tzdb/include' -I/opt/homebrew/opt/gettext/include -I/opt/homebrew/opt/readline/include -I/opt/homebrew/opt/xz/include -I/opt/homebrew/include    -fPIC  -g -O2  -c datetime.cpp -o datetime.o\n",
      "clang -I\"/opt/homebrew/Cellar/r/4.3.2/lib/R/include\" -DNDEBUG  -I'/opt/homebrew/Cellar/r/4.3.2/lib/R/library/cpp11/include' -I'/opt/homebrew/Cellar/r/4.3.2/lib/R/library/tzdb/include' -I/opt/homebrew/opt/gettext/include -I/opt/homebrew/opt/readline/include -I/opt/homebrew/opt/xz/include -I/opt/homebrew/include    -fPIC  -g -O2  -c grisu3.c -o grisu3.o\n",
      "clang -I\"/opt/homebrew/Cellar/r/4.3.2/lib/R/include\" -DNDEBUG  -I'/opt/homebrew/Cellar/r/4.3.2/lib/R/library/cpp11/include' -I'/opt/homebrew/Cellar/r/4.3.2/lib/R/library/tzdb/include' -I/opt/homebrew/opt/gettext/include -I/opt/homebrew/opt/readline/include -I/opt/homebrew/opt/xz/include -I/opt/homebrew/include    -fPIC  -g -O2  -c init.c -o init.o\n",
      "clang++ -std=gnu++17 -I\"/opt/homebrew/Cellar/r/4.3.2/lib/R/include\" -DNDEBUG  -I'/opt/homebrew/Cellar/r/4.3.2/lib/R/library/cpp11/include' -I'/opt/homebrew/Cellar/r/4.3.2/lib/R/library/tzdb/include' -I/opt/homebrew/opt/gettext/include -I/opt/homebrew/opt/readline/include -I/opt/homebrew/opt/xz/include -I/opt/homebrew/include    -fPIC  -g -O2  -c parse.cpp -o parse.o\n",
      "clang++ -std=gnu++17 -I\"/opt/homebrew/Cellar/r/4.3.2/lib/R/include\" -DNDEBUG  -I'/opt/homebrew/Cellar/r/4.3.2/lib/R/library/cpp11/include' -I'/opt/homebrew/Cellar/r/4.3.2/lib/R/library/tzdb/include' -I/opt/homebrew/opt/gettext/include -I/opt/homebrew/opt/readline/include -I/opt/homebrew/opt/xz/include -I/opt/homebrew/include    -fPIC  -g -O2  -c read.cpp -o read.o\n",
      "clang++ -std=gnu++17 -I\"/opt/homebrew/Cellar/r/4.3.2/lib/R/include\" -DNDEBUG  -I'/opt/homebrew/Cellar/r/4.3.2/lib/R/library/cpp11/include' -I'/opt/homebrew/Cellar/r/4.3.2/lib/R/library/tzdb/include' -I/opt/homebrew/opt/gettext/include -I/opt/homebrew/opt/readline/include -I/opt/homebrew/opt/xz/include -I/opt/homebrew/include    -fPIC  -g -O2  -c type_convert.cpp -o type_convert.o\n"
     ]
    },
    {
     "name": "stdout",
     "output_type": "stream",
     "text": [
      "clang++ -std=gnu++17 -I\"/opt/homebrew/Cellar/r/4.3.2/lib/R/include\" -DNDEBUG  -I'/opt/homebrew/Cellar/r/4.3.2/lib/R/library/cpp11/include' -I'/opt/homebrew/Cellar/r/4.3.2/lib/R/library/tzdb/include' -I/opt/homebrew/opt/gettext/include -I/opt/homebrew/opt/readline/include -I/opt/homebrew/opt/xz/include -I/opt/homebrew/include    -fPIC  -g -O2  -c write.cpp -o write.o\n",
      "clang++ -std=gnu++17 -I\"/opt/homebrew/Cellar/r/4.3.2/lib/R/include\" -DNDEBUG  -I'/opt/homebrew/Cellar/r/4.3.2/lib/R/library/cpp11/include' -I'/opt/homebrew/Cellar/r/4.3.2/lib/R/library/tzdb/include' -I/opt/homebrew/opt/gettext/include -I/opt/homebrew/opt/readline/include -I/opt/homebrew/opt/xz/include -I/opt/homebrew/include    -fPIC  -g -O2  -c write_delim.cpp -o write_delim.o\n",
      "clang++ -std=gnu++17 -dynamiclib -Wl,-headerpad_max_install_names -undefined dynamic_lookup -L/opt/homebrew/Cellar/r/4.3.2/lib/R/lib -L/opt/homebrew/opt/gettext/lib -L/opt/homebrew/opt/readline/lib -L/opt/homebrew/opt/xz/lib -L/opt/homebrew/lib -o readr.so Collector.o CollectorGuess.o Iconv.o LocaleInfo.o Reader.o Source.o Tokenizer.o TokenizerDelim.o TokenizerFwf.o TokenizerWs.o connection.o cpp11.o datetime.o grisu3.o init.o parse.o read.o type_convert.o write.o write_delim.o -L/opt/homebrew/Cellar/r/4.3.2/lib/R/lib -lR -lintl -Wl,-framework -Wl,CoreFoundation\n",
      "installing to /opt/homebrew/Cellar/r/4.3.2/lib/R/library/00LOCK-readr/00new/readr/libs\n",
      "** R\n",
      "** inst\n",
      "** byte-compile and prepare package for lazy loading\n",
      "** help\n",
      "*** installing help indices\n",
      "*** copying figures\n",
      "** building package indices\n",
      "** installing vignettes\n",
      "** testing if installed package can be loaded from temporary location\n",
      "** checking absolute paths in shared objects and dynamic libraries\n",
      "** testing if installed package can be loaded from final location\n",
      "** testing if installed package keeps a record of temporary installation path\n",
      "* DONE (readr)\n",
      "* installing *source* package ‘readxl’ ...\n",
      "** package ‘readxl’ successfully unpacked and MD5 sums checked\n",
      "** using staged installation\n",
      "** libs\n",
      "using C compiler: ‘Apple clang version 15.0.0 (clang-1500.0.40.1)’\n",
      "using C++ compiler: ‘Apple clang version 15.0.0 (clang-1500.0.40.1)’\n",
      "using SDK: ‘MacOSX14.0.sdk’\n",
      "clang++ -std=gnu++17 -I\"/opt/homebrew/Cellar/r/4.3.2/lib/R/include\" -DNDEBUG -Iunix -I. -I'/opt/homebrew/Cellar/r/4.3.2/lib/R/library/cpp11/include' -I'/opt/homebrew/Cellar/r/4.3.2/lib/R/library/progress/include' -I/opt/homebrew/opt/gettext/include -I/opt/homebrew/opt/readline/include -I/opt/homebrew/opt/xz/include -I/opt/homebrew/include    -fPIC  -g -O2  -c cpp11.cpp -o cpp11.o\n",
      "clang++ -std=gnu++17 -I\"/opt/homebrew/Cellar/r/4.3.2/lib/R/include\" -DNDEBUG -Iunix -I. -I'/opt/homebrew/Cellar/r/4.3.2/lib/R/library/cpp11/include' -I'/opt/homebrew/Cellar/r/4.3.2/lib/R/library/progress/include' -I/opt/homebrew/opt/gettext/include -I/opt/homebrew/opt/readline/include -I/opt/homebrew/opt/xz/include -I/opt/homebrew/include    -fPIC  -g -O2  -c XlsWorkBook.cpp -o XlsWorkBook.o\n",
      "clang++ -std=gnu++17 -I\"/opt/homebrew/Cellar/r/4.3.2/lib/R/include\" -DNDEBUG -Iunix -I. -I'/opt/homebrew/Cellar/r/4.3.2/lib/R/library/cpp11/include' -I'/opt/homebrew/Cellar/r/4.3.2/lib/R/library/progress/include' -I/opt/homebrew/opt/gettext/include -I/opt/homebrew/opt/readline/include -I/opt/homebrew/opt/xz/include -I/opt/homebrew/include    -fPIC  -g -O2  -c XlsxWorkBook.cpp -o XlsxWorkBook.o\n",
      "clang++ -std=gnu++17 -I\"/opt/homebrew/Cellar/r/4.3.2/lib/R/include\" -DNDEBUG -Iunix -I. -I'/opt/homebrew/Cellar/r/4.3.2/lib/R/library/cpp11/include' -I'/opt/homebrew/Cellar/r/4.3.2/lib/R/library/progress/include' -I/opt/homebrew/opt/gettext/include -I/opt/homebrew/opt/readline/include -I/opt/homebrew/opt/xz/include -I/opt/homebrew/include    -fPIC  -g -O2  -c zip.cpp -o zip.o\n",
      "clang++ -std=gnu++17 -I\"/opt/homebrew/Cellar/r/4.3.2/lib/R/include\" -DNDEBUG -Iunix -I. -I'/opt/homebrew/Cellar/r/4.3.2/lib/R/library/cpp11/include' -I'/opt/homebrew/Cellar/r/4.3.2/lib/R/library/progress/include' -I/opt/homebrew/opt/gettext/include -I/opt/homebrew/opt/readline/include -I/opt/homebrew/opt/xz/include -I/opt/homebrew/include    -fPIC  -g -O2  -c Read.cpp -o Read.o\n",
      "clang -I\"/opt/homebrew/Cellar/r/4.3.2/lib/R/include\" -DNDEBUG -Iunix -I. -I'/opt/homebrew/Cellar/r/4.3.2/lib/R/library/cpp11/include' -I'/opt/homebrew/Cellar/r/4.3.2/lib/R/library/progress/include' -I/opt/homebrew/opt/gettext/include -I/opt/homebrew/opt/readline/include -I/opt/homebrew/opt/xz/include -I/opt/homebrew/include    -fPIC  -g -O2  -c cran.c -o cran.o\n",
      "clang -I\"/opt/homebrew/Cellar/r/4.3.2/lib/R/include\" -DNDEBUG -Iunix -I. -I'/opt/homebrew/Cellar/r/4.3.2/lib/R/library/cpp11/include' -I'/opt/homebrew/Cellar/r/4.3.2/lib/R/library/progress/include' -I/opt/homebrew/opt/gettext/include -I/opt/homebrew/opt/readline/include -I/opt/homebrew/opt/xz/include -I/opt/homebrew/include    -fPIC  -g -O2  -c libxls/xlstool.c -o libxls/xlstool.o\n",
      "clang -I\"/opt/homebrew/Cellar/r/4.3.2/lib/R/include\" -DNDEBUG -Iunix -I. -I'/opt/homebrew/Cellar/r/4.3.2/lib/R/library/cpp11/include' -I'/opt/homebrew/Cellar/r/4.3.2/lib/R/library/progress/include' -I/opt/homebrew/opt/gettext/include -I/opt/homebrew/opt/readline/include -I/opt/homebrew/opt/xz/include -I/opt/homebrew/include    -fPIC  -g -O2  -c libxls/endian.c -o libxls/endian.o\n",
      "clang -I\"/opt/homebrew/Cellar/r/4.3.2/lib/R/include\" -DNDEBUG -Iunix -I. -I'/opt/homebrew/Cellar/r/4.3.2/lib/R/library/cpp11/include' -I'/opt/homebrew/Cellar/r/4.3.2/lib/R/library/progress/include' -I/opt/homebrew/opt/gettext/include -I/opt/homebrew/opt/readline/include -I/opt/homebrew/opt/xz/include -I/opt/homebrew/include    -fPIC  -g -O2  -c libxls/ole.c -o libxls/ole.o\n",
      "clang -I\"/opt/homebrew/Cellar/r/4.3.2/lib/R/include\" -DNDEBUG -Iunix -I. -I'/opt/homebrew/Cellar/r/4.3.2/lib/R/library/cpp11/include' -I'/opt/homebrew/Cellar/r/4.3.2/lib/R/library/progress/include' -I/opt/homebrew/opt/gettext/include -I/opt/homebrew/opt/readline/include -I/opt/homebrew/opt/xz/include -I/opt/homebrew/include    -fPIC  -g -O2  -c libxls/xls.c -o libxls/xls.o\n",
      "clang -I\"/opt/homebrew/Cellar/r/4.3.2/lib/R/include\" -DNDEBUG -Iunix -I. -I'/opt/homebrew/Cellar/r/4.3.2/lib/R/library/cpp11/include' -I'/opt/homebrew/Cellar/r/4.3.2/lib/R/library/progress/include' -I/opt/homebrew/opt/gettext/include -I/opt/homebrew/opt/readline/include -I/opt/homebrew/opt/xz/include -I/opt/homebrew/include    -fPIC  -g -O2  -c libxls/locale.c -o libxls/locale.o\n",
      "clang++ -std=gnu++17 -dynamiclib -Wl,-headerpad_max_install_names -undefined dynamic_lookup -L/opt/homebrew/Cellar/r/4.3.2/lib/R/lib -L/opt/homebrew/opt/gettext/lib -L/opt/homebrew/opt/readline/lib -L/opt/homebrew/opt/xz/lib -L/opt/homebrew/lib -o readxl.so cpp11.o XlsWorkBook.o XlsxWorkBook.o zip.o Read.o cran.o libxls/xlstool.o libxls/endian.o libxls/ole.o libxls/xls.o libxls/locale.o -L/opt/homebrew/Cellar/r/4.3.2/lib/R/lib -lR -lintl -Wl,-framework -Wl,CoreFoundation\n",
      "installing to /opt/homebrew/Cellar/r/4.3.2/lib/R/library/00LOCK-readxl/00new/readxl/libs\n",
      "** R\n",
      "** inst\n",
      "** byte-compile and prepare package for lazy loading\n",
      "** help\n",
      "*** installing help indices\n",
      "*** copying figures\n",
      "** building package indices\n",
      "** installing vignettes\n",
      "** testing if installed package can be loaded from temporary location\n",
      "** checking absolute paths in shared objects and dynamic libraries\n",
      "** testing if installed package can be loaded from final location\n",
      "** testing if installed package keeps a record of temporary installation path\n",
      "* DONE (readxl)\n",
      "* installing *source* package ‘reprex’ ...\n",
      "** package ‘reprex’ successfully unpacked and MD5 sums checked\n",
      "** using staged installation\n",
      "** R\n",
      "** inst\n",
      "** byte-compile and prepare package for lazy loading\n",
      "** help\n",
      "*** installing help indices\n",
      "*** copying figures\n",
      "** building package indices\n",
      "** installing vignettes\n",
      "** testing if installed package can be loaded from temporary location\n",
      "** testing if installed package can be loaded from final location\n",
      "** testing if installed package keeps a record of temporary installation path\n",
      "* DONE (reprex)\n",
      "* installing *source* package ‘xml2’ ...\n",
      "** package ‘xml2’ successfully unpacked and MD5 sums checked\n",
      "** using staged installation\n",
      "Found pkg-config cflags and libs!\n",
      "Using PKG_CFLAGS=-I/opt/homebrew/Caskroom/miniforge/base/include/libxml2 -I/opt/homebrew/Caskroom/miniforge/base/include\n",
      "Using PKG_LIBS=-L/opt/homebrew/Caskroom/miniforge/base/lib -lxml2 -L/opt/homebrew/Caskroom/miniforge/base/lib -lz -L/opt/homebrew/Caskroom/miniforge/base/lib -llzma -L/opt/homebrew/Caskroom/miniforge/base/lib -liconv -L/opt/homebrew/Caskroom/miniforge/base/lib -licui18n -licuuc -licudata\n"
     ]
    },
    {
     "name": "stdout",
     "output_type": "stream",
     "text": [
      "** libs\n",
      "using C compiler: ‘Apple clang version 15.0.0 (clang-1500.0.40.1)’\n",
      "using C++ compiler: ‘Apple clang version 15.0.0 (clang-1500.0.40.1)’\n",
      "using SDK: ‘MacOSX14.0.sdk’\n",
      "clang++ -std=gnu++17 -I\"/opt/homebrew/Cellar/r/4.3.2/lib/R/include\" -DNDEBUG -I../inst/include -I/opt/homebrew/Caskroom/miniforge/base/include/libxml2 -I/opt/homebrew/Caskroom/miniforge/base/include -DUCHAR_TYPE=wchar_t -DU_SHOW_CPLUSPLUS_API=0  -I/opt/homebrew/opt/gettext/include -I/opt/homebrew/opt/readline/include -I/opt/homebrew/opt/xz/include -I/opt/homebrew/include    -fPIC  -g -O2  -c connection.cpp -o connection.o\n",
      "clang -I\"/opt/homebrew/Cellar/r/4.3.2/lib/R/include\" -DNDEBUG -I../inst/include -I/opt/homebrew/Caskroom/miniforge/base/include/libxml2 -I/opt/homebrew/Caskroom/miniforge/base/include -DUCHAR_TYPE=wchar_t -DU_SHOW_CPLUSPLUS_API=0  -I/opt/homebrew/opt/gettext/include -I/opt/homebrew/opt/readline/include -I/opt/homebrew/opt/xz/include -I/opt/homebrew/include    -fPIC  -g -O2  -c init.c -o init.o\n",
      "clang++ -std=gnu++17 -I\"/opt/homebrew/Cellar/r/4.3.2/lib/R/include\" -DNDEBUG -I../inst/include -I/opt/homebrew/Caskroom/miniforge/base/include/libxml2 -I/opt/homebrew/Caskroom/miniforge/base/include -DUCHAR_TYPE=wchar_t -DU_SHOW_CPLUSPLUS_API=0  -I/opt/homebrew/opt/gettext/include -I/opt/homebrew/opt/readline/include -I/opt/homebrew/opt/xz/include -I/opt/homebrew/include    -fPIC  -g -O2  -c xml2_doc.cpp -o xml2_doc.o\n",
      "clang++ -std=gnu++17 -I\"/opt/homebrew/Cellar/r/4.3.2/lib/R/include\" -DNDEBUG -I../inst/include -I/opt/homebrew/Caskroom/miniforge/base/include/libxml2 -I/opt/homebrew/Caskroom/miniforge/base/include -DUCHAR_TYPE=wchar_t -DU_SHOW_CPLUSPLUS_API=0  -I/opt/homebrew/opt/gettext/include -I/opt/homebrew/opt/readline/include -I/opt/homebrew/opt/xz/include -I/opt/homebrew/include    -fPIC  -g -O2  -c xml2_init.cpp -o xml2_init.o\n",
      "clang++ -std=gnu++17 -I\"/opt/homebrew/Cellar/r/4.3.2/lib/R/include\" -DNDEBUG -I../inst/include -I/opt/homebrew/Caskroom/miniforge/base/include/libxml2 -I/opt/homebrew/Caskroom/miniforge/base/include -DUCHAR_TYPE=wchar_t -DU_SHOW_CPLUSPLUS_API=0  -I/opt/homebrew/opt/gettext/include -I/opt/homebrew/opt/readline/include -I/opt/homebrew/opt/xz/include -I/opt/homebrew/include    -fPIC  -g -O2  -c xml2_namespace.cpp -o xml2_namespace.o\n",
      "clang++ -std=gnu++17 -I\"/opt/homebrew/Cellar/r/4.3.2/lib/R/include\" -DNDEBUG -I../inst/include -I/opt/homebrew/Caskroom/miniforge/base/include/libxml2 -I/opt/homebrew/Caskroom/miniforge/base/include -DUCHAR_TYPE=wchar_t -DU_SHOW_CPLUSPLUS_API=0  -I/opt/homebrew/opt/gettext/include -I/opt/homebrew/opt/readline/include -I/opt/homebrew/opt/xz/include -I/opt/homebrew/include    -fPIC  -g -O2  -c xml2_node.cpp -o xml2_node.o\n",
      "clang++ -std=gnu++17 -I\"/opt/homebrew/Cellar/r/4.3.2/lib/R/include\" -DNDEBUG -I../inst/include -I/opt/homebrew/Caskroom/miniforge/base/include/libxml2 -I/opt/homebrew/Caskroom/miniforge/base/include -DUCHAR_TYPE=wchar_t -DU_SHOW_CPLUSPLUS_API=0  -I/opt/homebrew/opt/gettext/include -I/opt/homebrew/opt/readline/include -I/opt/homebrew/opt/xz/include -I/opt/homebrew/include    -fPIC  -g -O2  -c xml2_output.cpp -o xml2_output.o\n",
      "clang++ -std=gnu++17 -I\"/opt/homebrew/Cellar/r/4.3.2/lib/R/include\" -DNDEBUG -I../inst/include -I/opt/homebrew/Caskroom/miniforge/base/include/libxml2 -I/opt/homebrew/Caskroom/miniforge/base/include -DUCHAR_TYPE=wchar_t -DU_SHOW_CPLUSPLUS_API=0  -I/opt/homebrew/opt/gettext/include -I/opt/homebrew/opt/readline/include -I/opt/homebrew/opt/xz/include -I/opt/homebrew/include    -fPIC  -g -O2  -c xml2_schema.cpp -o xml2_schema.o\n",
      "clang++ -std=gnu++17 -I\"/opt/homebrew/Cellar/r/4.3.2/lib/R/include\" -DNDEBUG -I../inst/include -I/opt/homebrew/Caskroom/miniforge/base/include/libxml2 -I/opt/homebrew/Caskroom/miniforge/base/include -DUCHAR_TYPE=wchar_t -DU_SHOW_CPLUSPLUS_API=0  -I/opt/homebrew/opt/gettext/include -I/opt/homebrew/opt/readline/include -I/opt/homebrew/opt/xz/include -I/opt/homebrew/include    -fPIC  -g -O2  -c xml2_url.cpp -o xml2_url.o\n",
      "clang++ -std=gnu++17 -I\"/opt/homebrew/Cellar/r/4.3.2/lib/R/include\" -DNDEBUG -I../inst/include -I/opt/homebrew/Caskroom/miniforge/base/include/libxml2 -I/opt/homebrew/Caskroom/miniforge/base/include -DUCHAR_TYPE=wchar_t -DU_SHOW_CPLUSPLUS_API=0  -I/opt/homebrew/opt/gettext/include -I/opt/homebrew/opt/readline/include -I/opt/homebrew/opt/xz/include -I/opt/homebrew/include    -fPIC  -g -O2  -c xml2_xpath.cpp -o xml2_xpath.o\n",
      "clang++ -std=gnu++17 -dynamiclib -Wl,-headerpad_max_install_names -undefined dynamic_lookup -L/opt/homebrew/Cellar/r/4.3.2/lib/R/lib -L/opt/homebrew/opt/gettext/lib -L/opt/homebrew/opt/readline/lib -L/opt/homebrew/opt/xz/lib -L/opt/homebrew/lib -o xml2.so connection.o init.o xml2_doc.o xml2_init.o xml2_namespace.o xml2_node.o xml2_output.o xml2_schema.o xml2_url.o xml2_xpath.o -L/opt/homebrew/Caskroom/miniforge/base/lib -lxml2 -L/opt/homebrew/Caskroom/miniforge/base/lib -lz -L/opt/homebrew/Caskroom/miniforge/base/lib -llzma -L/opt/homebrew/Caskroom/miniforge/base/lib -liconv -L/opt/homebrew/Caskroom/miniforge/base/lib -licui18n -licuuc -licudata -L/opt/homebrew/Cellar/r/4.3.2/lib/R/lib -lR -lintl -Wl,-framework -Wl,CoreFoundation\n",
      "installing to /opt/homebrew/Cellar/r/4.3.2/lib/R/library/00LOCK-xml2/00new/xml2/libs\n",
      "** R\n",
      "** inst\n",
      "** byte-compile and prepare package for lazy loading\n",
      "** help\n",
      "Error : read_xml.Rd:58: unable to load shared object '/opt/homebrew/Cellar/r/4.3.2/lib/R/library/00LOCK-xml2/00new/xml2/libs/xml2.so':\n",
      "  dlopen(/opt/homebrew/Cellar/r/4.3.2/lib/R/library/00LOCK-xml2/00new/xml2/libs/xml2.so, 0x0006): Library not loaded: @rpath/libxml2.2.dylib\n",
      "  Referenced from: <19010598-2EA0-3677-B6DD-D339083103F0> /opt/homebrew/Cellar/r/4.3.2/lib/R/library/00LOCK-xml2/00new/xml2/libs/xml2.so\n",
      "  Reason: tried: '/opt/homebrew/Cellar/r/4.3.2/lib/R/lib/libxml2.2.dylib' (no such file)\n",
      "ERROR: installing Rd objects failed for package ‘xml2’\n",
      "* removing ‘/opt/homebrew/Cellar/r/4.3.2/lib/R/library/xml2’\n",
      "* installing *source* package ‘haven’ ...\n",
      "** package ‘haven’ successfully unpacked and MD5 sums checked\n",
      "** using staged installation\n",
      "Found pkg-config cflags and libs!\n",
      "Using PKG_CFLAGS=\n",
      "Using PKG_LIBS=-lz\n",
      "** libs\n",
      "using C compiler: ‘Apple clang version 15.0.0 (clang-1500.0.40.1)’\n",
      "using C++ compiler: ‘Apple clang version 15.0.0 (clang-1500.0.40.1)’\n",
      "using SDK: ‘MacOSX14.0.sdk’\n",
      "clang -I\"/opt/homebrew/Cellar/r/4.3.2/lib/R/include\" -DNDEBUG  -I'/opt/homebrew/Cellar/r/4.3.2/lib/R/library/cpp11/include' -I/opt/homebrew/opt/gettext/include -I/opt/homebrew/opt/readline/include -I/opt/homebrew/opt/xz/include -I/opt/homebrew/include   -Ireadstat -DHAVE_ZLIB -fPIC  -g -O2  -c tagged_na.c -o tagged_na.o\n",
      "clang -I\"/opt/homebrew/Cellar/r/4.3.2/lib/R/include\" -DNDEBUG  -I'/opt/homebrew/Cellar/r/4.3.2/lib/R/library/cpp11/include' -I/opt/homebrew/opt/gettext/include -I/opt/homebrew/opt/readline/include -I/opt/homebrew/opt/xz/include -I/opt/homebrew/include   -Ireadstat -DHAVE_ZLIB -fPIC  -g -O2  -c readstat/CKHashTable.c -o readstat/CKHashTable.o\n",
      "clang -I\"/opt/homebrew/Cellar/r/4.3.2/lib/R/include\" -DNDEBUG  -I'/opt/homebrew/Cellar/r/4.3.2/lib/R/library/cpp11/include' -I/opt/homebrew/opt/gettext/include -I/opt/homebrew/opt/readline/include -I/opt/homebrew/opt/xz/include -I/opt/homebrew/include   -Ireadstat -DHAVE_ZLIB -fPIC  -g -O2  -c readstat/readstat_bits.c -o readstat/readstat_bits.o\n",
      "clang -I\"/opt/homebrew/Cellar/r/4.3.2/lib/R/include\" -DNDEBUG  -I'/opt/homebrew/Cellar/r/4.3.2/lib/R/library/cpp11/include' -I/opt/homebrew/opt/gettext/include -I/opt/homebrew/opt/readline/include -I/opt/homebrew/opt/xz/include -I/opt/homebrew/include   -Ireadstat -DHAVE_ZLIB -fPIC  -g -O2  -c readstat/readstat_convert.c -o readstat/readstat_convert.o\n",
      "clang -I\"/opt/homebrew/Cellar/r/4.3.2/lib/R/include\" -DNDEBUG  -I'/opt/homebrew/Cellar/r/4.3.2/lib/R/library/cpp11/include' -I/opt/homebrew/opt/gettext/include -I/opt/homebrew/opt/readline/include -I/opt/homebrew/opt/xz/include -I/opt/homebrew/include   -Ireadstat -DHAVE_ZLIB -fPIC  -g -O2  -c readstat/readstat_error.c -o readstat/readstat_error.o\n",
      "clang -I\"/opt/homebrew/Cellar/r/4.3.2/lib/R/include\" -DNDEBUG  -I'/opt/homebrew/Cellar/r/4.3.2/lib/R/library/cpp11/include' -I/opt/homebrew/opt/gettext/include -I/opt/homebrew/opt/readline/include -I/opt/homebrew/opt/xz/include -I/opt/homebrew/include   -Ireadstat -DHAVE_ZLIB -fPIC  -g -O2  -c readstat/readstat_io_unistd.c -o readstat/readstat_io_unistd.o\n"
     ]
    },
    {
     "name": "stdout",
     "output_type": "stream",
     "text": [
      "clang -I\"/opt/homebrew/Cellar/r/4.3.2/lib/R/include\" -DNDEBUG  -I'/opt/homebrew/Cellar/r/4.3.2/lib/R/library/cpp11/include' -I/opt/homebrew/opt/gettext/include -I/opt/homebrew/opt/readline/include -I/opt/homebrew/opt/xz/include -I/opt/homebrew/include   -Ireadstat -DHAVE_ZLIB -fPIC  -g -O2  -c readstat/readstat_malloc.c -o readstat/readstat_malloc.o\n",
      "clang -I\"/opt/homebrew/Cellar/r/4.3.2/lib/R/include\" -DNDEBUG  -I'/opt/homebrew/Cellar/r/4.3.2/lib/R/library/cpp11/include' -I/opt/homebrew/opt/gettext/include -I/opt/homebrew/opt/readline/include -I/opt/homebrew/opt/xz/include -I/opt/homebrew/include   -Ireadstat -DHAVE_ZLIB -fPIC  -g -O2  -c readstat/readstat_metadata.c -o readstat/readstat_metadata.o\n",
      "clang -I\"/opt/homebrew/Cellar/r/4.3.2/lib/R/include\" -DNDEBUG  -I'/opt/homebrew/Cellar/r/4.3.2/lib/R/library/cpp11/include' -I/opt/homebrew/opt/gettext/include -I/opt/homebrew/opt/readline/include -I/opt/homebrew/opt/xz/include -I/opt/homebrew/include   -Ireadstat -DHAVE_ZLIB -fPIC  -g -O2  -c readstat/readstat_parser.c -o readstat/readstat_parser.o\n",
      "clang -I\"/opt/homebrew/Cellar/r/4.3.2/lib/R/include\" -DNDEBUG  -I'/opt/homebrew/Cellar/r/4.3.2/lib/R/library/cpp11/include' -I/opt/homebrew/opt/gettext/include -I/opt/homebrew/opt/readline/include -I/opt/homebrew/opt/xz/include -I/opt/homebrew/include   -Ireadstat -DHAVE_ZLIB -fPIC  -g -O2  -c readstat/readstat_value.c -o readstat/readstat_value.o\n",
      "clang -I\"/opt/homebrew/Cellar/r/4.3.2/lib/R/include\" -DNDEBUG  -I'/opt/homebrew/Cellar/r/4.3.2/lib/R/library/cpp11/include' -I/opt/homebrew/opt/gettext/include -I/opt/homebrew/opt/readline/include -I/opt/homebrew/opt/xz/include -I/opt/homebrew/include   -Ireadstat -DHAVE_ZLIB -fPIC  -g -O2  -c readstat/readstat_variable.c -o readstat/readstat_variable.o\n",
      "clang -I\"/opt/homebrew/Cellar/r/4.3.2/lib/R/include\" -DNDEBUG  -I'/opt/homebrew/Cellar/r/4.3.2/lib/R/library/cpp11/include' -I/opt/homebrew/opt/gettext/include -I/opt/homebrew/opt/readline/include -I/opt/homebrew/opt/xz/include -I/opt/homebrew/include   -Ireadstat -DHAVE_ZLIB -fPIC  -g -O2  -c readstat/readstat_writer.c -o readstat/readstat_writer.o\n",
      "clang -I\"/opt/homebrew/Cellar/r/4.3.2/lib/R/include\" -DNDEBUG  -I'/opt/homebrew/Cellar/r/4.3.2/lib/R/library/cpp11/include' -I/opt/homebrew/opt/gettext/include -I/opt/homebrew/opt/readline/include -I/opt/homebrew/opt/xz/include -I/opt/homebrew/include   -Ireadstat -DHAVE_ZLIB -fPIC  -g -O2  -c readstat/sas/ieee.c -o readstat/sas/ieee.o\n",
      "clang -I\"/opt/homebrew/Cellar/r/4.3.2/lib/R/include\" -DNDEBUG  -I'/opt/homebrew/Cellar/r/4.3.2/lib/R/library/cpp11/include' -I/opt/homebrew/opt/gettext/include -I/opt/homebrew/opt/readline/include -I/opt/homebrew/opt/xz/include -I/opt/homebrew/include   -Ireadstat -DHAVE_ZLIB -fPIC  -g -O2  -c readstat/sas/readstat_sas.c -o readstat/sas/readstat_sas.o\n",
      "clang -I\"/opt/homebrew/Cellar/r/4.3.2/lib/R/include\" -DNDEBUG  -I'/opt/homebrew/Cellar/r/4.3.2/lib/R/library/cpp11/include' -I/opt/homebrew/opt/gettext/include -I/opt/homebrew/opt/readline/include -I/opt/homebrew/opt/xz/include -I/opt/homebrew/include   -Ireadstat -DHAVE_ZLIB -fPIC  -g -O2  -c readstat/sas/readstat_sas7bcat_read.c -o readstat/sas/readstat_sas7bcat_read.o\n",
      "clang -I\"/opt/homebrew/Cellar/r/4.3.2/lib/R/include\" -DNDEBUG  -I'/opt/homebrew/Cellar/r/4.3.2/lib/R/library/cpp11/include' -I/opt/homebrew/opt/gettext/include -I/opt/homebrew/opt/readline/include -I/opt/homebrew/opt/xz/include -I/opt/homebrew/include   -Ireadstat -DHAVE_ZLIB -fPIC  -g -O2  -c readstat/sas/readstat_sas7bcat_write.c -o readstat/sas/readstat_sas7bcat_write.o\n",
      "clang -I\"/opt/homebrew/Cellar/r/4.3.2/lib/R/include\" -DNDEBUG  -I'/opt/homebrew/Cellar/r/4.3.2/lib/R/library/cpp11/include' -I/opt/homebrew/opt/gettext/include -I/opt/homebrew/opt/readline/include -I/opt/homebrew/opt/xz/include -I/opt/homebrew/include   -Ireadstat -DHAVE_ZLIB -fPIC  -g -O2  -c readstat/sas/readstat_sas7bdat_read.c -o readstat/sas/readstat_sas7bdat_read.o\n",
      "clang -I\"/opt/homebrew/Cellar/r/4.3.2/lib/R/include\" -DNDEBUG  -I'/opt/homebrew/Cellar/r/4.3.2/lib/R/library/cpp11/include' -I/opt/homebrew/opt/gettext/include -I/opt/homebrew/opt/readline/include -I/opt/homebrew/opt/xz/include -I/opt/homebrew/include   -Ireadstat -DHAVE_ZLIB -fPIC  -g -O2  -c readstat/sas/readstat_sas7bdat_write.c -o readstat/sas/readstat_sas7bdat_write.o\n",
      "clang -I\"/opt/homebrew/Cellar/r/4.3.2/lib/R/include\" -DNDEBUG  -I'/opt/homebrew/Cellar/r/4.3.2/lib/R/library/cpp11/include' -I/opt/homebrew/opt/gettext/include -I/opt/homebrew/opt/readline/include -I/opt/homebrew/opt/xz/include -I/opt/homebrew/include   -Ireadstat -DHAVE_ZLIB -fPIC  -g -O2  -c readstat/sas/readstat_sas_rle.c -o readstat/sas/readstat_sas_rle.o\n",
      "clang -I\"/opt/homebrew/Cellar/r/4.3.2/lib/R/include\" -DNDEBUG  -I'/opt/homebrew/Cellar/r/4.3.2/lib/R/library/cpp11/include' -I/opt/homebrew/opt/gettext/include -I/opt/homebrew/opt/readline/include -I/opt/homebrew/opt/xz/include -I/opt/homebrew/include   -Ireadstat -DHAVE_ZLIB -fPIC  -g -O2  -c readstat/sas/readstat_xport.c -o readstat/sas/readstat_xport.o\n",
      "clang -I\"/opt/homebrew/Cellar/r/4.3.2/lib/R/include\" -DNDEBUG  -I'/opt/homebrew/Cellar/r/4.3.2/lib/R/library/cpp11/include' -I/opt/homebrew/opt/gettext/include -I/opt/homebrew/opt/readline/include -I/opt/homebrew/opt/xz/include -I/opt/homebrew/include   -Ireadstat -DHAVE_ZLIB -fPIC  -g -O2  -c readstat/sas/readstat_xport_parse_format.c -o readstat/sas/readstat_xport_parse_format.o\n",
      "clang -I\"/opt/homebrew/Cellar/r/4.3.2/lib/R/include\" -DNDEBUG  -I'/opt/homebrew/Cellar/r/4.3.2/lib/R/library/cpp11/include' -I/opt/homebrew/opt/gettext/include -I/opt/homebrew/opt/readline/include -I/opt/homebrew/opt/xz/include -I/opt/homebrew/include   -Ireadstat -DHAVE_ZLIB -fPIC  -g -O2  -c readstat/sas/readstat_xport_read.c -o readstat/sas/readstat_xport_read.o\n",
      "clang -I\"/opt/homebrew/Cellar/r/4.3.2/lib/R/include\" -DNDEBUG  -I'/opt/homebrew/Cellar/r/4.3.2/lib/R/library/cpp11/include' -I/opt/homebrew/opt/gettext/include -I/opt/homebrew/opt/readline/include -I/opt/homebrew/opt/xz/include -I/opt/homebrew/include   -Ireadstat -DHAVE_ZLIB -fPIC  -g -O2  -c readstat/sas/readstat_xport_write.c -o readstat/sas/readstat_xport_write.o\n",
      "clang -I\"/opt/homebrew/Cellar/r/4.3.2/lib/R/include\" -DNDEBUG  -I'/opt/homebrew/Cellar/r/4.3.2/lib/R/library/cpp11/include' -I/opt/homebrew/opt/gettext/include -I/opt/homebrew/opt/readline/include -I/opt/homebrew/opt/xz/include -I/opt/homebrew/include   -Ireadstat -DHAVE_ZLIB -fPIC  -g -O2  -c readstat/spss/readstat_por.c -o readstat/spss/readstat_por.o\n",
      "clang -I\"/opt/homebrew/Cellar/r/4.3.2/lib/R/include\" -DNDEBUG  -I'/opt/homebrew/Cellar/r/4.3.2/lib/R/library/cpp11/include' -I/opt/homebrew/opt/gettext/include -I/opt/homebrew/opt/readline/include -I/opt/homebrew/opt/xz/include -I/opt/homebrew/include   -Ireadstat -DHAVE_ZLIB -fPIC  -g -O2  -c readstat/spss/readstat_por_parse.c -o readstat/spss/readstat_por_parse.o\n",
      "clang -I\"/opt/homebrew/Cellar/r/4.3.2/lib/R/include\" -DNDEBUG  -I'/opt/homebrew/Cellar/r/4.3.2/lib/R/library/cpp11/include' -I/opt/homebrew/opt/gettext/include -I/opt/homebrew/opt/readline/include -I/opt/homebrew/opt/xz/include -I/opt/homebrew/include   -Ireadstat -DHAVE_ZLIB -fPIC  -g -O2  -c readstat/spss/readstat_por_read.c -o readstat/spss/readstat_por_read.o\n",
      "clang -I\"/opt/homebrew/Cellar/r/4.3.2/lib/R/include\" -DNDEBUG  -I'/opt/homebrew/Cellar/r/4.3.2/lib/R/library/cpp11/include' -I/opt/homebrew/opt/gettext/include -I/opt/homebrew/opt/readline/include -I/opt/homebrew/opt/xz/include -I/opt/homebrew/include   -Ireadstat -DHAVE_ZLIB -fPIC  -g -O2  -c readstat/spss/readstat_por_write.c -o readstat/spss/readstat_por_write.o\n",
      "clang -I\"/opt/homebrew/Cellar/r/4.3.2/lib/R/include\" -DNDEBUG  -I'/opt/homebrew/Cellar/r/4.3.2/lib/R/library/cpp11/include' -I/opt/homebrew/opt/gettext/include -I/opt/homebrew/opt/readline/include -I/opt/homebrew/opt/xz/include -I/opt/homebrew/include   -Ireadstat -DHAVE_ZLIB -fPIC  -g -O2  -c readstat/spss/readstat_sav.c -o readstat/spss/readstat_sav.o\n",
      "clang -I\"/opt/homebrew/Cellar/r/4.3.2/lib/R/include\" -DNDEBUG  -I'/opt/homebrew/Cellar/r/4.3.2/lib/R/library/cpp11/include' -I/opt/homebrew/opt/gettext/include -I/opt/homebrew/opt/readline/include -I/opt/homebrew/opt/xz/include -I/opt/homebrew/include   -Ireadstat -DHAVE_ZLIB -fPIC  -g -O2  -c readstat/spss/readstat_sav_compress.c -o readstat/spss/readstat_sav_compress.o\n"
     ]
    },
    {
     "name": "stdout",
     "output_type": "stream",
     "text": [
      "clang -I\"/opt/homebrew/Cellar/r/4.3.2/lib/R/include\" -DNDEBUG  -I'/opt/homebrew/Cellar/r/4.3.2/lib/R/library/cpp11/include' -I/opt/homebrew/opt/gettext/include -I/opt/homebrew/opt/readline/include -I/opt/homebrew/opt/xz/include -I/opt/homebrew/include   -Ireadstat -DHAVE_ZLIB -fPIC  -g -O2  -c readstat/spss/readstat_sav_parse.c -o readstat/spss/readstat_sav_parse.o\n",
      "clang -I\"/opt/homebrew/Cellar/r/4.3.2/lib/R/include\" -DNDEBUG  -I'/opt/homebrew/Cellar/r/4.3.2/lib/R/library/cpp11/include' -I/opt/homebrew/opt/gettext/include -I/opt/homebrew/opt/readline/include -I/opt/homebrew/opt/xz/include -I/opt/homebrew/include   -Ireadstat -DHAVE_ZLIB -fPIC  -g -O2  -c readstat/spss/readstat_sav_parse_timestamp.c -o readstat/spss/readstat_sav_parse_timestamp.o\n",
      "clang -I\"/opt/homebrew/Cellar/r/4.3.2/lib/R/include\" -DNDEBUG  -I'/opt/homebrew/Cellar/r/4.3.2/lib/R/library/cpp11/include' -I/opt/homebrew/opt/gettext/include -I/opt/homebrew/opt/readline/include -I/opt/homebrew/opt/xz/include -I/opt/homebrew/include   -Ireadstat -DHAVE_ZLIB -fPIC  -g -O2  -c readstat/spss/readstat_sav_read.c -o readstat/spss/readstat_sav_read.o\n",
      "clang -I\"/opt/homebrew/Cellar/r/4.3.2/lib/R/include\" -DNDEBUG  -I'/opt/homebrew/Cellar/r/4.3.2/lib/R/library/cpp11/include' -I/opt/homebrew/opt/gettext/include -I/opt/homebrew/opt/readline/include -I/opt/homebrew/opt/xz/include -I/opt/homebrew/include   -Ireadstat -DHAVE_ZLIB -fPIC  -g -O2  -c readstat/spss/readstat_sav_write.c -o readstat/spss/readstat_sav_write.o\n",
      "clang -I\"/opt/homebrew/Cellar/r/4.3.2/lib/R/include\" -DNDEBUG  -I'/opt/homebrew/Cellar/r/4.3.2/lib/R/library/cpp11/include' -I/opt/homebrew/opt/gettext/include -I/opt/homebrew/opt/readline/include -I/opt/homebrew/opt/xz/include -I/opt/homebrew/include   -Ireadstat -DHAVE_ZLIB -fPIC  -g -O2  -c readstat/spss/readstat_spss.c -o readstat/spss/readstat_spss.o\n",
      "clang -I\"/opt/homebrew/Cellar/r/4.3.2/lib/R/include\" -DNDEBUG  -I'/opt/homebrew/Cellar/r/4.3.2/lib/R/library/cpp11/include' -I/opt/homebrew/opt/gettext/include -I/opt/homebrew/opt/readline/include -I/opt/homebrew/opt/xz/include -I/opt/homebrew/include   -Ireadstat -DHAVE_ZLIB -fPIC  -g -O2  -c readstat/spss/readstat_spss_parse.c -o readstat/spss/readstat_spss_parse.o\n",
      "clang -I\"/opt/homebrew/Cellar/r/4.3.2/lib/R/include\" -DNDEBUG  -I'/opt/homebrew/Cellar/r/4.3.2/lib/R/library/cpp11/include' -I/opt/homebrew/opt/gettext/include -I/opt/homebrew/opt/readline/include -I/opt/homebrew/opt/xz/include -I/opt/homebrew/include   -Ireadstat -DHAVE_ZLIB -fPIC  -g -O2  -c readstat/spss/readstat_zsav_compress.c -o readstat/spss/readstat_zsav_compress.o\n",
      "clang -I\"/opt/homebrew/Cellar/r/4.3.2/lib/R/include\" -DNDEBUG  -I'/opt/homebrew/Cellar/r/4.3.2/lib/R/library/cpp11/include' -I/opt/homebrew/opt/gettext/include -I/opt/homebrew/opt/readline/include -I/opt/homebrew/opt/xz/include -I/opt/homebrew/include   -Ireadstat -DHAVE_ZLIB -fPIC  -g -O2  -c readstat/spss/readstat_zsav_read.c -o readstat/spss/readstat_zsav_read.o\n",
      "clang -I\"/opt/homebrew/Cellar/r/4.3.2/lib/R/include\" -DNDEBUG  -I'/opt/homebrew/Cellar/r/4.3.2/lib/R/library/cpp11/include' -I/opt/homebrew/opt/gettext/include -I/opt/homebrew/opt/readline/include -I/opt/homebrew/opt/xz/include -I/opt/homebrew/include   -Ireadstat -DHAVE_ZLIB -fPIC  -g -O2  -c readstat/spss/readstat_zsav_write.c -o readstat/spss/readstat_zsav_write.o\n",
      "clang -I\"/opt/homebrew/Cellar/r/4.3.2/lib/R/include\" -DNDEBUG  -I'/opt/homebrew/Cellar/r/4.3.2/lib/R/library/cpp11/include' -I/opt/homebrew/opt/gettext/include -I/opt/homebrew/opt/readline/include -I/opt/homebrew/opt/xz/include -I/opt/homebrew/include   -Ireadstat -DHAVE_ZLIB -fPIC  -g -O2  -c readstat/stata/readstat_dta.c -o readstat/stata/readstat_dta.o\n",
      "clang -I\"/opt/homebrew/Cellar/r/4.3.2/lib/R/include\" -DNDEBUG  -I'/opt/homebrew/Cellar/r/4.3.2/lib/R/library/cpp11/include' -I/opt/homebrew/opt/gettext/include -I/opt/homebrew/opt/readline/include -I/opt/homebrew/opt/xz/include -I/opt/homebrew/include   -Ireadstat -DHAVE_ZLIB -fPIC  -g -O2  -c readstat/stata/readstat_dta_parse_timestamp.c -o readstat/stata/readstat_dta_parse_timestamp.o\n",
      "clang -I\"/opt/homebrew/Cellar/r/4.3.2/lib/R/include\" -DNDEBUG  -I'/opt/homebrew/Cellar/r/4.3.2/lib/R/library/cpp11/include' -I/opt/homebrew/opt/gettext/include -I/opt/homebrew/opt/readline/include -I/opt/homebrew/opt/xz/include -I/opt/homebrew/include   -Ireadstat -DHAVE_ZLIB -fPIC  -g -O2  -c readstat/stata/readstat_dta_read.c -o readstat/stata/readstat_dta_read.o\n",
      "clang -I\"/opt/homebrew/Cellar/r/4.3.2/lib/R/include\" -DNDEBUG  -I'/opt/homebrew/Cellar/r/4.3.2/lib/R/library/cpp11/include' -I/opt/homebrew/opt/gettext/include -I/opt/homebrew/opt/readline/include -I/opt/homebrew/opt/xz/include -I/opt/homebrew/include   -Ireadstat -DHAVE_ZLIB -fPIC  -g -O2  -c readstat/stata/readstat_dta_write.c -o readstat/stata/readstat_dta_write.o\n",
      "clang++ -std=gnu++17 -I\"/opt/homebrew/Cellar/r/4.3.2/lib/R/include\" -DNDEBUG  -I'/opt/homebrew/Cellar/r/4.3.2/lib/R/library/cpp11/include' -I/opt/homebrew/opt/gettext/include -I/opt/homebrew/opt/readline/include -I/opt/homebrew/opt/xz/include -I/opt/homebrew/include   -Ireadstat -DHAVE_ZLIB -fPIC  -g -O2  -c DfReader.cpp -o DfReader.o\n",
      "clang++ -std=gnu++17 -I\"/opt/homebrew/Cellar/r/4.3.2/lib/R/include\" -DNDEBUG  -I'/opt/homebrew/Cellar/r/4.3.2/lib/R/library/cpp11/include' -I/opt/homebrew/opt/gettext/include -I/opt/homebrew/opt/readline/include -I/opt/homebrew/opt/xz/include -I/opt/homebrew/include   -Ireadstat -DHAVE_ZLIB -fPIC  -g -O2  -c DfWriter.cpp -o DfWriter.o\n",
      "clang++ -std=gnu++17 -I\"/opt/homebrew/Cellar/r/4.3.2/lib/R/include\" -DNDEBUG  -I'/opt/homebrew/Cellar/r/4.3.2/lib/R/library/cpp11/include' -I/opt/homebrew/opt/gettext/include -I/opt/homebrew/opt/readline/include -I/opt/homebrew/opt/xz/include -I/opt/homebrew/include   -Ireadstat -DHAVE_ZLIB -fPIC  -g -O2  -c cpp11.cpp -o cpp11.o\n",
      "clang++ -std=gnu++17 -I\"/opt/homebrew/Cellar/r/4.3.2/lib/R/include\" -DNDEBUG  -I'/opt/homebrew/Cellar/r/4.3.2/lib/R/library/cpp11/include' -I/opt/homebrew/opt/gettext/include -I/opt/homebrew/opt/readline/include -I/opt/homebrew/opt/xz/include -I/opt/homebrew/include   -Ireadstat -DHAVE_ZLIB -fPIC  -g -O2  -c haven_types.cpp -o haven_types.o\n",
      "clang++ -std=gnu++17 -dynamiclib -Wl,-headerpad_max_install_names -undefined dynamic_lookup -L/opt/homebrew/Cellar/r/4.3.2/lib/R/lib -L/opt/homebrew/opt/gettext/lib -L/opt/homebrew/opt/readline/lib -L/opt/homebrew/opt/xz/lib -L/opt/homebrew/lib -o haven.so tagged_na.o readstat/CKHashTable.o readstat/readstat_bits.o readstat/readstat_convert.o readstat/readstat_error.o readstat/readstat_io_unistd.o readstat/readstat_malloc.o readstat/readstat_metadata.o readstat/readstat_parser.o readstat/readstat_value.o readstat/readstat_variable.o readstat/readstat_writer.o readstat/sas/ieee.o readstat/sas/readstat_sas.o readstat/sas/readstat_sas7bcat_read.o readstat/sas/readstat_sas7bcat_write.o readstat/sas/readstat_sas7bdat_read.o readstat/sas/readstat_sas7bdat_write.o readstat/sas/readstat_sas_rle.o readstat/sas/readstat_xport.o readstat/sas/readstat_xport_parse_format.o readstat/sas/readstat_xport_read.o readstat/sas/readstat_xport_write.o readstat/spss/readstat_por.o readstat/spss/readstat_por_parse.o readstat/spss/readstat_por_read.o readstat/spss/readstat_por_write.o readstat/spss/readstat_sav.o readstat/spss/readstat_sav_compress.o readstat/spss/readstat_sav_parse.o readstat/spss/readstat_sav_parse_timestamp.o readstat/spss/readstat_sav_read.o readstat/spss/readstat_sav_write.o readstat/spss/readstat_spss.o readstat/spss/readstat_spss_parse.o readstat/spss/readstat_zsav_compress.o readstat/spss/readstat_zsav_read.o readstat/spss/readstat_zsav_write.o readstat/stata/readstat_dta.o readstat/stata/readstat_dta_parse_timestamp.o readstat/stata/readstat_dta_read.o readstat/stata/readstat_dta_write.o DfReader.o DfWriter.o cpp11.o haven_types.o -lz -L/opt/homebrew/Cellar/r/4.3.2/lib/R/lib -lR -lintl -Wl,-framework -Wl,CoreFoundation\n",
      "installing to /opt/homebrew/Cellar/r/4.3.2/lib/R/library/00LOCK-haven/00new/haven/libs\n",
      "** R\n",
      "** inst\n",
      "** byte-compile and prepare package for lazy loading\n",
      "** help\n",
      "*** installing help indices\n",
      "*** copying figures\n",
      "** building package indices\n",
      "** installing vignettes\n",
      "** testing if installed package can be loaded from temporary location\n"
     ]
    },
    {
     "name": "stdout",
     "output_type": "stream",
     "text": [
      "** checking absolute paths in shared objects and dynamic libraries\n",
      "** testing if installed package can be loaded from final location\n",
      "** testing if installed package keeps a record of temporary installation path\n",
      "* DONE (haven)\n",
      "ERROR: dependency ‘xml2’ is not available for package ‘rvest’\n",
      "* removing ‘/opt/homebrew/Cellar/r/4.3.2/lib/R/library/rvest’\n",
      "ERROR: dependencies ‘rvest’, ‘xml2’ are not available for package ‘tidyverse’\n",
      "* removing ‘/opt/homebrew/Cellar/r/4.3.2/lib/R/library/tidyverse’\n",
      "\n",
      "The downloaded source packages are in\n",
      "\t‘/private/var/folders/j_/497vxglx1kz07md2f3v37jlw0000gn/T/RtmpM44Lwj/downloaded_packages’\n",
      "Updating HTML index of packages in '.Library'\n",
      "Making 'packages.html' ... done\n",
      "Warning messages:\n",
      "1: In utils::install.packages(package, ...) :\n",
      "  installation of package ‘xml2’ had non-zero exit status\n",
      "2: In utils::install.packages(package, ...) :\n",
      "  installation of package ‘rvest’ had non-zero exit status\n",
      "3: In utils::install.packages(package, ...) :\n",
      "  installation of package ‘tidyverse’ had non-zero exit status\n",
      "4: In p_install(package, character.only = TRUE, ...) : \n",
      "5: In library(package, lib.loc = lib.loc, character.only = TRUE, logical.return = TRUE,  :\n",
      "  there is no package called ‘tidyverse’\n",
      "6: In pacman::p_load(argparse, arrow, assertr, logger, stringdist,  :\n",
      "  Failed to install/load:\n",
      "tidyverse\n",
      "\u001b[?25h\u001b[?25h\u001b[?25h\u001b[?25h\u001b[?25h\u001b[?25hError: IOError: Failed to open local file 'git/training-docs/demo-tasks/parallelize/output/linepairs.parquet'. Detail: [errno 2] No such file or directory\n",
      "Execution halted\n",
      "\u001b[?25hRscript ../src/stringdist.R  31.88s user 4.56s system 89% cpu 40.898 total\n"
     ]
    }
   ],
   "source": [
    "!time Rscript ../src/stringdist.R"
   ]
  },
  {
   "cell_type": "markdown",
   "id": "aa004123",
   "metadata": {},
   "source": [
    "# `hyperfine`\n",
    "- [docs](https://github.com/sharkdp/hyperfine)"
   ]
  },
  {
   "cell_type": "code",
   "execution_count": 7,
   "id": "c0705187",
   "metadata": {},
   "outputs": [
    {
     "name": "stdout",
     "output_type": "stream",
     "text": [
      "Benchmark 1: python ../src/Levanshtein.py\n",
      "  Time (mean ± σ):     429.6 ms ±   3.8 ms    [User: 362.3 ms, System: 61.5 ms]\n",
      "  Range (min … max):   425.5 ms … 433.9 ms    5 runs\n",
      " \n"
     ]
    }
   ],
   "source": [
    "!hyperfine --show-output --runs 5 'python ../src/Levanshtein.py'"
   ]
  },
  {
   "cell_type": "code",
   "execution_count": 8,
   "id": "6589b21a",
   "metadata": {},
   "outputs": [
    {
     "name": "stdout",
     "output_type": "stream",
     "text": [
      "Benchmark 1: Rscript ../src/stringdist.R\n",
      "also installing the dependencies ‘rvest’, ‘xml2’\n",
      "\n",
      "trying URL 'http://cran.rstudio.com/src/contrib/rvest_1.0.3.tar.gz'\n",
      "Content type 'application/x-gzip' length 94659 bytes (92 KB)\n",
      "==================================================\n",
      "downloaded 92 KB\n",
      "\n",
      "trying URL 'http://cran.rstudio.com/src/contrib/xml2_1.3.6.tar.gz'\n",
      "Content type 'application/x-gzip' length 294715 bytes (287 KB)\n",
      "==================================================\n",
      "downloaded 287 KB\n",
      "\n",
      "trying URL 'http://cran.rstudio.com/src/contrib/tidyverse_2.0.0.tar.gz'\n",
      "Content type 'application/x-gzip' length 704618 bytes (688 KB)\n",
      "==================================================\n",
      "downloaded 688 KB\n",
      "\n",
      "* installing *source* package ‘xml2’ ...\n",
      "** package ‘xml2’ successfully unpacked and MD5 sums checked\n",
      "** using staged installation\n",
      "Found pkg-config cflags and libs!\n",
      "Using PKG_CFLAGS=-I/opt/homebrew/Caskroom/miniforge/base/include/libxml2 -I/opt/homebrew/Caskroom/miniforge/base/include\n",
      "Using PKG_LIBS=-L/opt/homebrew/Caskroom/miniforge/base/lib -lxml2 -L/opt/homebrew/Caskroom/miniforge/base/lib -lz -L/opt/homebrew/Caskroom/miniforge/base/lib -llzma -L/opt/homebrew/Caskroom/miniforge/base/lib -liconv -L/opt/homebrew/Caskroom/miniforge/base/lib -licui18n -licuuc -licudata\n",
      "** libs\n",
      "using C compiler: ‘Apple clang version 15.0.0 (clang-1500.0.40.1)’\n",
      "using C++ compiler: ‘Apple clang version 15.0.0 (clang-1500.0.40.1)’\n",
      "using SDK: ‘MacOSX14.0.sdk’\n",
      "clang++ -std=gnu++17 -I\"/opt/homebrew/Cellar/r/4.3.2/lib/R/include\" -DNDEBUG -I../inst/include -I/opt/homebrew/Caskroom/miniforge/base/include/libxml2 -I/opt/homebrew/Caskroom/miniforge/base/include -DUCHAR_TYPE=wchar_t -DU_SHOW_CPLUSPLUS_API=0  -I/opt/homebrew/opt/gettext/include -I/opt/homebrew/opt/readline/include -I/opt/homebrew/opt/xz/include -I/opt/homebrew/include    -fPIC  -g -O2  -c connection.cpp -o connection.o\n",
      "clang -I\"/opt/homebrew/Cellar/r/4.3.2/lib/R/include\" -DNDEBUG -I../inst/include -I/opt/homebrew/Caskroom/miniforge/base/include/libxml2 -I/opt/homebrew/Caskroom/miniforge/base/include -DUCHAR_TYPE=wchar_t -DU_SHOW_CPLUSPLUS_API=0  -I/opt/homebrew/opt/gettext/include -I/opt/homebrew/opt/readline/include -I/opt/homebrew/opt/xz/include -I/opt/homebrew/include    -fPIC  -g -O2  -c init.c -o init.o\n",
      "clang++ -std=gnu++17 -I\"/opt/homebrew/Cellar/r/4.3.2/lib/R/include\" -DNDEBUG -I../inst/include -I/opt/homebrew/Caskroom/miniforge/base/include/libxml2 -I/opt/homebrew/Caskroom/miniforge/base/include -DUCHAR_TYPE=wchar_t -DU_SHOW_CPLUSPLUS_API=0  -I/opt/homebrew/opt/gettext/include -I/opt/homebrew/opt/readline/include -I/opt/homebrew/opt/xz/include -I/opt/homebrew/include    -fPIC  -g -O2  -c xml2_doc.cpp -o xml2_doc.o\n",
      "clang++ -std=gnu++17 -I\"/opt/homebrew/Cellar/r/4.3.2/lib/R/include\" -DNDEBUG -I../inst/include -I/opt/homebrew/Caskroom/miniforge/base/include/libxml2 -I/opt/homebrew/Caskroom/miniforge/base/include -DUCHAR_TYPE=wchar_t -DU_SHOW_CPLUSPLUS_API=0  -I/opt/homebrew/opt/gettext/include -I/opt/homebrew/opt/readline/include -I/opt/homebrew/opt/xz/include -I/opt/homebrew/include    -fPIC  -g -O2  -c xml2_init.cpp -o xml2_init.o\n",
      "clang++ -std=gnu++17 -I\"/opt/homebrew/Cellar/r/4.3.2/lib/R/include\" -DNDEBUG -I../inst/include -I/opt/homebrew/Caskroom/miniforge/base/include/libxml2 -I/opt/homebrew/Caskroom/miniforge/base/include -DUCHAR_TYPE=wchar_t -DU_SHOW_CPLUSPLUS_API=0  -I/opt/homebrew/opt/gettext/include -I/opt/homebrew/opt/readline/include -I/opt/homebrew/opt/xz/include -I/opt/homebrew/include    -fPIC  -g -O2  -c xml2_namespace.cpp -o xml2_namespace.o\n",
      "clang++ -std=gnu++17 -I\"/opt/homebrew/Cellar/r/4.3.2/lib/R/include\" -DNDEBUG -I../inst/include -I/opt/homebrew/Caskroom/miniforge/base/include/libxml2 -I/opt/homebrew/Caskroom/miniforge/base/include -DUCHAR_TYPE=wchar_t -DU_SHOW_CPLUSPLUS_API=0  -I/opt/homebrew/opt/gettext/include -I/opt/homebrew/opt/readline/include -I/opt/homebrew/opt/xz/include -I/opt/homebrew/include    -fPIC  -g -O2  -c xml2_node.cpp -o xml2_node.o\n",
      "clang++ -std=gnu++17 -I\"/opt/homebrew/Cellar/r/4.3.2/lib/R/include\" -DNDEBUG -I../inst/include -I/opt/homebrew/Caskroom/miniforge/base/include/libxml2 -I/opt/homebrew/Caskroom/miniforge/base/include -DUCHAR_TYPE=wchar_t -DU_SHOW_CPLUSPLUS_API=0  -I/opt/homebrew/opt/gettext/include -I/opt/homebrew/opt/readline/include -I/opt/homebrew/opt/xz/include -I/opt/homebrew/include    -fPIC  -g -O2  -c xml2_output.cpp -o xml2_output.o\n",
      "clang++ -std=gnu++17 -I\"/opt/homebrew/Cellar/r/4.3.2/lib/R/include\" -DNDEBUG -I../inst/include -I/opt/homebrew/Caskroom/miniforge/base/include/libxml2 -I/opt/homebrew/Caskroom/miniforge/base/include -DUCHAR_TYPE=wchar_t -DU_SHOW_CPLUSPLUS_API=0  -I/opt/homebrew/opt/gettext/include -I/opt/homebrew/opt/readline/include -I/opt/homebrew/opt/xz/include -I/opt/homebrew/include    -fPIC  -g -O2  -c xml2_schema.cpp -o xml2_schema.o\n",
      "clang++ -std=gnu++17 -I\"/opt/homebrew/Cellar/r/4.3.2/lib/R/include\" -DNDEBUG -I../inst/include -I/opt/homebrew/Caskroom/miniforge/base/include/libxml2 -I/opt/homebrew/Caskroom/miniforge/base/include -DUCHAR_TYPE=wchar_t -DU_SHOW_CPLUSPLUS_API=0  -I/opt/homebrew/opt/gettext/include -I/opt/homebrew/opt/readline/include -I/opt/homebrew/opt/xz/include -I/opt/homebrew/include    -fPIC  -g -O2  -c xml2_url.cpp -o xml2_url.o\n",
      "clang++ -std=gnu++17 -I\"/opt/homebrew/Cellar/r/4.3.2/lib/R/include\" -DNDEBUG -I../inst/include -I/opt/homebrew/Caskroom/miniforge/base/include/libxml2 -I/opt/homebrew/Caskroom/miniforge/base/include -DUCHAR_TYPE=wchar_t -DU_SHOW_CPLUSPLUS_API=0  -I/opt/homebrew/opt/gettext/include -I/opt/homebrew/opt/readline/include -I/opt/homebrew/opt/xz/include -I/opt/homebrew/include    -fPIC  -g -O2  -c xml2_xpath.cpp -o xml2_xpath.o\n",
      "clang++ -std=gnu++17 -dynamiclib -Wl,-headerpad_max_install_names -undefined dynamic_lookup -L/opt/homebrew/Cellar/r/4.3.2/lib/R/lib -L/opt/homebrew/opt/gettext/lib -L/opt/homebrew/opt/readline/lib -L/opt/homebrew/opt/xz/lib -L/opt/homebrew/lib -o xml2.so connection.o init.o xml2_doc.o xml2_init.o xml2_namespace.o xml2_node.o xml2_output.o xml2_schema.o xml2_url.o xml2_xpath.o -L/opt/homebrew/Caskroom/miniforge/base/lib -lxml2 -L/opt/homebrew/Caskroom/miniforge/base/lib -lz -L/opt/homebrew/Caskroom/miniforge/base/lib -llzma -L/opt/homebrew/Caskroom/miniforge/base/lib -liconv -L/opt/homebrew/Caskroom/miniforge/base/lib -licui18n -licuuc -licudata -L/opt/homebrew/Cellar/r/4.3.2/lib/R/lib -lR -lintl -Wl,-framework -Wl,CoreFoundation\n",
      "installing to /opt/homebrew/Cellar/r/4.3.2/lib/R/library/00LOCK-xml2/00new/xml2/libs\n",
      "** R\n",
      "** inst\n",
      "** byte-compile and prepare package for lazy loading\n",
      "** help\n",
      "Error : read_xml.Rd:58: unable to load shared object '/opt/homebrew/Cellar/r/4.3.2/lib/R/library/00LOCK-xml2/00new/xml2/libs/xml2.so':\n",
      "  dlopen(/opt/homebrew/Cellar/r/4.3.2/lib/R/library/00LOCK-xml2/00new/xml2/libs/xml2.so, 0x0006): Library not loaded: @rpath/libxml2.2.dylib\n",
      "  Referenced from: <7C5D47AF-A8BA-3BBC-A866-6BC7B840A66E> /opt/homebrew/Cellar/r/4.3.2/lib/R/library/00LOCK-xml2/00new/xml2/libs/xml2.so\n",
      "  Reason: tried: '/opt/homebrew/Cellar/r/4.3.2/lib/R/lib/libxml2.2.dylib' (no such file)\n",
      "ERROR: installing Rd objects failed for package ‘xml2’\n",
      "* removing ‘/opt/homebrew/Cellar/r/4.3.2/lib/R/library/xml2’\n",
      "ERROR: dependency ‘xml2’ is not available for package ‘rvest’\n",
      "* removing ‘/opt/homebrew/Cellar/r/4.3.2/lib/R/library/rvest’\n",
      "ERROR: dependencies ‘rvest’, ‘xml2’ are not available for package ‘tidyverse’\n",
      "* removing ‘/opt/homebrew/Cellar/r/4.3.2/lib/R/library/tidyverse’\n",
      "\n",
      "The downloaded source packages are in\n",
      "\t‘/private/var/folders/j_/497vxglx1kz07md2f3v37jlw0000gn/T/RtmplbGPIF/downloaded_packages’\n",
      "Updating HTML index of packages in '.Library'\n",
      "Making 'packages.html' ... done\n",
      "Warning messages:\n",
      "1: In utils::install.packages(package, ...) :\n",
      "  installation of package ‘xml2’ had non-zero exit status\n",
      "2: In utils::install.packages(package, ...) :\n",
      "  installation of package ‘rvest’ had non-zero exit status\n",
      "3: In utils::install.packages(package, ...) :\n",
      "  installation of package ‘tidyverse’ had non-zero exit status\n",
      "4: In p_install(package, character.only = TRUE, ...) : \n",
      "5: In library(package, lib.loc = lib.loc, character.only = TRUE, logical.return = TRUE,  :\n",
      "  there is no package called ‘tidyverse’\n",
      "6: In pacman::p_load(argparse, arrow, assertr, logger, stringdist,  :\n",
      "  Failed to install/load:\n",
      "tidyverse\n"
     ]
    },
    {
     "name": "stdout",
     "output_type": "stream",
     "text": [
      "\u001b[?25h\u001b[?25h\u001b[?25h\u001b[?25h\u001b[?25h\u001b[?25hError: IOError: Failed to open local file 'git/training-docs/demo-tasks/parallelize/output/linepairs.parquet'. Detail: [errno 2] No such file or directory\n",
      "Execution halted\n",
      "\u001b[?25hError: Command terminated with non-zero exit code: 1. Use the '-i'/'--ignore-failure' option if you want to ignore this. Alternatively, use the '--show-output' option to debug what went wrong.\n"
     ]
    }
   ],
   "source": [
    "!hyperfine --show-output --runs 5 'Rscript ../src/stringdist.R'"
   ]
  },
  {
   "cell_type": "markdown",
   "id": "f0ae5406",
   "metadata": {},
   "source": [
    "# `snakeviz`\n",
    "- [docs](https://jiffyclub.github.io/snakeviz/)"
   ]
  },
  {
   "cell_type": "code",
   "execution_count": 9,
   "id": "b88c258e",
   "metadata": {},
   "outputs": [],
   "source": [
    "# this makes the prof file based on the script\n",
    "!python -m cProfile -o ../output/levdist-py.prof ../src/Levanshtein.py\n",
    "#!python -m cProfile -o ../output/levdist-R.prof ../src/stringdist.R"
   ]
  },
  {
   "cell_type": "code",
   "execution_count": 15,
   "id": "8c371034",
   "metadata": {},
   "outputs": [
    {
     "name": "stdout",
     "output_type": "stream",
     "text": [
      "snakeviz: error: the path /Users/home/git/training-docs/demo-tasks/parallelize/note/output/Levanshtein.py.prof does not exist\r\n",
      "\r\n",
      "usage: snakeviz [-h] [-v] [-H ADDR] [-p PORT] [-b BROWSER_PATH] [-s] filename\r\n",
      "\r\n",
      "Start SnakeViz to view a Python profile.\r\n",
      "\r\n",
      "positional arguments:\r\n",
      "  filename              Python profile to view\r\n",
      "\r\n",
      "options:\r\n",
      "  -h, --help            show this help message and exit\r\n",
      "  -v, --version         show program's version number and exit\r\n",
      "  -H ADDR, --hostname ADDR\r\n",
      "                        hostname to bind to (default: 127.0.0.1)\r\n",
      "  -p PORT, --port PORT  port to bind to; if this port is already in use a free\r\n",
      "                        port will be selected automatically (default: 8080)\r\n",
      "  -b BROWSER_PATH, --browser BROWSER_PATH\r\n",
      "                        name of webbrowser to launch as described in the\r\n",
      "                        documentation of Python's webbrowser module:\r\n",
      "                        https://docs.python.org/3/library/webbrowser.html\r\n",
      "  -s, --server          start SnakeViz in server-only mode--no attempt will be\r\n",
      "                        made to open a browser\r\n"
     ]
    }
   ],
   "source": [
    "# this previews the prof file generated above\n",
    "!snakeviz output/Levanshtein.py.prof\n",
    "#!snakeviz ../output/stringdist.R.prof"
   ]
  },
  {
   "cell_type": "markdown",
   "id": "0c1ff37c",
   "metadata": {},
   "source": [
    "# `line_profiler`\n",
    "- [docs](https://pypi.org/project/line-profiler/)\n",
    "\n",
    "- to make this one work, we need to prepare the script by importing the `line_profiler` library and marking the lines to profile"
   ]
  },
  {
   "cell_type": "code",
   "execution_count": 11,
   "id": "8c81dac4",
   "metadata": {},
   "outputs": [
    {
     "name": "stdout",
     "output_type": "stream",
     "text": [
      "Wrote profile results to Levanshtein.py.lprof\r\n",
      "Inspect results with:\r\n",
      "python3 -m line_profiler -rmt \"Levanshtein.py.lprof\"\r\n"
     ]
    }
   ],
   "source": [
    "!kernprof -l ../src/Levanshtein.py"
   ]
  },
  {
   "cell_type": "code",
   "execution_count": 12,
   "id": "56cf992f",
   "metadata": {},
   "outputs": [
    {
     "name": "stdout",
     "output_type": "stream",
     "text": [
      "Timer unit: 1e-06 s\r\n",
      "\r\n"
     ]
    }
   ],
   "source": [
    "!python3 -m line_profiler -rmt \"Levanshtein.py.lprof\""
   ]
  },
  {
   "cell_type": "code",
   "execution_count": 13,
   "id": "c3348ce6",
   "metadata": {},
   "outputs": [],
   "source": [
    "# not working\n",
    "#!python -m pstats levdist.py.prof"
   ]
  },
  {
   "cell_type": "code",
   "execution_count": null,
   "id": "a54b89a8",
   "metadata": {},
   "outputs": [],
   "source": []
  }
 ],
 "metadata": {
  "kernelspec": {
   "display_name": "Python 3 (ipykernel)",
   "language": "python",
   "name": "python3"
  },
  "language_info": {
   "codemirror_mode": {
    "name": "ipython",
    "version": 3
   },
   "file_extension": ".py",
   "mimetype": "text/x-python",
   "name": "python",
   "nbconvert_exporter": "python",
   "pygments_lexer": "ipython3",
   "version": "3.11.6"
  },
  "toc": {
   "base_numbering": 1,
   "nav_menu": {},
   "number_sections": true,
   "sideBar": true,
   "skip_h1_title": false,
   "title_cell": "Table of Contents",
   "title_sidebar": "Contents",
   "toc_cell": false,
   "toc_position": {},
   "toc_section_display": true,
   "toc_window_display": false
  },
  "varInspector": {
   "cols": {
    "lenName": 16,
    "lenType": 16,
    "lenVar": 40
   },
   "kernels_config": {
    "python": {
     "delete_cmd_postfix": "",
     "delete_cmd_prefix": "del ",
     "library": "var_list.py",
     "varRefreshCmd": "print(var_dic_list())"
    },
    "r": {
     "delete_cmd_postfix": ") ",
     "delete_cmd_prefix": "rm(",
     "library": "var_list.r",
     "varRefreshCmd": "cat(var_dic_list()) "
    }
   },
   "types_to_exclude": [
    "module",
    "function",
    "builtin_function_or_method",
    "instance",
    "_Feature"
   ],
   "window_display": false
  }
 },
 "nbformat": 4,
 "nbformat_minor": 5
}
