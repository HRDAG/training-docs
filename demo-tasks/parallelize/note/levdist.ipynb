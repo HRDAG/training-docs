{
 "cells": [
  {
   "cell_type": "markdown",
   "id": "aca39b27",
   "metadata": {},
   "source": [
    "# setup"
   ]
  },
  {
   "cell_type": "code",
   "execution_count": 1,
   "id": "dbceb95d",
   "metadata": {
    "code_folding": [
     0
    ],
    "run_control": {
     "marked": true
    }
   },
   "outputs": [],
   "source": [
    "# dependencies\n",
    "# general\n",
    "import time\n",
    "import pandas as pd\n",
    "\n",
    "# string distance measuring (probably dont want to use all of these the whole time)\n",
    "import stringdist\n",
    "import fuzzywuzzy\n",
    "from fuzzywuzzy import fuzz\n",
    "import textdistance\n",
    "import rapidfuzz\n",
    "import jellyfish\n",
    "import Levenshtein\n",
    "import distance"
   ]
  },
  {
   "cell_type": "code",
   "execution_count": 2,
   "id": "3afa35df",
   "metadata": {
    "code_folding": [
     0
    ],
    "run_control": {
     "marked": true
    }
   },
   "outputs": [],
   "source": [
    "# support methods\n",
    "def makepairs(coll):\n",
    "    return [(l, r) for l in coll for r in coll]\n",
    "\n",
    "\n",
    "def timedapply(method, a, b):\n",
    "    s = time.time()\n",
    "    res = method(a, b)\n",
    "    e = time.time()\n",
    "    diff = round(e-s, 8)\n",
    "    return res, diff\n",
    "\n",
    "\n",
    "def getmethods():\n",
    "    return {\n",
    "    'stringdist': stringdist.levenshtein,\n",
    "    'fuzzywuzzy': fuzzywuzzy.StringMatcher.distance,\n",
    "    'textdistance': textdistance.levenshtein,\n",
    "    'rapidfuzz': rapidfuzz.distance.Levenshtein.distance,\n",
    "    'jellyfish': jellyfish.levenshtein_distance,\n",
    "    'Levenshtein': Levenshtein.distance,\n",
    "    'distance': distance.levenshtein,\n",
    "}\n",
    "\n",
    "def applymethods(methods, pairs):\n",
    "    assert 'line_a' in pairs.columns\n",
    "    copy = pairs.copy()\n",
    "    runtime = {}\n",
    "    for lib, method in methods.items():\n",
    "        s = time.time()\n",
    "        copy['tup'] = copy.apply(\n",
    "            lambda row: timedapply(method, row.line_a, row.line_b), axis=1)\n",
    "        copy[lib] = copy.tup.apply(lambda x: x[0])\n",
    "        copy[f'{lib}_time'] = copy.tup.apply(lambda x: x[1])\n",
    "        e = time.time()\n",
    "        runtime[lib] = e-s\n",
    "    copy.drop(columns='tup', inplace=True)\n",
    "    return copy, runtime"
   ]
  },
  {
   "cell_type": "code",
   "execution_count": 3,
   "id": "d919dbb9",
   "metadata": {
    "code_folding": [
     0
    ],
    "run_control": {
     "marked": true
    }
   },
   "outputs": [
    {
     "name": "stderr",
     "output_type": "stream",
     "text": [
      "/var/folders/j_/497vxglx1kz07md2f3v37jlw0000gn/T/ipykernel_48715/2348547886.py:8: DeprecationWarning: getargs: The 'u' format is deprecated. Use 'U' instead.\n",
      "  res = method(a, b)\n"
     ]
    }
   ],
   "source": [
    "# main\n",
    "lines = pd.read_parquet(\"../output/lines.parquet\")\n",
    "pairs = pd.DataFrame(makepairs(lines.line.values), columns=['line_a', 'line_b'])\n",
    "testpairs = pairs.sample(10)\n",
    "\n",
    "methods = getmethods()\n",
    "testpairs, runtime = applymethods(methods, pairs)\n",
    "\n",
    "# setup results as dataframe for easy review\n",
    "methodf = pd.DataFrame({'library': methods.keys(), 'method': methods.values()})\n",
    "runtidf = pd.DataFrame({'library': runtime.keys(), 'time': runtime.values()})\n",
    "tests = pd.merge(methodf, runtidf, on='library')"
   ]
  },
  {
   "cell_type": "markdown",
   "id": "235eca31",
   "metadata": {},
   "source": [
    "# preview data"
   ]
  },
  {
   "cell_type": "code",
   "execution_count": 4,
   "id": "9df4ee3b",
   "metadata": {
    "code_folding": [
     0
    ],
    "run_control": {
     "marked": true
    }
   },
   "outputs": [],
   "source": [
    "# get 1 random sample for testing\n",
    "samp = pairs.sample()\n",
    "a,b = samp.line_a.values[0], samp.line_b.values[0]"
   ]
  },
  {
   "cell_type": "code",
   "execution_count": 5,
   "id": "53d4308e",
   "metadata": {},
   "outputs": [
    {
     "data": {
      "text/html": [
       "<div>\n",
       "<style scoped>\n",
       "    .dataframe tbody tr th:only-of-type {\n",
       "        vertical-align: middle;\n",
       "    }\n",
       "\n",
       "    .dataframe tbody tr th {\n",
       "        vertical-align: top;\n",
       "    }\n",
       "\n",
       "    .dataframe thead th {\n",
       "        text-align: right;\n",
       "    }\n",
       "</style>\n",
       "<table border=\"1\" class=\"dataframe\">\n",
       "  <thead>\n",
       "    <tr style=\"text-align: right;\">\n",
       "      <th></th>\n",
       "      <th>line</th>\n",
       "      <th>n_alpha</th>\n",
       "      <th>n_digit</th>\n",
       "      <th>hashid</th>\n",
       "    </tr>\n",
       "  </thead>\n",
       "  <tbody>\n",
       "    <tr>\n",
       "      <th>74</th>\n",
       "      <td>TjTvLjItNHkIPNqYxuzFpac TavN qyK#b QqKHRCXWi^</td>\n",
       "      <td>40</td>\n",
       "      <td>0</td>\n",
       "      <td>de686c5e</td>\n",
       "    </tr>\n",
       "    <tr>\n",
       "      <th>41</th>\n",
       "      <td>vUkaDuUEjVP ZwooEShjGUSpIKCnkU WdJtngFicXrtyoi...</td>\n",
       "      <td>134</td>\n",
       "      <td>1</td>\n",
       "      <td>b2187163</td>\n",
       "    </tr>\n",
       "    <tr>\n",
       "      <th>35</th>\n",
       "      <td>QbGc OmKTvIiuX eNu#HOmutLVEbN AjqYdLJRFcSytYFh...</td>\n",
       "      <td>46</td>\n",
       "      <td>0</td>\n",
       "      <td>59da193b</td>\n",
       "    </tr>\n",
       "    <tr>\n",
       "      <th>13</th>\n",
       "      <td>1kbfwvh QCJFrMgNzXQ4CyK btoVopM(piMPfm4DTm h l...</td>\n",
       "      <td>104</td>\n",
       "      <td>4</td>\n",
       "      <td>ce960aed</td>\n",
       "    </tr>\n",
       "    <tr>\n",
       "      <th>99</th>\n",
       "      <td>wQMVZ VbMSX:q YTqYDBY vBAlRS@hDHhKYMHAvx cHkEQ...</td>\n",
       "      <td>122</td>\n",
       "      <td>0</td>\n",
       "      <td>06a48faa</td>\n",
       "    </tr>\n",
       "  </tbody>\n",
       "</table>\n",
       "</div>"
      ],
      "text/plain": [
       "                                                 line  n_alpha  n_digit  \\\n",
       "74      TjTvLjItNHkIPNqYxuzFpac TavN qyK#b QqKHRCXWi^       40        0   \n",
       "41  vUkaDuUEjVP ZwooEShjGUSpIKCnkU WdJtngFicXrtyoi...      134        1   \n",
       "35  QbGc OmKTvIiuX eNu#HOmutLVEbN AjqYdLJRFcSytYFh...       46        0   \n",
       "13  1kbfwvh QCJFrMgNzXQ4CyK btoVopM(piMPfm4DTm h l...      104        4   \n",
       "99  wQMVZ VbMSX:q YTqYDBY vBAlRS@hDHhKYMHAvx cHkEQ...      122        0   \n",
       "\n",
       "      hashid  \n",
       "74  de686c5e  \n",
       "41  b2187163  \n",
       "35  59da193b  \n",
       "13  ce960aed  \n",
       "99  06a48faa  "
      ]
     },
     "execution_count": 5,
     "metadata": {},
     "output_type": "execute_result"
    }
   ],
   "source": [
    "lines.sample(5)"
   ]
  },
  {
   "cell_type": "code",
   "execution_count": 6,
   "id": "9ce093ee",
   "metadata": {},
   "outputs": [
    {
     "data": {
      "text/html": [
       "<div>\n",
       "<style scoped>\n",
       "    .dataframe tbody tr th:only-of-type {\n",
       "        vertical-align: middle;\n",
       "    }\n",
       "\n",
       "    .dataframe tbody tr th {\n",
       "        vertical-align: top;\n",
       "    }\n",
       "\n",
       "    .dataframe thead th {\n",
       "        text-align: right;\n",
       "    }\n",
       "</style>\n",
       "<table border=\"1\" class=\"dataframe\">\n",
       "  <thead>\n",
       "    <tr style=\"text-align: right;\">\n",
       "      <th></th>\n",
       "      <th>line_a</th>\n",
       "      <th>line_b</th>\n",
       "    </tr>\n",
       "  </thead>\n",
       "  <tbody>\n",
       "    <tr>\n",
       "      <th>0</th>\n",
       "      <td>QFRQAO'og NrbXBtibmCoqxkvHqV RXFoLZV PzEJEvVwh...</td>\n",
       "      <td>QFRQAO'og NrbXBtibmCoqxkvHqV RXFoLZV PzEJEvVwh...</td>\n",
       "    </tr>\n",
       "    <tr>\n",
       "      <th>1</th>\n",
       "      <td>QFRQAO'og NrbXBtibmCoqxkvHqV RXFoLZV PzEJEvVwh...</td>\n",
       "      <td>C\u000b",
       "|oEhrN{veaNcK(RdBwlhitONjdJq_</td>\n",
       "    </tr>\n",
       "    <tr>\n",
       "      <th>2</th>\n",
       "      <td>QFRQAO'og NrbXBtibmCoqxkvHqV RXFoLZV PzEJEvVwh...</td>\n",
       "      <td>FbAbnjfgNuIzyqjivrDea4S xKLFPzCigoMkN CRKHtzP ...</td>\n",
       "    </tr>\n",
       "    <tr>\n",
       "      <th>3</th>\n",
       "      <td>QFRQAO'og NrbXBtibmCoqxkvHqV RXFoLZV PzEJEvVwh...</td>\n",
       "      <td>keqULtDbxzda.eF^pIUH]</td>\n",
       "    </tr>\n",
       "    <tr>\n",
       "      <th>4</th>\n",
       "      <td>QFRQAO'og NrbXBtibmCoqxkvHqV RXFoLZV PzEJEvVwh...</td>\n",
       "      <td>XJT2spY^PznKWu#gd(wdYJQ-</td>\n",
       "    </tr>\n",
       "  </tbody>\n",
       "</table>\n",
       "</div>"
      ],
      "text/plain": [
       "                                              line_a  \\\n",
       "0  QFRQAO'og NrbXBtibmCoqxkvHqV RXFoLZV PzEJEvVwh...   \n",
       "1  QFRQAO'og NrbXBtibmCoqxkvHqV RXFoLZV PzEJEvVwh...   \n",
       "2  QFRQAO'og NrbXBtibmCoqxkvHqV RXFoLZV PzEJEvVwh...   \n",
       "3  QFRQAO'og NrbXBtibmCoqxkvHqV RXFoLZV PzEJEvVwh...   \n",
       "4  QFRQAO'og NrbXBtibmCoqxkvHqV RXFoLZV PzEJEvVwh...   \n",
       "\n",
       "                                              line_b  \n",
       "0  QFRQAO'og NrbXBtibmCoqxkvHqV RXFoLZV PzEJEvVwh...  \n",
       "1                    C\n",
       "|oEhrN{veaNcK(RdBwlhitONjdJq_  \n",
       "2  FbAbnjfgNuIzyqjivrDea4S xKLFPzCigoMkN CRKHtzP ...  \n",
       "3                              keqULtDbxzda.eF^pIUH]  \n",
       "4                           XJT2spY^PznKWu#gd(wdYJQ-  "
      ]
     },
     "execution_count": 6,
     "metadata": {},
     "output_type": "execute_result"
    }
   ],
   "source": [
    "pairs.head()"
   ]
  },
  {
   "cell_type": "code",
   "execution_count": 7,
   "id": "328d0d02",
   "metadata": {},
   "outputs": [
    {
     "data": {
      "text/plain": [
       "'qnxl|-VRQY^rbjKMWYZUASkmn ZGeQSfEGhPSbCRzSiINUp Exwy FqYtXVrDVuEEq@'"
      ]
     },
     "execution_count": 7,
     "metadata": {},
     "output_type": "execute_result"
    }
   ],
   "source": [
    "a"
   ]
  },
  {
   "cell_type": "code",
   "execution_count": 8,
   "id": "714bf61f",
   "metadata": {},
   "outputs": [
    {
     "data": {
      "text/plain": [
       "'eIucXURvJPnJTI %\"gcsCidOMwQxJxLhZtP lzvOGmgwbWXshSf mYSgd OaBaOZJomtLwMoAtZtJh aVviBbiyEJxWQkR ZeMtLzR4dxJys2IpzFNd wPAFkFPBjftUhzqh?'"
      ]
     },
     "execution_count": 8,
     "metadata": {},
     "output_type": "execute_result"
    }
   ],
   "source": [
    "b"
   ]
  },
  {
   "cell_type": "markdown",
   "id": "efd9edb8",
   "metadata": {},
   "source": [
    "# array of tests"
   ]
  },
  {
   "cell_type": "code",
   "execution_count": 9,
   "id": "2b35b79e",
   "metadata": {},
   "outputs": [
    {
     "data": {
      "text/html": [
       "<div>\n",
       "<style scoped>\n",
       "    .dataframe tbody tr th:only-of-type {\n",
       "        vertical-align: middle;\n",
       "    }\n",
       "\n",
       "    .dataframe tbody tr th {\n",
       "        vertical-align: top;\n",
       "    }\n",
       "\n",
       "    .dataframe thead th {\n",
       "        text-align: right;\n",
       "    }\n",
       "</style>\n",
       "<table border=\"1\" class=\"dataframe\">\n",
       "  <thead>\n",
       "    <tr style=\"text-align: right;\">\n",
       "      <th></th>\n",
       "      <th>9000</th>\n",
       "    </tr>\n",
       "  </thead>\n",
       "  <tbody>\n",
       "    <tr>\n",
       "      <th>line_a</th>\n",
       "      <td>eIucXURvJPnJTI %\"gcsCidOMwQxJxLhZtP lzvOGmgwbW...</td>\n",
       "    </tr>\n",
       "    <tr>\n",
       "      <th>line_b</th>\n",
       "      <td>QFRQAO'og NrbXBtibmCoqxkvHqV RXFoLZV PzEJEvVwh...</td>\n",
       "    </tr>\n",
       "    <tr>\n",
       "      <th>stringdist</th>\n",
       "      <td>124</td>\n",
       "    </tr>\n",
       "    <tr>\n",
       "      <th>stringdist_time</th>\n",
       "      <td>0.000088</td>\n",
       "    </tr>\n",
       "    <tr>\n",
       "      <th>fuzzywuzzy</th>\n",
       "      <td>124</td>\n",
       "    </tr>\n",
       "    <tr>\n",
       "      <th>fuzzywuzzy_time</th>\n",
       "      <td>0.000001</td>\n",
       "    </tr>\n",
       "    <tr>\n",
       "      <th>textdistance</th>\n",
       "      <td>124</td>\n",
       "    </tr>\n",
       "    <tr>\n",
       "      <th>textdistance_time</th>\n",
       "      <td>0.000003</td>\n",
       "    </tr>\n",
       "    <tr>\n",
       "      <th>rapidfuzz</th>\n",
       "      <td>124</td>\n",
       "    </tr>\n",
       "    <tr>\n",
       "      <th>rapidfuzz_time</th>\n",
       "      <td>0.000002</td>\n",
       "    </tr>\n",
       "    <tr>\n",
       "      <th>jellyfish</th>\n",
       "      <td>124</td>\n",
       "    </tr>\n",
       "    <tr>\n",
       "      <th>jellyfish_time</th>\n",
       "      <td>0.000098</td>\n",
       "    </tr>\n",
       "    <tr>\n",
       "      <th>Levenshtein</th>\n",
       "      <td>124</td>\n",
       "    </tr>\n",
       "    <tr>\n",
       "      <th>Levenshtein_time</th>\n",
       "      <td>0.000006</td>\n",
       "    </tr>\n",
       "    <tr>\n",
       "      <th>distance</th>\n",
       "      <td>124</td>\n",
       "    </tr>\n",
       "    <tr>\n",
       "      <th>distance_time</th>\n",
       "      <td>0.003719</td>\n",
       "    </tr>\n",
       "  </tbody>\n",
       "</table>\n",
       "</div>"
      ],
      "text/plain": [
       "                                                                9000\n",
       "line_a             eIucXURvJPnJTI %\"gcsCidOMwQxJxLhZtP lzvOGmgwbW...\n",
       "line_b             QFRQAO'og NrbXBtibmCoqxkvHqV RXFoLZV PzEJEvVwh...\n",
       "stringdist                                                       124\n",
       "stringdist_time                                             0.000088\n",
       "fuzzywuzzy                                                       124\n",
       "fuzzywuzzy_time                                             0.000001\n",
       "textdistance                                                     124\n",
       "textdistance_time                                           0.000003\n",
       "rapidfuzz                                                        124\n",
       "rapidfuzz_time                                              0.000002\n",
       "jellyfish                                                        124\n",
       "jellyfish_time                                              0.000098\n",
       "Levenshtein                                                      124\n",
       "Levenshtein_time                                            0.000006\n",
       "distance                                                         124\n",
       "distance_time                                               0.003719"
      ]
     },
     "execution_count": 9,
     "metadata": {},
     "output_type": "execute_result"
    }
   ],
   "source": [
    "testpairs.sample().T"
   ]
  },
  {
   "cell_type": "code",
   "execution_count": 10,
   "id": "4936d3eb",
   "metadata": {},
   "outputs": [
    {
     "data": {
      "text/html": [
       "<div>\n",
       "<style scoped>\n",
       "    .dataframe tbody tr th:only-of-type {\n",
       "        vertical-align: middle;\n",
       "    }\n",
       "\n",
       "    .dataframe tbody tr th {\n",
       "        vertical-align: top;\n",
       "    }\n",
       "\n",
       "    .dataframe thead th {\n",
       "        text-align: right;\n",
       "    }\n",
       "</style>\n",
       "<table border=\"1\" class=\"dataframe\">\n",
       "  <thead>\n",
       "    <tr style=\"text-align: right;\">\n",
       "      <th></th>\n",
       "      <th>library</th>\n",
       "      <th>method</th>\n",
       "      <th>time</th>\n",
       "    </tr>\n",
       "  </thead>\n",
       "  <tbody>\n",
       "    <tr>\n",
       "      <th>1</th>\n",
       "      <td>fuzzywuzzy</td>\n",
       "      <td>&lt;function distance at 0x106943ce0&gt;</td>\n",
       "      <td>0.065540</td>\n",
       "    </tr>\n",
       "    <tr>\n",
       "      <th>3</th>\n",
       "      <td>rapidfuzz</td>\n",
       "      <td>&lt;cyfunction distance at 0x1377fbc60&gt;</td>\n",
       "      <td>0.065566</td>\n",
       "    </tr>\n",
       "    <tr>\n",
       "      <th>5</th>\n",
       "      <td>Levenshtein</td>\n",
       "      <td>&lt;function distance at 0x106943ce0&gt;</td>\n",
       "      <td>0.070346</td>\n",
       "    </tr>\n",
       "    <tr>\n",
       "      <th>2</th>\n",
       "      <td>textdistance</td>\n",
       "      <td>Levenshtein({'qval': 1, 'test_func': &lt;function...</td>\n",
       "      <td>0.078445</td>\n",
       "    </tr>\n",
       "    <tr>\n",
       "      <th>0</th>\n",
       "      <td>stringdist</td>\n",
       "      <td>&lt;built-in function levenshtein&gt;</td>\n",
       "      <td>0.394529</td>\n",
       "    </tr>\n",
       "    <tr>\n",
       "      <th>4</th>\n",
       "      <td>jellyfish</td>\n",
       "      <td>&lt;built-in function levenshtein_distance&gt;</td>\n",
       "      <td>0.478058</td>\n",
       "    </tr>\n",
       "    <tr>\n",
       "      <th>6</th>\n",
       "      <td>distance</td>\n",
       "      <td>&lt;function levenshtein at 0x13790c9a0&gt;</td>\n",
       "      <td>15.097588</td>\n",
       "    </tr>\n",
       "  </tbody>\n",
       "</table>\n",
       "</div>"
      ],
      "text/plain": [
       "        library                                             method       time\n",
       "1    fuzzywuzzy                 <function distance at 0x106943ce0>   0.065540\n",
       "3     rapidfuzz               <cyfunction distance at 0x1377fbc60>   0.065566\n",
       "5   Levenshtein                 <function distance at 0x106943ce0>   0.070346\n",
       "2  textdistance  Levenshtein({'qval': 1, 'test_func': <function...   0.078445\n",
       "0    stringdist                    <built-in function levenshtein>   0.394529\n",
       "4     jellyfish           <built-in function levenshtein_distance>   0.478058\n",
       "6      distance              <function levenshtein at 0x13790c9a0>  15.097588"
      ]
     },
     "execution_count": 10,
     "metadata": {},
     "output_type": "execute_result"
    }
   ],
   "source": [
    "tests.sort_values('time')"
   ]
  },
  {
   "cell_type": "code",
   "execution_count": null,
   "id": "a16ec3d2",
   "metadata": {},
   "outputs": [],
   "source": []
  }
 ],
 "metadata": {
  "kernelspec": {
   "display_name": "Python 3 (ipykernel)",
   "language": "python",
   "name": "python3"
  },
  "language_info": {
   "codemirror_mode": {
    "name": "ipython",
    "version": 3
   },
   "file_extension": ".py",
   "mimetype": "text/x-python",
   "name": "python",
   "nbconvert_exporter": "python",
   "pygments_lexer": "ipython3",
   "version": "3.11.6"
  },
  "toc": {
   "base_numbering": 1,
   "nav_menu": {},
   "number_sections": true,
   "sideBar": true,
   "skip_h1_title": false,
   "title_cell": "Table of Contents",
   "title_sidebar": "Contents",
   "toc_cell": false,
   "toc_position": {},
   "toc_section_display": true,
   "toc_window_display": false
  },
  "varInspector": {
   "cols": {
    "lenName": 16,
    "lenType": 16,
    "lenVar": 40
   },
   "kernels_config": {
    "python": {
     "delete_cmd_postfix": "",
     "delete_cmd_prefix": "del ",
     "library": "var_list.py",
     "varRefreshCmd": "print(var_dic_list())"
    },
    "r": {
     "delete_cmd_postfix": ") ",
     "delete_cmd_prefix": "rm(",
     "library": "var_list.r",
     "varRefreshCmd": "cat(var_dic_list()) "
    }
   },
   "types_to_exclude": [
    "module",
    "function",
    "builtin_function_or_method",
    "instance",
    "_Feature"
   ],
   "window_display": false
  }
 },
 "nbformat": 4,
 "nbformat_minor": 5
}
